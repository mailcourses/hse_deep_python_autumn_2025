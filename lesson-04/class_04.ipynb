{
 "cells": [
  {
   "cell_type": "code",
   "execution_count": 25,
   "id": "256ce273-7d3d-478e-84e7-10f253b59777",
   "metadata": {},
   "outputs": [],
   "source": [
    "class Person:\n",
    "    def __init__(self, name, age):\n",
    "        self.age = age\n",
    "        self._name = name\n",
    "\n",
    "    @property\n",
    "    def age(self):\n",
    "        print(f\"Person {self._age=}\")\n",
    "        return self._age\n",
    "\n",
    "    @age.setter\n",
    "    def age(self, val):\n",
    "        if not (isinstance(val, int) and val >= 0):\n",
    "            raise ValueError(\"age must be non-negative int\")\n",
    "        self._age = val\n",
    "        print(f\"Person set {self._age=}, {val=}\")\n",
    "\n",
    "    @property\n",
    "    def name(self):\n",
    "        print(f\"Person {self._name=}\")\n",
    "        return self._name\n",
    "\n",
    "    def calc(self, val):\n",
    "        print(\"Person.calc\", val)"
   ]
  },
  {
   "cell_type": "code",
   "execution_count": null,
   "id": "8bc1c621-9fd1-47d0-9b18-55201d747735",
   "metadata": {},
   "outputs": [],
   "source": []
  },
  {
   "cell_type": "code",
   "execution_count": 26,
   "id": "7b1215a0-4ec9-4fb6-9d2e-46c947d9f948",
   "metadata": {},
   "outputs": [
    {
     "name": "stdout",
     "output_type": "stream",
     "text": [
      "Person set self._age=99, val=99\n"
     ]
    }
   ],
   "source": [
    "steve = Person(\"steve\", 99)"
   ]
  },
  {
   "cell_type": "code",
   "execution_count": 3,
   "id": "425d2485-fc48-434f-93e2-8336b640cf39",
   "metadata": {},
   "outputs": [
    {
     "data": {
      "text/plain": [
       "{'_age': 99, '_name': 'steve'}"
      ]
     },
     "execution_count": 3,
     "metadata": {},
     "output_type": "execute_result"
    }
   ],
   "source": [
    "steve.__dict__"
   ]
  },
  {
   "cell_type": "code",
   "execution_count": 4,
   "id": "3de324e0-a29a-4357-a383-707941a66f46",
   "metadata": {},
   "outputs": [
    {
     "data": {
      "text/plain": [
       "mappingproxy({'__module__': '__main__',\n",
       "              '__firstlineno__': 1,\n",
       "              '__init__': <function __main__.Person.__init__(self, name, age)>,\n",
       "              'age': <property at 0x10b717fb0>,\n",
       "              'name': <property at 0x10b717ec0>,\n",
       "              '__static_attributes__': ('_age', '_name', 'age'),\n",
       "              '__dict__': <attribute '__dict__' of 'Person' objects>,\n",
       "              '__weakref__': <attribute '__weakref__' of 'Person' objects>,\n",
       "              '__doc__': None})"
      ]
     },
     "execution_count": 4,
     "metadata": {},
     "output_type": "execute_result"
    }
   ],
   "source": [
    "Person.__dict__"
   ]
  },
  {
   "cell_type": "code",
   "execution_count": 5,
   "id": "e4b299db-779e-4b40-9a48-4e08b4f13b13",
   "metadata": {},
   "outputs": [
    {
     "name": "stdout",
     "output_type": "stream",
     "text": [
      "Person self._age=99\n",
      "Person self._name='steve'\n"
     ]
    },
    {
     "data": {
      "text/plain": [
       "(99, 'steve')"
      ]
     },
     "execution_count": 5,
     "metadata": {},
     "output_type": "execute_result"
    }
   ],
   "source": [
    "steve.age, steve.name"
   ]
  },
  {
   "cell_type": "code",
   "execution_count": 6,
   "id": "dd9f788d-d283-405f-bd6b-db81d81af8e5",
   "metadata": {},
   "outputs": [
    {
     "ename": "AttributeError",
     "evalue": "property 'name' of 'Person' object has no setter",
     "output_type": "error",
     "traceback": [
      "\u001b[31m---------------------------------------------------------------------------\u001b[39m",
      "\u001b[31mAttributeError\u001b[39m                            Traceback (most recent call last)",
      "\u001b[36mCell\u001b[39m\u001b[36m \u001b[39m\u001b[32mIn[6]\u001b[39m\u001b[32m, line 1\u001b[39m\n\u001b[32m----> \u001b[39m\u001b[32m1\u001b[39m \u001b[43msteve\u001b[49m\u001b[43m.\u001b[49m\u001b[43mname\u001b[49m = \u001b[33m\"\u001b[39m\u001b[33mupdate_steve\u001b[39m\u001b[33m\"\u001b[39m\n",
      "\u001b[31mAttributeError\u001b[39m: property 'name' of 'Person' object has no setter"
     ]
    }
   ],
   "source": [
    "steve.name = \"update_steve\""
   ]
  },
  {
   "cell_type": "code",
   "execution_count": 7,
   "id": "5fd914a0-1b04-4abf-92ea-5afef490cedf",
   "metadata": {},
   "outputs": [
    {
     "name": "stdout",
     "output_type": "stream",
     "text": [
      "Person self._age=99\n",
      "Person self._name='steve'\n"
     ]
    },
    {
     "data": {
      "text/plain": [
       "(99, 'steve')"
      ]
     },
     "execution_count": 7,
     "metadata": {},
     "output_type": "execute_result"
    }
   ],
   "source": [
    "steve.age, steve.name"
   ]
  },
  {
   "cell_type": "code",
   "execution_count": 8,
   "id": "f1784d13-668e-4279-bab4-04f91175f34d",
   "metadata": {},
   "outputs": [
    {
     "name": "stdout",
     "output_type": "stream",
     "text": [
      "Person set self._age=88, val=88\n"
     ]
    }
   ],
   "source": [
    "steve.age = 88"
   ]
  },
  {
   "cell_type": "code",
   "execution_count": 12,
   "id": "f3a54653-284d-433e-a2be-7a0c8cc12e53",
   "metadata": {},
   "outputs": [
    {
     "name": "stdout",
     "output_type": "stream",
     "text": [
      "Person self._age=99\n",
      "Person self._name='steve'\n"
     ]
    },
    {
     "data": {
      "text/plain": [
       "(99, 'steve')"
      ]
     },
     "execution_count": 12,
     "metadata": {},
     "output_type": "execute_result"
    }
   ],
   "source": [
    "steve.age, steve.name"
   ]
  },
  {
   "cell_type": "code",
   "execution_count": null,
   "id": "5d57c7bb-2b64-4d58-a677-9f2c54b6a6ef",
   "metadata": {},
   "outputs": [],
   "source": []
  },
  {
   "cell_type": "code",
   "execution_count": 13,
   "id": "b3672e7c-76e8-4ef9-bbda-66acc8b81294",
   "metadata": {},
   "outputs": [
    {
     "ename": "ValueError",
     "evalue": "age must be non-negative int",
     "output_type": "error",
     "traceback": [
      "\u001b[31m---------------------------------------------------------------------------\u001b[39m",
      "\u001b[31mValueError\u001b[39m                                Traceback (most recent call last)",
      "\u001b[36mCell\u001b[39m\u001b[36m \u001b[39m\u001b[32mIn[13]\u001b[39m\u001b[32m, line 1\u001b[39m\n\u001b[32m----> \u001b[39m\u001b[32m1\u001b[39m \u001b[43msteve\u001b[49m\u001b[43m.\u001b[49m\u001b[43mage\u001b[49m = \u001b[33m\"\u001b[39m\u001b[33mage\u001b[39m\u001b[33m\"\u001b[39m\n",
      "\u001b[36mCell\u001b[39m\u001b[36m \u001b[39m\u001b[32mIn[10]\u001b[39m\u001b[32m, line 14\u001b[39m, in \u001b[36mPerson.age\u001b[39m\u001b[34m(self, val)\u001b[39m\n\u001b[32m     11\u001b[39m \u001b[38;5;129m@age\u001b[39m.setter\n\u001b[32m     12\u001b[39m \u001b[38;5;28;01mdef\u001b[39;00m\u001b[38;5;250m \u001b[39m\u001b[34mage\u001b[39m(\u001b[38;5;28mself\u001b[39m, val):\n\u001b[32m     13\u001b[39m     \u001b[38;5;28;01mif\u001b[39;00m \u001b[38;5;129;01mnot\u001b[39;00m (\u001b[38;5;28misinstance\u001b[39m(val, \u001b[38;5;28mint\u001b[39m) \u001b[38;5;129;01mand\u001b[39;00m val >= \u001b[32m0\u001b[39m):\n\u001b[32m---> \u001b[39m\u001b[32m14\u001b[39m         \u001b[38;5;28;01mraise\u001b[39;00m \u001b[38;5;167;01mValueError\u001b[39;00m(\u001b[33m\"\u001b[39m\u001b[33mage must be non-negative int\u001b[39m\u001b[33m\"\u001b[39m)\n\u001b[32m     15\u001b[39m     \u001b[38;5;28mself\u001b[39m._age = val\n\u001b[32m     16\u001b[39m     \u001b[38;5;28mprint\u001b[39m(\u001b[33mf\u001b[39m\u001b[33m\"\u001b[39m\u001b[33mPerson set \u001b[39m\u001b[38;5;132;01m{\u001b[39;00m\u001b[38;5;28mself\u001b[39m._age\u001b[38;5;132;01m=}\u001b[39;00m\u001b[33m, \u001b[39m\u001b[38;5;132;01m{\u001b[39;00mval\u001b[38;5;132;01m=}\u001b[39;00m\u001b[33m\"\u001b[39m)\n",
      "\u001b[31mValueError\u001b[39m: age must be non-negative int"
     ]
    }
   ],
   "source": [
    "steve.age = \"age\""
   ]
  },
  {
   "cell_type": "code",
   "execution_count": 14,
   "id": "d5366429-43c6-4c54-a276-84ef50e91a02",
   "metadata": {},
   "outputs": [
    {
     "name": "stdout",
     "output_type": "stream",
     "text": [
      "Person self._age=99\n",
      "Person self._name='steve'\n"
     ]
    },
    {
     "data": {
      "text/plain": [
       "(99, 'steve')"
      ]
     },
     "execution_count": 14,
     "metadata": {},
     "output_type": "execute_result"
    }
   ],
   "source": [
    "steve.age, steve.name"
   ]
  },
  {
   "cell_type": "code",
   "execution_count": 16,
   "id": "249d5178-191b-4176-83a2-fbf962cbf261",
   "metadata": {},
   "outputs": [
    {
     "ename": "ValueError",
     "evalue": "age must be non-negative int",
     "output_type": "error",
     "traceback": [
      "\u001b[31m---------------------------------------------------------------------------\u001b[39m",
      "\u001b[31mValueError\u001b[39m                                Traceback (most recent call last)",
      "\u001b[36mCell\u001b[39m\u001b[36m \u001b[39m\u001b[32mIn[16]\u001b[39m\u001b[32m, line 1\u001b[39m\n\u001b[32m----> \u001b[39m\u001b[32m1\u001b[39m pers = \u001b[43mPerson\u001b[49m\u001b[43m(\u001b[49m\u001b[33;43m\"\u001b[39;49m\u001b[33;43msteve\u001b[39;49m\u001b[33;43m\"\u001b[39;49m\u001b[43m,\u001b[49m\u001b[43m \u001b[49m\u001b[43m-\u001b[49m\u001b[32;43m99\u001b[39;49m\u001b[43m)\u001b[49m\n",
      "\u001b[36mCell\u001b[39m\u001b[36m \u001b[39m\u001b[32mIn[10]\u001b[39m\u001b[32m, line 3\u001b[39m, in \u001b[36mPerson.__init__\u001b[39m\u001b[34m(self, name, age)\u001b[39m\n\u001b[32m      2\u001b[39m \u001b[38;5;28;01mdef\u001b[39;00m\u001b[38;5;250m \u001b[39m\u001b[34m__init__\u001b[39m(\u001b[38;5;28mself\u001b[39m, name, age):\n\u001b[32m----> \u001b[39m\u001b[32m3\u001b[39m     \u001b[38;5;28;43mself\u001b[39;49m\u001b[43m.\u001b[49m\u001b[43mage\u001b[49m = age\n\u001b[32m      4\u001b[39m     \u001b[38;5;28mself\u001b[39m._name = name\n",
      "\u001b[36mCell\u001b[39m\u001b[36m \u001b[39m\u001b[32mIn[10]\u001b[39m\u001b[32m, line 14\u001b[39m, in \u001b[36mPerson.age\u001b[39m\u001b[34m(self, val)\u001b[39m\n\u001b[32m     11\u001b[39m \u001b[38;5;129m@age\u001b[39m.setter\n\u001b[32m     12\u001b[39m \u001b[38;5;28;01mdef\u001b[39;00m\u001b[38;5;250m \u001b[39m\u001b[34mage\u001b[39m(\u001b[38;5;28mself\u001b[39m, val):\n\u001b[32m     13\u001b[39m     \u001b[38;5;28;01mif\u001b[39;00m \u001b[38;5;129;01mnot\u001b[39;00m (\u001b[38;5;28misinstance\u001b[39m(val, \u001b[38;5;28mint\u001b[39m) \u001b[38;5;129;01mand\u001b[39;00m val >= \u001b[32m0\u001b[39m):\n\u001b[32m---> \u001b[39m\u001b[32m14\u001b[39m         \u001b[38;5;28;01mraise\u001b[39;00m \u001b[38;5;167;01mValueError\u001b[39;00m(\u001b[33m\"\u001b[39m\u001b[33mage must be non-negative int\u001b[39m\u001b[33m\"\u001b[39m)\n\u001b[32m     15\u001b[39m     \u001b[38;5;28mself\u001b[39m._age = val\n\u001b[32m     16\u001b[39m     \u001b[38;5;28mprint\u001b[39m(\u001b[33mf\u001b[39m\u001b[33m\"\u001b[39m\u001b[33mPerson set \u001b[39m\u001b[38;5;132;01m{\u001b[39;00m\u001b[38;5;28mself\u001b[39m._age\u001b[38;5;132;01m=}\u001b[39;00m\u001b[33m, \u001b[39m\u001b[38;5;132;01m{\u001b[39;00mval\u001b[38;5;132;01m=}\u001b[39;00m\u001b[33m\"\u001b[39m)\n",
      "\u001b[31mValueError\u001b[39m: age must be non-negative int"
     ]
    }
   ],
   "source": [
    "pers = Person(\"steve\", -99)"
   ]
  },
  {
   "cell_type": "code",
   "execution_count": 17,
   "id": "ec3bec40-51fc-4e96-addb-aad84056e130",
   "metadata": {},
   "outputs": [
    {
     "ename": "NameError",
     "evalue": "name 'pers' is not defined",
     "output_type": "error",
     "traceback": [
      "\u001b[31m---------------------------------------------------------------------------\u001b[39m",
      "\u001b[31mNameError\u001b[39m                                 Traceback (most recent call last)",
      "\u001b[36mCell\u001b[39m\u001b[36m \u001b[39m\u001b[32mIn[17]\u001b[39m\u001b[32m, line 1\u001b[39m\n\u001b[32m----> \u001b[39m\u001b[32m1\u001b[39m \u001b[43mpers\u001b[49m\n",
      "\u001b[31mNameError\u001b[39m: name 'pers' is not defined"
     ]
    }
   ],
   "source": [
    "pers"
   ]
  },
  {
   "cell_type": "code",
   "execution_count": null,
   "id": "06733c6f-7911-4837-be1c-0da2ad68dca8",
   "metadata": {},
   "outputs": [],
   "source": []
  },
  {
   "cell_type": "code",
   "execution_count": null,
   "id": "c615ac27-1c81-475c-bd8c-bbd989ef1364",
   "metadata": {},
   "outputs": [],
   "source": []
  },
  {
   "cell_type": "code",
   "execution_count": 19,
   "id": "4aabfd6d-b5ca-49ff-8482-ef7bd708e444",
   "metadata": {},
   "outputs": [
    {
     "data": {
      "text/plain": [
       "{'_age': 99, '_name': 'steve'}"
      ]
     },
     "execution_count": 19,
     "metadata": {},
     "output_type": "execute_result"
    }
   ],
   "source": [
    "steve.__dict__"
   ]
  },
  {
   "cell_type": "code",
   "execution_count": 20,
   "id": "6a7cd7d4-e731-498c-a051-8c68a712b68b",
   "metadata": {},
   "outputs": [],
   "source": [
    "steve.__dict__[\"_age\"] = \"age\"\n",
    "steve.__dict__[\"_name\"] = \"updated_steve\""
   ]
  },
  {
   "cell_type": "code",
   "execution_count": 21,
   "id": "ea949e82-fec3-487d-b64b-ffc273c71064",
   "metadata": {},
   "outputs": [
    {
     "name": "stdout",
     "output_type": "stream",
     "text": [
      "Person self._age='age'\n",
      "Person self._name='updated_steve'\n"
     ]
    },
    {
     "data": {
      "text/plain": [
       "('age', 'updated_steve')"
      ]
     },
     "execution_count": 21,
     "metadata": {},
     "output_type": "execute_result"
    }
   ],
   "source": [
    "steve.age, steve.name"
   ]
  },
  {
   "cell_type": "code",
   "execution_count": null,
   "id": "9b635bf8-aeda-48dc-8a6b-55909320b9a5",
   "metadata": {},
   "outputs": [],
   "source": []
  },
  {
   "cell_type": "code",
   "execution_count": null,
   "id": "09038fae-e157-4cfb-9d1f-b6554da3b5ed",
   "metadata": {},
   "outputs": [],
   "source": []
  },
  {
   "cell_type": "code",
   "execution_count": 28,
   "id": "414869e6-6d0b-46d0-a39e-1bbf20161730",
   "metadata": {},
   "outputs": [],
   "source": [
    "steve.__dict__[\"age\"] = \"modified_age\"\n",
    "steve.__dict__[\"name\"] = \"modified_name\""
   ]
  },
  {
   "cell_type": "code",
   "execution_count": 29,
   "id": "0da6f533-380d-4f61-b1f9-c1eeeb05439b",
   "metadata": {},
   "outputs": [
    {
     "name": "stdout",
     "output_type": "stream",
     "text": [
      "Person self._age=99\n",
      "Person self._name='steve'\n"
     ]
    },
    {
     "data": {
      "text/plain": [
       "(99, 'steve')"
      ]
     },
     "execution_count": 29,
     "metadata": {},
     "output_type": "execute_result"
    }
   ],
   "source": [
    "steve.age, steve.name"
   ]
  },
  {
   "cell_type": "code",
   "execution_count": 30,
   "id": "054dc5c1-6a7e-4795-994d-0bdb28a3f73b",
   "metadata": {},
   "outputs": [
    {
     "data": {
      "text/plain": [
       "{'_age': 99, '_name': 'steve', 'age': 'modified_age', 'name': 'modified_name'}"
      ]
     },
     "execution_count": 30,
     "metadata": {},
     "output_type": "execute_result"
    }
   ],
   "source": [
    "steve.__dict__"
   ]
  },
  {
   "cell_type": "code",
   "execution_count": 31,
   "id": "2416c3e6-2c68-4234-97b6-9cfd686ee780",
   "metadata": {},
   "outputs": [
    {
     "name": "stdout",
     "output_type": "stream",
     "text": [
      "Person.calc 25\n"
     ]
    }
   ],
   "source": [
    "steve.calc(25)"
   ]
  },
  {
   "cell_type": "code",
   "execution_count": 32,
   "id": "f11d2da7-a14b-430c-9fcc-562e3b5e8b16",
   "metadata": {},
   "outputs": [],
   "source": [
    "steve.__dict__[\"calc\"] = \"new_calc\""
   ]
  },
  {
   "cell_type": "code",
   "execution_count": 33,
   "id": "249bd29f-cfae-4950-bdbd-403191630d0d",
   "metadata": {},
   "outputs": [
    {
     "data": {
      "text/plain": [
       "{'_age': 99,\n",
       " '_name': 'steve',\n",
       " 'age': 'modified_age',\n",
       " 'name': 'modified_name',\n",
       " 'calc': 'new_calc'}"
      ]
     },
     "execution_count": 33,
     "metadata": {},
     "output_type": "execute_result"
    }
   ],
   "source": [
    "steve.__dict__"
   ]
  },
  {
   "cell_type": "code",
   "execution_count": 36,
   "id": "46dd0721-fb63-4f39-a061-521371029953",
   "metadata": {},
   "outputs": [
    {
     "data": {
      "text/plain": [
       "'new_calc'"
      ]
     },
     "execution_count": 36,
     "metadata": {},
     "output_type": "execute_result"
    }
   ],
   "source": [
    "steve.calc"
   ]
  },
  {
   "cell_type": "code",
   "execution_count": 37,
   "id": "3ffb78e4-b608-4106-8e17-407ae1cc6130",
   "metadata": {},
   "outputs": [],
   "source": [
    "del steve.calc"
   ]
  },
  {
   "cell_type": "code",
   "execution_count": 38,
   "id": "fcd8e419-f154-4b52-86dd-362ebaeea3e8",
   "metadata": {},
   "outputs": [
    {
     "name": "stdout",
     "output_type": "stream",
     "text": [
      "Person.calc 25\n"
     ]
    }
   ],
   "source": [
    "steve.calc(25)"
   ]
  },
  {
   "cell_type": "code",
   "execution_count": 39,
   "id": "77f4534d-2579-4c21-a90b-667e39381d36",
   "metadata": {},
   "outputs": [
    {
     "data": {
      "text/plain": [
       "{'_age': 99, '_name': 'steve', 'age': 'modified_age', 'name': 'modified_name'}"
      ]
     },
     "execution_count": 39,
     "metadata": {},
     "output_type": "execute_result"
    }
   ],
   "source": [
    "steve.__dict__"
   ]
  },
  {
   "cell_type": "code",
   "execution_count": null,
   "id": "4d867f13-a880-4137-8040-402e349098a8",
   "metadata": {},
   "outputs": [],
   "source": []
  },
  {
   "cell_type": "code",
   "execution_count": null,
   "id": "60238014-21cf-44ad-a823-227ee4aad18d",
   "metadata": {},
   "outputs": [],
   "source": []
  },
  {
   "cell_type": "code",
   "execution_count": null,
   "id": "9f5f66b6-3789-4988-8693-f4d33885c5b4",
   "metadata": {},
   "outputs": [],
   "source": []
  },
  {
   "cell_type": "code",
   "execution_count": 40,
   "id": "60fbb230-0446-4fd6-b909-31fac8a670e8",
   "metadata": {},
   "outputs": [],
   "source": [
    "def make_hash_from_password(password):\n",
    "    return hash(password)\n",
    "\n",
    "\n",
    "class User:\n",
    "    def __init__(self, login, password):\n",
    "        self.login = login\n",
    "        self.password_hash = None\n",
    "        self.password = password\n",
    "\n",
    "    @property\n",
    "    def login(self):\n",
    "        return self.__system_id, self.__name\n",
    "\n",
    "    @login.setter\n",
    "    def login(self, val):\n",
    "        self.__system_id, self.__name = val\n",
    "        \n",
    "        print(f\"{self.__system_id=}, {self.__name=}\")\n",
    "\n",
    "    @property\n",
    "    def password(self):\n",
    "        raise AttributeError(\"Password is write-only\")\n",
    "\n",
    "    @password.setter\n",
    "    def password(self, plaintext):\n",
    "        self.password_hash = make_hash_from_password(plaintext)\n"
   ]
  },
  {
   "cell_type": "code",
   "execution_count": 41,
   "id": "e3833872-0279-4a97-ae54-792802583334",
   "metadata": {},
   "outputs": [
    {
     "name": "stdout",
     "output_type": "stream",
     "text": [
      "self.__system_id=999, self.__name='steve'\n"
     ]
    }
   ],
   "source": [
    "steve = User((999, \"steve\"), \"12345\")"
   ]
  },
  {
   "cell_type": "code",
   "execution_count": 43,
   "id": "91895395-3709-4325-a197-dcc848963458",
   "metadata": {},
   "outputs": [
    {
     "ename": "ValueError",
     "evalue": "too many values to unpack (expected 2)",
     "output_type": "error",
     "traceback": [
      "\u001b[31m---------------------------------------------------------------------------\u001b[39m",
      "\u001b[31mValueError\u001b[39m                                Traceback (most recent call last)",
      "\u001b[36mCell\u001b[39m\u001b[36m \u001b[39m\u001b[32mIn[43]\u001b[39m\u001b[32m, line 1\u001b[39m\n\u001b[32m----> \u001b[39m\u001b[32m1\u001b[39m \u001b[43msteve\u001b[49m\u001b[43m.\u001b[49m\u001b[43mlogin\u001b[49m = \u001b[33m\"\u001b[39m\u001b[33mdwkjdkwj\u001b[39m\u001b[33m\"\u001b[39m\n",
      "\u001b[36mCell\u001b[39m\u001b[36m \u001b[39m\u001b[32mIn[40]\u001b[39m\u001b[32m, line 17\u001b[39m, in \u001b[36mUser.login\u001b[39m\u001b[34m(self, val)\u001b[39m\n\u001b[32m     15\u001b[39m \u001b[38;5;129m@login\u001b[39m.setter\n\u001b[32m     16\u001b[39m \u001b[38;5;28;01mdef\u001b[39;00m\u001b[38;5;250m \u001b[39m\u001b[34mlogin\u001b[39m(\u001b[38;5;28mself\u001b[39m, val):\n\u001b[32m---> \u001b[39m\u001b[32m17\u001b[39m     \u001b[38;5;28mself\u001b[39m.__system_id, \u001b[38;5;28mself\u001b[39m.__name = val\n\u001b[32m     19\u001b[39m     \u001b[38;5;28mprint\u001b[39m(\u001b[33mf\u001b[39m\u001b[33m\"\u001b[39m\u001b[38;5;132;01m{\u001b[39;00m\u001b[38;5;28mself\u001b[39m.__system_id\u001b[38;5;132;01m=}\u001b[39;00m\u001b[33m, \u001b[39m\u001b[38;5;132;01m{\u001b[39;00m\u001b[38;5;28mself\u001b[39m.__name\u001b[38;5;132;01m=}\u001b[39;00m\u001b[33m\"\u001b[39m)\n",
      "\u001b[31mValueError\u001b[39m: too many values to unpack (expected 2)"
     ]
    }
   ],
   "source": [
    "steve.login = \"dwkjdkwj\""
   ]
  },
  {
   "cell_type": "code",
   "execution_count": 44,
   "id": "9d76b231-d567-4813-9a05-af85d20509a8",
   "metadata": {},
   "outputs": [
    {
     "ename": "AttributeError",
     "evalue": "Password is write-only",
     "output_type": "error",
     "traceback": [
      "\u001b[31m---------------------------------------------------------------------------\u001b[39m",
      "\u001b[31mAttributeError\u001b[39m                            Traceback (most recent call last)",
      "\u001b[36mCell\u001b[39m\u001b[36m \u001b[39m\u001b[32mIn[44]\u001b[39m\u001b[32m, line 1\u001b[39m\n\u001b[32m----> \u001b[39m\u001b[32m1\u001b[39m \u001b[43msteve\u001b[49m\u001b[43m.\u001b[49m\u001b[43mpassword\u001b[49m\n",
      "\u001b[36mCell\u001b[39m\u001b[36m \u001b[39m\u001b[32mIn[40]\u001b[39m\u001b[32m, line 23\u001b[39m, in \u001b[36mUser.password\u001b[39m\u001b[34m(self)\u001b[39m\n\u001b[32m     21\u001b[39m \u001b[38;5;129m@property\u001b[39m\n\u001b[32m     22\u001b[39m \u001b[38;5;28;01mdef\u001b[39;00m\u001b[38;5;250m \u001b[39m\u001b[34mpassword\u001b[39m(\u001b[38;5;28mself\u001b[39m):\n\u001b[32m---> \u001b[39m\u001b[32m23\u001b[39m     \u001b[38;5;28;01mraise\u001b[39;00m \u001b[38;5;167;01mAttributeError\u001b[39;00m(\u001b[33m\"\u001b[39m\u001b[33mPassword is write-only\u001b[39m\u001b[33m\"\u001b[39m)\n",
      "\u001b[31mAttributeError\u001b[39m: Password is write-only"
     ]
    }
   ],
   "source": [
    "steve.password"
   ]
  },
  {
   "cell_type": "code",
   "execution_count": 45,
   "id": "c81304ce-e2f5-45f9-b159-6dcd97da0a67",
   "metadata": {},
   "outputs": [
    {
     "data": {
      "text/plain": [
       "{'_User__system_id': 999,\n",
       " '_User__name': 'steve',\n",
       " 'password_hash': 3181687054709848191}"
      ]
     },
     "execution_count": 45,
     "metadata": {},
     "output_type": "execute_result"
    }
   ],
   "source": [
    "steve.__dict__"
   ]
  },
  {
   "cell_type": "code",
   "execution_count": null,
   "id": "c5eb7f53-1168-4d2f-a31e-f6c7251ed601",
   "metadata": {},
   "outputs": [],
   "source": []
  },
  {
   "cell_type": "code",
   "execution_count": 46,
   "id": "09c4ad8c-429b-4054-b018-e4da5de1fa5e",
   "metadata": {},
   "outputs": [],
   "source": [
    "steve.password = \"123456\""
   ]
  },
  {
   "cell_type": "code",
   "execution_count": 47,
   "id": "b467b36e-87e3-4efe-a3ea-a8d7cd04b906",
   "metadata": {},
   "outputs": [
    {
     "data": {
      "text/plain": [
       "{'_User__system_id': 999,\n",
       " '_User__name': 'steve',\n",
       " 'password_hash': -3625561019045039867}"
      ]
     },
     "execution_count": 47,
     "metadata": {},
     "output_type": "execute_result"
    }
   ],
   "source": [
    "steve.__dict__"
   ]
  },
  {
   "cell_type": "code",
   "execution_count": null,
   "id": "a7815886-1f9d-4586-bdc9-34251661a723",
   "metadata": {},
   "outputs": [],
   "source": []
  },
  {
   "cell_type": "code",
   "execution_count": null,
   "id": "d9d92cd6-f37d-4912-a6bb-b7ad6d96cfba",
   "metadata": {},
   "outputs": [],
   "source": []
  },
  {
   "cell_type": "code",
   "execution_count": null,
   "id": "5e32e4c6-c931-47ff-a941-0c22b6ee45d7",
   "metadata": {},
   "outputs": [],
   "source": []
  },
  {
   "cell_type": "code",
   "execution_count": 59,
   "id": "c0bd2f00-f034-48e5-b6d8-2d4cb8fe3ff7",
   "metadata": {},
   "outputs": [
    {
     "name": "stdout",
     "output_type": "stream",
     "text": [
      "__setattr__ name='val', val=42\n"
     ]
    }
   ],
   "source": [
    "class AttrAccess:\n",
    "    name = \"cls_attribut_access\"\n",
    "\n",
    "    def __init__(self, val):\n",
    "        self.val = val\n",
    "\n",
    "    def __getattribute__(self, name):\n",
    "        print(f\"__getattribute__ {name=}\")\n",
    "        \n",
    "        return super().__getattribute__(name)\n",
    "            \n",
    "    def __setattr__(self, name, val):\n",
    "        print(f\"__setattr__ {name=}, {val=}\")\n",
    "        \n",
    "        return super().__setattr__(name, val)\n",
    "\n",
    "    def __delattr__(self, name):\n",
    "        print(f\"__delattr__ {name=}\")\n",
    "        \n",
    "        return super().__delattr__(name)\n",
    "\n",
    "    def calc(self, val):\n",
    "        print(f\"calc\", val)\n",
    "\n",
    "    \n",
    "attr = AttrAccess(42)"
   ]
  },
  {
   "cell_type": "code",
   "execution_count": 51,
   "id": "be7fba9e-e6f7-4cc1-a32d-fdcd26eb1a34",
   "metadata": {},
   "outputs": [
    {
     "name": "stdout",
     "output_type": "stream",
     "text": [
      "__getattribute__ name='val'\n"
     ]
    },
    {
     "data": {
      "text/plain": [
       "42"
      ]
     },
     "execution_count": 51,
     "metadata": {},
     "output_type": "execute_result"
    }
   ],
   "source": [
    "attr.val"
   ]
  },
  {
   "cell_type": "code",
   "execution_count": 53,
   "id": "805947b8-7ad3-4ecf-a9ef-69a884397f48",
   "metadata": {},
   "outputs": [
    {
     "name": "stdout",
     "output_type": "stream",
     "text": [
      "__getattribute__ name='calc'\n",
      "calc 99\n"
     ]
    }
   ],
   "source": [
    "attr.calc(99)"
   ]
  },
  {
   "cell_type": "code",
   "execution_count": 54,
   "id": "d2758957-8325-4fae-b1f3-59001d43d749",
   "metadata": {},
   "outputs": [
    {
     "name": "stdout",
     "output_type": "stream",
     "text": [
      "__getattribute__ name='name'\n"
     ]
    },
    {
     "data": {
      "text/plain": [
       "'cls_attribut_access'"
      ]
     },
     "execution_count": 54,
     "metadata": {},
     "output_type": "execute_result"
    }
   ],
   "source": [
    "attr.name"
   ]
  },
  {
   "cell_type": "code",
   "execution_count": 55,
   "id": "1a5ba2c1-dd07-47a8-890d-e9667658127e",
   "metadata": {},
   "outputs": [
    {
     "name": "stdout",
     "output_type": "stream",
     "text": [
      "__getattribute__ name='fake'\n"
     ]
    },
    {
     "ename": "AttributeError",
     "evalue": "'AttrAccess' object has no attribute 'fake'",
     "output_type": "error",
     "traceback": [
      "\u001b[31m---------------------------------------------------------------------------\u001b[39m",
      "\u001b[31mAttributeError\u001b[39m                            Traceback (most recent call last)",
      "\u001b[36mCell\u001b[39m\u001b[36m \u001b[39m\u001b[32mIn[55]\u001b[39m\u001b[32m, line 1\u001b[39m\n\u001b[32m----> \u001b[39m\u001b[32m1\u001b[39m \u001b[43mattr\u001b[49m\u001b[43m.\u001b[49m\u001b[43mfake\u001b[49m\n",
      "\u001b[36mCell\u001b[39m\u001b[36m \u001b[39m\u001b[32mIn[50]\u001b[39m\u001b[32m, line 10\u001b[39m, in \u001b[36mAttrAccess.__getattribute__\u001b[39m\u001b[34m(self, name)\u001b[39m\n\u001b[32m      7\u001b[39m \u001b[38;5;28;01mdef\u001b[39;00m\u001b[38;5;250m \u001b[39m\u001b[34m__getattribute__\u001b[39m(\u001b[38;5;28mself\u001b[39m, name):\n\u001b[32m      8\u001b[39m     \u001b[38;5;28mprint\u001b[39m(\u001b[33mf\u001b[39m\u001b[33m\"\u001b[39m\u001b[33m__getattribute__ \u001b[39m\u001b[38;5;132;01m{\u001b[39;00mname\u001b[38;5;132;01m=}\u001b[39;00m\u001b[33m\"\u001b[39m)\n\u001b[32m---> \u001b[39m\u001b[32m10\u001b[39m     \u001b[38;5;28;01mreturn\u001b[39;00m \u001b[38;5;28;43msuper\u001b[39;49m\u001b[43m(\u001b[49m\u001b[43m)\u001b[49m\u001b[43m.\u001b[49m\u001b[34;43m__getattribute__\u001b[39;49m\u001b[43m(\u001b[49m\u001b[43mname\u001b[49m\u001b[43m)\u001b[49m\n",
      "\u001b[31mAttributeError\u001b[39m: 'AttrAccess' object has no attribute 'fake'"
     ]
    }
   ],
   "source": [
    "attr.fake"
   ]
  },
  {
   "cell_type": "code",
   "execution_count": 56,
   "id": "7fb81b2c-b508-4f7a-8516-89e67b7152a9",
   "metadata": {},
   "outputs": [
    {
     "name": "stdout",
     "output_type": "stream",
     "text": [
      "__setattr__ name='fake', val='fake_val'\n"
     ]
    }
   ],
   "source": [
    "attr.fake = \"fake_val\""
   ]
  },
  {
   "cell_type": "code",
   "execution_count": 57,
   "id": "3c3551f0-8f1d-41cd-ae61-9e35a3e513b5",
   "metadata": {},
   "outputs": [
    {
     "name": "stdout",
     "output_type": "stream",
     "text": [
      "__getattribute__ name='fake'\n"
     ]
    },
    {
     "data": {
      "text/plain": [
       "'fake_val'"
      ]
     },
     "execution_count": 57,
     "metadata": {},
     "output_type": "execute_result"
    }
   ],
   "source": [
    "attr.fake"
   ]
  },
  {
   "cell_type": "code",
   "execution_count": 58,
   "id": "d0189a90-f7bb-4290-85b7-80fe2cf0d6c1",
   "metadata": {},
   "outputs": [
    {
     "name": "stdout",
     "output_type": "stream",
     "text": [
      "__delattr__ name='fake'\n"
     ]
    }
   ],
   "source": [
    "del attr.fake"
   ]
  },
  {
   "cell_type": "code",
   "execution_count": null,
   "id": "23cbfaa7-7c0a-4fe7-ae18-1021a2130b36",
   "metadata": {},
   "outputs": [],
   "source": []
  },
  {
   "cell_type": "code",
   "execution_count": null,
   "id": "beff029f-737d-4705-9b4b-d408b5329fd8",
   "metadata": {},
   "outputs": [],
   "source": []
  },
  {
   "cell_type": "code",
   "execution_count": 66,
   "id": "65fc131d-5bc2-429a-b4cc-c913c1f86a19",
   "metadata": {},
   "outputs": [
    {
     "name": "stdout",
     "output_type": "stream",
     "text": [
      "__setattr__ name='val', val=42\n"
     ]
    }
   ],
   "source": [
    "class AttrAccess:\n",
    "    name = \"cls_attribut_access\"\n",
    "\n",
    "    def __init__(self, val):\n",
    "        self.val = val\n",
    "\n",
    "    def __getattr__(self, name):\n",
    "        print(f\"__getatt__ {name=}\")\n",
    "        \n",
    "        raise AttributeError(f\"attr {name} does not exist\")\n",
    "\n",
    "    def __getattribute__(self, name):\n",
    "        print(f\"__getattribute__ {name=}\")\n",
    "        \n",
    "        return super().__getattribute__(name)\n",
    "            \n",
    "    def __setattr__(self, name, val):\n",
    "        print(f\"__setattr__ {name=}, {val=}\")\n",
    "        \n",
    "        return super().__setattr__(name, val)\n",
    "\n",
    "    def __delattr__(self, name):\n",
    "        print(f\"__delattr__ {name=}\")\n",
    "        \n",
    "        return super().__delattr__(name)\n",
    "\n",
    "    def calc(self, val):\n",
    "        print(f\"calc\", val)\n",
    "\n",
    "    \n",
    "attr = AttrAccess(42)"
   ]
  },
  {
   "cell_type": "code",
   "execution_count": 63,
   "id": "5cb8bede-560c-43e0-a253-b8318d05d375",
   "metadata": {},
   "outputs": [
    {
     "name": "stdout",
     "output_type": "stream",
     "text": [
      "__getattribute__ name='fake'\n",
      "__getatt__ name='fake'\n"
     ]
    },
    {
     "data": {
      "text/plain": [
       "'none'"
      ]
     },
     "execution_count": 63,
     "metadata": {},
     "output_type": "execute_result"
    }
   ],
   "source": [
    "attr.fake"
   ]
  },
  {
   "cell_type": "code",
   "execution_count": 64,
   "id": "1a7a9adf-fe44-44a7-8955-fe8eca41ec59",
   "metadata": {},
   "outputs": [
    {
     "name": "stdout",
     "output_type": "stream",
     "text": [
      "__getattribute__ name='__dict__'\n"
     ]
    },
    {
     "data": {
      "text/plain": [
       "{'val': 42}"
      ]
     },
     "execution_count": 64,
     "metadata": {},
     "output_type": "execute_result"
    }
   ],
   "source": [
    "attr.__dict__"
   ]
  },
  {
   "cell_type": "code",
   "execution_count": 67,
   "id": "9940445a-8b70-42dc-8a1f-04f1dd86c8fd",
   "metadata": {},
   "outputs": [
    {
     "name": "stdout",
     "output_type": "stream",
     "text": [
      "__getattribute__ name='fake'\n",
      "__getatt__ name='fake'\n"
     ]
    },
    {
     "ename": "AttributeError",
     "evalue": "attr fake does not exist",
     "output_type": "error",
     "traceback": [
      "\u001b[31m---------------------------------------------------------------------------\u001b[39m",
      "\u001b[31mAttributeError\u001b[39m                            Traceback (most recent call last)",
      "\u001b[36mCell\u001b[39m\u001b[36m \u001b[39m\u001b[32mIn[67]\u001b[39m\u001b[32m, line 1\u001b[39m\n\u001b[32m----> \u001b[39m\u001b[32m1\u001b[39m \u001b[43mattr\u001b[49m\u001b[43m.\u001b[49m\u001b[43mfake\u001b[49m\n",
      "\u001b[36mCell\u001b[39m\u001b[36m \u001b[39m\u001b[32mIn[66]\u001b[39m\u001b[32m, line 10\u001b[39m, in \u001b[36mAttrAccess.__getattr__\u001b[39m\u001b[34m(self, name)\u001b[39m\n\u001b[32m      7\u001b[39m \u001b[38;5;28;01mdef\u001b[39;00m\u001b[38;5;250m \u001b[39m\u001b[34m__getattr__\u001b[39m(\u001b[38;5;28mself\u001b[39m, name):\n\u001b[32m      8\u001b[39m     \u001b[38;5;28mprint\u001b[39m(\u001b[33mf\u001b[39m\u001b[33m\"\u001b[39m\u001b[33m__getatt__ \u001b[39m\u001b[38;5;132;01m{\u001b[39;00mname\u001b[38;5;132;01m=}\u001b[39;00m\u001b[33m\"\u001b[39m)\n\u001b[32m---> \u001b[39m\u001b[32m10\u001b[39m     \u001b[38;5;28;01mraise\u001b[39;00m \u001b[38;5;167;01mAttributeError\u001b[39;00m(\u001b[33mf\u001b[39m\u001b[33m\"\u001b[39m\u001b[33mattr \u001b[39m\u001b[38;5;132;01m{\u001b[39;00mname\u001b[38;5;132;01m}\u001b[39;00m\u001b[33m does not exist\u001b[39m\u001b[33m\"\u001b[39m)\n",
      "\u001b[31mAttributeError\u001b[39m: attr fake does not exist"
     ]
    }
   ],
   "source": [
    "attr.fake"
   ]
  },
  {
   "cell_type": "code",
   "execution_count": 71,
   "id": "a66c4522-01f4-47cf-b460-613e90a035fe",
   "metadata": {},
   "outputs": [
    {
     "name": "stdout",
     "output_type": "stream",
     "text": [
      "__getattribute__ name='val'\n"
     ]
    },
    {
     "data": {
      "text/plain": [
       "42"
      ]
     },
     "execution_count": 71,
     "metadata": {},
     "output_type": "execute_result"
    }
   ],
   "source": [
    "attr.val"
   ]
  },
  {
   "cell_type": "code",
   "execution_count": null,
   "id": "2ccf2169-4355-427b-9fd9-9642b0db35c6",
   "metadata": {},
   "outputs": [],
   "source": []
  },
  {
   "cell_type": "code",
   "execution_count": null,
   "id": "fb9ef23b-b3d4-4ec0-a007-df4871bbf78c",
   "metadata": {},
   "outputs": [],
   "source": []
  },
  {
   "cell_type": "code",
   "execution_count": 74,
   "id": "0a35ee2d-d693-4843-bf77-8fbc3f49a605",
   "metadata": {},
   "outputs": [
    {
     "name": "stdout",
     "output_type": "stream",
     "text": [
      "__getattribute__ name='val'\n",
      "__getattribute__ name='val'\n"
     ]
    },
    {
     "data": {
      "text/plain": [
       "(True, 42)"
      ]
     },
     "execution_count": 74,
     "metadata": {},
     "output_type": "execute_result"
    }
   ],
   "source": [
    "hasattr(attr, \"val\"), getattr(attr, \"val\")"
   ]
  },
  {
   "cell_type": "code",
   "execution_count": 73,
   "id": "605fa7b7-b90d-4a7c-adf4-60a2eee3dc6e",
   "metadata": {},
   "outputs": [
    {
     "name": "stdout",
     "output_type": "stream",
     "text": [
      "__getattribute__ name='__dict__'\n"
     ]
    },
    {
     "data": {
      "text/plain": [
       "{'val': 42}"
      ]
     },
     "execution_count": 73,
     "metadata": {},
     "output_type": "execute_result"
    }
   ],
   "source": [
    "attr.__dict__"
   ]
  },
  {
   "cell_type": "code",
   "execution_count": 75,
   "id": "dce2bb13-4715-4c63-95f2-0a6fcc2a0bd8",
   "metadata": {},
   "outputs": [
    {
     "name": "stdout",
     "output_type": "stream",
     "text": [
      "__getattribute__ name='val1223'\n",
      "__getatt__ name='val1223'\n"
     ]
    },
    {
     "data": {
      "text/plain": [
       "'default'"
      ]
     },
     "execution_count": 75,
     "metadata": {},
     "output_type": "execute_result"
    }
   ],
   "source": [
    "getattr(attr, \"val1223\", \"default\")"
   ]
  },
  {
   "cell_type": "code",
   "execution_count": 76,
   "id": "6abeb37e-218a-47e9-b190-a5597cf86e95",
   "metadata": {},
   "outputs": [
    {
     "name": "stdout",
     "output_type": "stream",
     "text": [
      "__getattribute__ name='val1223'\n",
      "__getatt__ name='val1223'\n",
      "default\n"
     ]
    }
   ],
   "source": [
    "try:\n",
    "    val = getattr(attr, \"val1223\")\n",
    "except AttributeError:\n",
    "    val = \"default\"\n",
    "\n",
    "print(val)"
   ]
  },
  {
   "cell_type": "code",
   "execution_count": 77,
   "id": "4cb99229-896a-41df-8c92-1061bc61450c",
   "metadata": {},
   "outputs": [
    {
     "name": "stdout",
     "output_type": "stream",
     "text": [
      "__getattribute__ name='val'\n",
      "42\n"
     ]
    }
   ],
   "source": [
    "try:\n",
    "    val = getattr(attr, \"val\")\n",
    "except AttributeError:\n",
    "    val = \"default\"\n",
    "\n",
    "print(val)"
   ]
  },
  {
   "cell_type": "code",
   "execution_count": 78,
   "id": "e6f30664-a1f6-449b-bf99-da2de07226f6",
   "metadata": {},
   "outputs": [
    {
     "name": "stdout",
     "output_type": "stream",
     "text": [
      "__setattr__ name='fake', val='fake_val'\n"
     ]
    }
   ],
   "source": [
    "setattr(attr, \"fake\", \"fake_val\")"
   ]
  },
  {
   "cell_type": "code",
   "execution_count": 79,
   "id": "f8c00cbc-4073-4a28-84fe-56cb5add6afe",
   "metadata": {},
   "outputs": [
    {
     "name": "stdout",
     "output_type": "stream",
     "text": [
      "__getattribute__ name='fake'\n"
     ]
    },
    {
     "data": {
      "text/plain": [
       "'fake_val'"
      ]
     },
     "execution_count": 79,
     "metadata": {},
     "output_type": "execute_result"
    }
   ],
   "source": [
    "attr.fake"
   ]
  },
  {
   "cell_type": "code",
   "execution_count": 80,
   "id": "e6f7de64-0017-41f1-8f76-7eaa23a1c1ea",
   "metadata": {},
   "outputs": [
    {
     "name": "stdout",
     "output_type": "stream",
     "text": [
      "__getattribute__ name='fake'\n"
     ]
    },
    {
     "data": {
      "text/plain": [
       "'fake_val'"
      ]
     },
     "execution_count": 80,
     "metadata": {},
     "output_type": "execute_result"
    }
   ],
   "source": [
    "getattr(attr, \"fake\")"
   ]
  },
  {
   "cell_type": "code",
   "execution_count": 81,
   "id": "28c64e5e-e2f6-41d3-9cab-fb139d40cfc6",
   "metadata": {},
   "outputs": [
    {
     "name": "stdout",
     "output_type": "stream",
     "text": [
      "__delattr__ name='fake'\n"
     ]
    }
   ],
   "source": [
    "delattr(attr, \"fake\")"
   ]
  },
  {
   "cell_type": "code",
   "execution_count": 84,
   "id": "11040922-9cce-4dbe-97c3-1d2c8379706d",
   "metadata": {},
   "outputs": [
    {
     "name": "stdout",
     "output_type": "stream",
     "text": [
      "__delattr__ name='fake'\n"
     ]
    },
    {
     "ename": "AttributeError",
     "evalue": "'AttrAccess' object has no attribute 'fake'",
     "output_type": "error",
     "traceback": [
      "\u001b[31m---------------------------------------------------------------------------\u001b[39m",
      "\u001b[31mAttributeError\u001b[39m                            Traceback (most recent call last)",
      "\u001b[36mCell\u001b[39m\u001b[36m \u001b[39m\u001b[32mIn[84]\u001b[39m\u001b[32m, line 1\u001b[39m\n\u001b[32m----> \u001b[39m\u001b[32m1\u001b[39m \u001b[38;5;28;43mdelattr\u001b[39;49m\u001b[43m(\u001b[49m\u001b[43mattr\u001b[49m\u001b[43m,\u001b[49m\u001b[43m \u001b[49m\u001b[33;43m\"\u001b[39;49m\u001b[33;43mfake\u001b[39;49m\u001b[33;43m\"\u001b[39;49m\u001b[43m)\u001b[49m\n",
      "\u001b[36mCell\u001b[39m\u001b[36m \u001b[39m\u001b[32mIn[66]\u001b[39m\u001b[32m, line 25\u001b[39m, in \u001b[36mAttrAccess.__delattr__\u001b[39m\u001b[34m(self, name)\u001b[39m\n\u001b[32m     22\u001b[39m \u001b[38;5;28;01mdef\u001b[39;00m\u001b[38;5;250m \u001b[39m\u001b[34m__delattr__\u001b[39m(\u001b[38;5;28mself\u001b[39m, name):\n\u001b[32m     23\u001b[39m     \u001b[38;5;28mprint\u001b[39m(\u001b[33mf\u001b[39m\u001b[33m\"\u001b[39m\u001b[33m__delattr__ \u001b[39m\u001b[38;5;132;01m{\u001b[39;00mname\u001b[38;5;132;01m=}\u001b[39;00m\u001b[33m\"\u001b[39m)\n\u001b[32m---> \u001b[39m\u001b[32m25\u001b[39m     \u001b[38;5;28;01mreturn\u001b[39;00m \u001b[38;5;28;43msuper\u001b[39;49m\u001b[43m(\u001b[49m\u001b[43m)\u001b[49m\u001b[43m.\u001b[49m\u001b[34;43m__delattr__\u001b[39;49m\u001b[43m(\u001b[49m\u001b[43mname\u001b[49m\u001b[43m)\u001b[49m\n",
      "\u001b[31mAttributeError\u001b[39m: 'AttrAccess' object has no attribute 'fake'"
     ]
    }
   ],
   "source": [
    "delattr(attr, \"fake\")"
   ]
  },
  {
   "cell_type": "code",
   "execution_count": null,
   "id": "eae40f03-162d-4173-beb6-d875a880cd90",
   "metadata": {},
   "outputs": [],
   "source": []
  },
  {
   "cell_type": "code",
   "execution_count": null,
   "id": "221b514d-0ce0-40d6-a64e-8cf9b18fcbcd",
   "metadata": {},
   "outputs": [],
   "source": []
  },
  {
   "cell_type": "code",
   "execution_count": 86,
   "id": "e701b77e-78e3-44f2-a94f-7811f843291e",
   "metadata": {},
   "outputs": [],
   "source": [
    "class PersonTable:\n",
    "    \n",
    "    def __init__(self, age):\n",
    "        self.age = age\n",
    "\n",
    "    def calc(self):\n",
    "        print(\"Pers.calc\")\n",
    "        return 123\n",
    "\n",
    "    def __call__(self, data):\n",
    "        print(\"Pers call\", data)\n",
    "        return 123\n",
    "\n",
    "    def __del__(self):\n",
    "        print(\"Pers.__del__\")\n",
    "\n",
    "\n",
    "pers = PersonTable(99)"
   ]
  },
  {
   "cell_type": "code",
   "execution_count": 87,
   "id": "46ddc89a-d952-4c26-aab3-c1bf35845ff4",
   "metadata": {},
   "outputs": [
    {
     "data": {
      "text/plain": [
       "{'age': 99}"
      ]
     },
     "execution_count": 87,
     "metadata": {},
     "output_type": "execute_result"
    }
   ],
   "source": [
    "pers.__dict__"
   ]
  },
  {
   "cell_type": "code",
   "execution_count": 88,
   "id": "a24d82be-f6d6-4d3a-b1d9-9e94f7295ea1",
   "metadata": {},
   "outputs": [
    {
     "data": {
      "text/plain": [
       "99"
      ]
     },
     "execution_count": 88,
     "metadata": {},
     "output_type": "execute_result"
    }
   ],
   "source": [
    "pers.age"
   ]
  },
  {
   "cell_type": "code",
   "execution_count": 89,
   "id": "ea534e5c-bb75-42ea-896c-6d4e6f6edf6e",
   "metadata": {},
   "outputs": [
    {
     "name": "stdout",
     "output_type": "stream",
     "text": [
      "Pers.calc\n"
     ]
    },
    {
     "data": {
      "text/plain": [
       "123"
      ]
     },
     "execution_count": 89,
     "metadata": {},
     "output_type": "execute_result"
    }
   ],
   "source": [
    "pers.calc()"
   ]
  },
  {
   "cell_type": "code",
   "execution_count": 90,
   "id": "75015d28-c5d6-44ae-b3b1-cc1fc3771f3e",
   "metadata": {},
   "outputs": [
    {
     "data": {
      "text/plain": [
       "<bound method PersonTable.calc of <__main__.PersonTable object at 0x10b7512b0>>"
      ]
     },
     "execution_count": 90,
     "metadata": {},
     "output_type": "execute_result"
    }
   ],
   "source": [
    "pers.calc"
   ]
  },
  {
   "cell_type": "code",
   "execution_count": 94,
   "id": "b4458d36-498f-4254-86c5-d9dd718cc47c",
   "metadata": {},
   "outputs": [
    {
     "name": "stdout",
     "output_type": "stream",
     "text": [
      "Pers.calc\n"
     ]
    },
    {
     "data": {
      "text/plain": [
       "123"
      ]
     },
     "execution_count": 94,
     "metadata": {},
     "output_type": "execute_result"
    }
   ],
   "source": [
    "pers.calc.__func__({})"
   ]
  },
  {
   "cell_type": "code",
   "execution_count": 95,
   "id": "5a5f1b9f-3377-4362-bdab-d84437ee0347",
   "metadata": {},
   "outputs": [
    {
     "data": {
      "text/plain": [
       "<__main__.PersonTable at 0x10b7512b0>"
      ]
     },
     "execution_count": 95,
     "metadata": {},
     "output_type": "execute_result"
    }
   ],
   "source": [
    "pers.calc.__self__"
   ]
  },
  {
   "cell_type": "code",
   "execution_count": 96,
   "id": "0cd98941-29df-4d09-95f8-c2ce55586f46",
   "metadata": {},
   "outputs": [
    {
     "data": {
      "text/plain": [
       "<__main__.PersonTable at 0x10b7512b0>"
      ]
     },
     "execution_count": 96,
     "metadata": {},
     "output_type": "execute_result"
    }
   ],
   "source": [
    "pers"
   ]
  },
  {
   "cell_type": "code",
   "execution_count": 97,
   "id": "9ef33810-0bbe-4ea5-a75d-d982588c84be",
   "metadata": {},
   "outputs": [
    {
     "data": {
      "text/plain": [
       "<method-wrapper '__call__' of method object at 0x10c071140>"
      ]
     },
     "execution_count": 97,
     "metadata": {},
     "output_type": "execute_result"
    }
   ],
   "source": [
    "pers.calc.__call__"
   ]
  },
  {
   "cell_type": "code",
   "execution_count": 98,
   "id": "e6648d77-2be6-42fa-b161-3d5cb711dc73",
   "metadata": {},
   "outputs": [
    {
     "ename": "AttributeError",
     "evalue": "'int' object has no attribute '__call__'",
     "output_type": "error",
     "traceback": [
      "\u001b[31m---------------------------------------------------------------------------\u001b[39m",
      "\u001b[31mAttributeError\u001b[39m                            Traceback (most recent call last)",
      "\u001b[36mCell\u001b[39m\u001b[36m \u001b[39m\u001b[32mIn[98]\u001b[39m\u001b[32m, line 1\u001b[39m\n\u001b[32m----> \u001b[39m\u001b[32m1\u001b[39m \u001b[43mpers\u001b[49m\u001b[43m.\u001b[49m\u001b[43mage\u001b[49m\u001b[43m.\u001b[49m\u001b[34;43m__call__\u001b[39;49m\n",
      "\u001b[31mAttributeError\u001b[39m: 'int' object has no attribute '__call__'"
     ]
    }
   ],
   "source": [
    "pers.age.__call__"
   ]
  },
  {
   "cell_type": "code",
   "execution_count": 99,
   "id": "8a2dbba8-766c-403e-96bb-f27ed8ee10e7",
   "metadata": {},
   "outputs": [
    {
     "name": "stdout",
     "output_type": "stream",
     "text": [
      "Pers.calc\n"
     ]
    },
    {
     "data": {
      "text/plain": [
       "123"
      ]
     },
     "execution_count": 99,
     "metadata": {},
     "output_type": "execute_result"
    }
   ],
   "source": [
    "pers.calc()"
   ]
  },
  {
   "cell_type": "code",
   "execution_count": 101,
   "id": "ffa8a88d-82bc-47fe-8d13-0642f728dc97",
   "metadata": {},
   "outputs": [
    {
     "name": "stdout",
     "output_type": "stream",
     "text": [
      "Pers call [1, 2]\n"
     ]
    },
    {
     "data": {
      "text/plain": [
       "123"
      ]
     },
     "execution_count": 101,
     "metadata": {},
     "output_type": "execute_result"
    }
   ],
   "source": [
    "pers([1, 2])"
   ]
  },
  {
   "cell_type": "code",
   "execution_count": 102,
   "id": "f9b6f262-bd57-4188-b3c8-aae75faa1483",
   "metadata": {},
   "outputs": [
    {
     "data": {
      "text/plain": [
       "<bound method PersonTable.__call__ of <__main__.PersonTable object at 0x10b7512b0>>"
      ]
     },
     "execution_count": 102,
     "metadata": {},
     "output_type": "execute_result"
    }
   ],
   "source": [
    "pers.__call__"
   ]
  },
  {
   "cell_type": "code",
   "execution_count": 103,
   "id": "86d7ef76-36f8-40d7-9095-f6e52c4c6c10",
   "metadata": {},
   "outputs": [
    {
     "name": "stdout",
     "output_type": "stream",
     "text": [
      "__getattribute__ name='__call__'\n",
      "__getatt__ name='__call__'\n"
     ]
    },
    {
     "ename": "AttributeError",
     "evalue": "attr __call__ does not exist",
     "output_type": "error",
     "traceback": [
      "\u001b[31m---------------------------------------------------------------------------\u001b[39m",
      "\u001b[31mAttributeError\u001b[39m                            Traceback (most recent call last)",
      "\u001b[36mCell\u001b[39m\u001b[36m \u001b[39m\u001b[32mIn[103]\u001b[39m\u001b[32m, line 1\u001b[39m\n\u001b[32m----> \u001b[39m\u001b[32m1\u001b[39m \u001b[43mattr\u001b[49m\u001b[43m.\u001b[49m\u001b[34;43m__call__\u001b[39;49m\n",
      "\u001b[36mCell\u001b[39m\u001b[36m \u001b[39m\u001b[32mIn[66]\u001b[39m\u001b[32m, line 10\u001b[39m, in \u001b[36mAttrAccess.__getattr__\u001b[39m\u001b[34m(self, name)\u001b[39m\n\u001b[32m      7\u001b[39m \u001b[38;5;28;01mdef\u001b[39;00m\u001b[38;5;250m \u001b[39m\u001b[34m__getattr__\u001b[39m(\u001b[38;5;28mself\u001b[39m, name):\n\u001b[32m      8\u001b[39m     \u001b[38;5;28mprint\u001b[39m(\u001b[33mf\u001b[39m\u001b[33m\"\u001b[39m\u001b[33m__getatt__ \u001b[39m\u001b[38;5;132;01m{\u001b[39;00mname\u001b[38;5;132;01m=}\u001b[39;00m\u001b[33m\"\u001b[39m)\n\u001b[32m---> \u001b[39m\u001b[32m10\u001b[39m     \u001b[38;5;28;01mraise\u001b[39;00m \u001b[38;5;167;01mAttributeError\u001b[39;00m(\u001b[33mf\u001b[39m\u001b[33m\"\u001b[39m\u001b[33mattr \u001b[39m\u001b[38;5;132;01m{\u001b[39;00mname\u001b[38;5;132;01m}\u001b[39;00m\u001b[33m does not exist\u001b[39m\u001b[33m\"\u001b[39m)\n",
      "\u001b[31mAttributeError\u001b[39m: attr __call__ does not exist"
     ]
    }
   ],
   "source": [
    "attr.__call__"
   ]
  },
  {
   "cell_type": "code",
   "execution_count": 105,
   "id": "1a570d4c-57a9-4c1c-9882-33f37a149028",
   "metadata": {},
   "outputs": [
    {
     "name": "stdout",
     "output_type": "stream",
     "text": [
      "<method-wrapper '__call__' of function object at 0x10c4a99e0>\n"
     ]
    }
   ],
   "source": [
    "def fn(): pass\n",
    "\n",
    "print(fn.__call__)"
   ]
  },
  {
   "cell_type": "code",
   "execution_count": 106,
   "id": "0f641b15-645a-46c5-a815-79c7022a4e5d",
   "metadata": {},
   "outputs": [],
   "source": [
    "del pers"
   ]
  },
  {
   "cell_type": "code",
   "execution_count": 112,
   "id": "8b01a8a0-ee3a-4879-9509-d67c28ce3075",
   "metadata": {},
   "outputs": [
    {
     "name": "stdout",
     "output_type": "stream",
     "text": [
      "Pers.__del__\n",
      "Pers.__del__\n"
     ]
    }
   ],
   "source": [
    "pers = PersonTable(99)\n",
    "other = pers\n",
    "\n",
    "del pers\n",
    "del other"
   ]
  },
  {
   "cell_type": "code",
   "execution_count": null,
   "id": "deeb4e3c-27f3-4d2c-bfa9-b3b6b50b154e",
   "metadata": {},
   "outputs": [],
   "source": []
  },
  {
   "cell_type": "code",
   "execution_count": null,
   "id": "e0821595-6493-4a6d-9fdc-aba218e05d30",
   "metadata": {},
   "outputs": [],
   "source": []
  },
  {
   "cell_type": "code",
   "execution_count": null,
   "id": "79e08de6-f3e0-4a9e-b71d-6dbabccf8069",
   "metadata": {},
   "outputs": [],
   "source": []
  },
  {
   "cell_type": "code",
   "execution_count": 113,
   "id": "363149af-c8cb-458e-b7dc-9f18dfb4a553",
   "metadata": {},
   "outputs": [],
   "source": [
    "class Person:\n",
    "    def __init__(self, name, login, system_id):\n",
    "        self.name = name\n",
    "        self._login = login\n",
    "        self.__system_id = system_id\n",
    "\n",
    "    def print_info(self):\n",
    "        print(f\"Person: {self.name=}, {self._login=}, {self.__system_id=}\")"
   ]
  },
  {
   "cell_type": "code",
   "execution_count": 114,
   "id": "7f175676-7acf-4e4d-83dc-f96030885993",
   "metadata": {},
   "outputs": [],
   "source": [
    "pers = Person(\"Steven\", \"steve\", 123)"
   ]
  },
  {
   "cell_type": "code",
   "execution_count": 115,
   "id": "2f7b52a3-89c0-47da-8ad8-ecdc04a060c8",
   "metadata": {},
   "outputs": [
    {
     "name": "stdout",
     "output_type": "stream",
     "text": [
      "Person: self.name='Steven', self._login='steve', self.__system_id=123\n"
     ]
    }
   ],
   "source": [
    "pers.print_info()"
   ]
  },
  {
   "cell_type": "code",
   "execution_count": 116,
   "id": "bbabc768-ac22-4751-afaa-5da8b65abd7d",
   "metadata": {},
   "outputs": [
    {
     "data": {
      "text/plain": [
       "{'name': 'Steven', '_login': 'steve', '_Person__system_id': 123}"
      ]
     },
     "execution_count": 116,
     "metadata": {},
     "output_type": "execute_result"
    }
   ],
   "source": [
    "pers.__dict__"
   ]
  },
  {
   "cell_type": "code",
   "execution_count": null,
   "id": "cb7b5731-c0eb-4646-8bcc-32bcc1eaf2fa",
   "metadata": {},
   "outputs": [],
   "source": []
  },
  {
   "cell_type": "code",
   "execution_count": null,
   "id": "91ca949a-1b2a-499f-a8d6-772ca2854ea5",
   "metadata": {},
   "outputs": [],
   "source": []
  },
  {
   "cell_type": "code",
   "execution_count": 118,
   "id": "278d089a-24aa-4e26-8d27-3428a0a752a1",
   "metadata": {},
   "outputs": [
    {
     "name": "stdout",
     "output_type": "stream",
     "text": [
      "Student.__init__\n",
      "Person.__init__\n",
      "Person.print_info: self.name='Steven', self._login='steve', self.__system_id=123\n"
     ]
    }
   ],
   "source": [
    "class Person:\n",
    "    def __init__(self, name, login, system_id):\n",
    "        print(\"Person.__init__\")\n",
    "        self.name = name\n",
    "        self._login = login\n",
    "        self.__system_id = system_id\n",
    "\n",
    "    def print_info(self):\n",
    "        print(f\"Person.print_info: {self.name=}, {self._login=}, {self.__system_id=}\")\n",
    "\n",
    "\n",
    "class Student(Person):\n",
    "    def __init__(self, school, *args, **kwargs):\n",
    "        print(\"Student.__init__\")\n",
    "        super().__init__(*args, **kwargs)\n",
    "\n",
    "        self.school = school\n",
    "\n",
    "\n",
    "steve = Student(\"hse\", \"Steven\", \"steve\", 123)\n",
    "steve.print_info()"
   ]
  },
  {
   "cell_type": "code",
   "execution_count": 119,
   "id": "4ceab654-5f51-466f-9123-21cf6c990ad4",
   "metadata": {},
   "outputs": [
    {
     "data": {
      "text/plain": [
       "<bound method Person.print_info of <__main__.Student object at 0x10bc04ad0>>"
      ]
     },
     "execution_count": 119,
     "metadata": {},
     "output_type": "execute_result"
    }
   ],
   "source": [
    "steve.print_info"
   ]
  },
  {
   "cell_type": "code",
   "execution_count": null,
   "id": "48cebaed-bc29-43dd-90bc-b1f0b2ed36c7",
   "metadata": {},
   "outputs": [],
   "source": []
  },
  {
   "cell_type": "code",
   "execution_count": null,
   "id": "461a5675-7b9b-464d-b411-5bc2611b8325",
   "metadata": {},
   "outputs": [],
   "source": []
  },
  {
   "cell_type": "code",
   "execution_count": 120,
   "id": "65d26aa5-7f5b-4728-81b6-e4a6217558fa",
   "metadata": {},
   "outputs": [
    {
     "name": "stdout",
     "output_type": "stream",
     "text": [
      "Student.__init__\n",
      "Person.__init__\n",
      "Student.print_info: self.school='hse'\n",
      "Person.print_info: self.name='Steven', self._login='steve', self.__system_id=123\n"
     ]
    }
   ],
   "source": [
    "class Person:\n",
    "    def __init__(self, name, login, system_id):\n",
    "        print(\"Person.__init__\")\n",
    "        self.name = name\n",
    "        self._login = login\n",
    "        self.__system_id = system_id\n",
    "\n",
    "    def print_info(self):\n",
    "        print(f\"Person.print_info: {self.name=}, {self._login=}, {self.__system_id=}\")\n",
    "\n",
    "\n",
    "class Student(Person):\n",
    "    def __init__(self, school, *args, **kwargs):\n",
    "        print(\"Student.__init__\")\n",
    "        super().__init__(*args, **kwargs)\n",
    "\n",
    "        self.school = school\n",
    "\n",
    "    def print_info(self):\n",
    "        print(f\"Student.print_info: {self.school=}\")\n",
    "        super().print_info()\n",
    "\n",
    "\n",
    "steve = Student(\"hse\", \"Steven\", \"steve\", 123)\n",
    "steve.print_info()"
   ]
  },
  {
   "cell_type": "code",
   "execution_count": null,
   "id": "ab9fd285-e2ee-4444-a7a3-72d43ff7e1a0",
   "metadata": {},
   "outputs": [],
   "source": []
  },
  {
   "cell_type": "code",
   "execution_count": 123,
   "id": "82351f19-15dc-4c74-b342-83315151b6e9",
   "metadata": {},
   "outputs": [
    {
     "name": "stdout",
     "output_type": "stream",
     "text": [
      "Student.__init__\n",
      "Person.__init__\n",
      "{'name': 'Steven', '_login': 'steve', '_Person__system_id': 123, 'school': 'hse'}\n"
     ]
    },
    {
     "ename": "AttributeError",
     "evalue": "'Student' object has no attribute '_Student__system_id'",
     "output_type": "error",
     "traceback": [
      "\u001b[31m---------------------------------------------------------------------------\u001b[39m",
      "\u001b[31mAttributeError\u001b[39m                            Traceback (most recent call last)",
      "\u001b[36mCell\u001b[39m\u001b[36m \u001b[39m\u001b[32mIn[123]\u001b[39m\u001b[32m, line 29\u001b[39m\n\u001b[32m     27\u001b[39m steve = Student(\u001b[33m\"\u001b[39m\u001b[33mhse\u001b[39m\u001b[33m\"\u001b[39m, \u001b[33m\"\u001b[39m\u001b[33mSteven\u001b[39m\u001b[33m\"\u001b[39m, \u001b[33m\"\u001b[39m\u001b[33msteve\u001b[39m\u001b[33m\"\u001b[39m, \u001b[32m123\u001b[39m)\n\u001b[32m     28\u001b[39m \u001b[38;5;28mprint\u001b[39m(steve.\u001b[34m__dict__\u001b[39m)\n\u001b[32m---> \u001b[39m\u001b[32m29\u001b[39m \u001b[43msteve\u001b[49m\u001b[43m.\u001b[49m\u001b[43mprint_info\u001b[49m\u001b[43m(\u001b[49m\u001b[43m)\u001b[49m\n",
      "\u001b[36mCell\u001b[39m\u001b[36m \u001b[39m\u001b[32mIn[123]\u001b[39m\u001b[32m, line 23\u001b[39m, in \u001b[36mStudent.print_info\u001b[39m\u001b[34m(self)\u001b[39m\n\u001b[32m     19\u001b[39m \u001b[38;5;28;01mdef\u001b[39;00m\u001b[38;5;250m \u001b[39m\u001b[34mprint_info\u001b[39m(\u001b[38;5;28mself\u001b[39m):\n\u001b[32m     20\u001b[39m     \u001b[38;5;28mprint\u001b[39m(\n\u001b[32m     21\u001b[39m         \u001b[33mf\u001b[39m\u001b[33m\"\u001b[39m\u001b[33mStudent.print_info: \u001b[39m\u001b[33m\"\u001b[39m\n\u001b[32m     22\u001b[39m         \u001b[33mf\u001b[39m\u001b[33m\"\u001b[39m\u001b[38;5;132;01m{\u001b[39;00m\u001b[38;5;28mself\u001b[39m.school\u001b[38;5;132;01m=}\u001b[39;00m\u001b[33m, \u001b[39m\u001b[38;5;132;01m{\u001b[39;00m\u001b[38;5;28mself\u001b[39m.name\u001b[38;5;132;01m=}\u001b[39;00m\u001b[33m, \u001b[39m\u001b[33m\"\u001b[39m\n\u001b[32m---> \u001b[39m\u001b[32m23\u001b[39m         \u001b[33mf\u001b[39m\u001b[33m\"\u001b[39m\u001b[38;5;132;01m{\u001b[39;00m\u001b[38;5;28mself\u001b[39m._login\u001b[38;5;132;01m=}\u001b[39;00m\u001b[33m, \u001b[39m\u001b[38;5;132;01m{\u001b[39;00m\u001b[38;5;28;43mself\u001b[39;49m\u001b[43m.\u001b[49m\u001b[43m__system_id\u001b[49m\u001b[38;5;132;01m=}\u001b[39;00m\u001b[33m\"\u001b[39m\n\u001b[32m     24\u001b[39m     )\n",
      "\u001b[31mAttributeError\u001b[39m: 'Student' object has no attribute '_Student__system_id'"
     ]
    }
   ],
   "source": [
    "class Person:\n",
    "    def __init__(self, name, login, system_id):\n",
    "        print(\"Person.__init__\")\n",
    "        self.name = name\n",
    "        self._login = login\n",
    "        self.__system_id = system_id\n",
    "\n",
    "    def print_info(self):\n",
    "        print(f\"Person.print_info: {self.name=}, {self._login=}, {self.__system_id=}\")\n",
    "\n",
    "\n",
    "class Student(Person):\n",
    "    def __init__(self, school, *args, **kwargs):\n",
    "        print(\"Student.__init__\")\n",
    "        super().__init__(*args, **kwargs)\n",
    "\n",
    "        self.school = school\n",
    "\n",
    "    def print_info(self):\n",
    "        print(\n",
    "            f\"Student.print_info: \"\n",
    "            f\"{self.school=}, {self.name=}, \"\n",
    "            f\"{self._login=}, {self.__system_id=}\"\n",
    "        )\n",
    "\n",
    "\n",
    "steve = Student(\"hse\", \"Steven\", \"steve\", 123)\n",
    "print(steve.__dict__)\n",
    "steve.print_info()"
   ]
  },
  {
   "cell_type": "code",
   "execution_count": null,
   "id": "7cb1b685-9612-4fc2-a67f-435179162875",
   "metadata": {},
   "outputs": [],
   "source": []
  },
  {
   "cell_type": "code",
   "execution_count": 135,
   "id": "16edc530-ff9f-40d3-a712-4e0470baa428",
   "metadata": {},
   "outputs": [
    {
     "name": "stdout",
     "output_type": "stream",
     "text": [
      "Person.__init__\n",
      "{'name': 'Steven', '_login': 'steve'}\n",
      "Person.print_info: self.name='Steven', self._login='steve', self.__system_id='default_system_id', Person.__system_id='default_system_id'\n"
     ]
    }
   ],
   "source": [
    "class Person:\n",
    "    __system_id = \"default_system_id\"\n",
    "\n",
    "    def __init__(self, name, login, system_id):\n",
    "        print(\"Person.__init__\")\n",
    "        self.name = name\n",
    "        self._login = login\n",
    "        self.__system_id = system_id\n",
    "\n",
    "    @property\n",
    "    def system_id(self):\n",
    "        return self.__system_id\n",
    "\n",
    "    def print_info(self):\n",
    "        print(\n",
    "            f\"Person.print_info: {self.name=}, {self._login=}, \"\n",
    "            f\"{self.__system_id=}, {Person.__system_id=}\"\n",
    "        )\n",
    "\n",
    "\n",
    "steve = Person(\"Steven\", \"steve\", 123)\n",
    "print(steve.__dict__)\n",
    "steve.print_info()"
   ]
  },
  {
   "cell_type": "code",
   "execution_count": null,
   "id": "d02f7935-2f57-4ca8-87d3-b4ab80b7683a",
   "metadata": {},
   "outputs": [],
   "source": []
  },
  {
   "cell_type": "code",
   "execution_count": 137,
   "id": "bea47e6b-b203-42f5-9cd3-c43a7459b6d5",
   "metadata": {},
   "outputs": [
    {
     "name": "stdout",
     "output_type": "stream",
     "text": [
      "Student.__init__\n",
      "Person.__init__\n",
      "{'name': 'Student_Steven', '_login': 'Student_steve', '_Person__system_id': 123, '_Student__system_id': 10123, 'school': 'hse'}\n",
      "Student.print_info: self.school='hse', self.name='Student_Steven', self._login='Student_steve', self.system_id=123, self.__system_id=10123\n"
     ]
    }
   ],
   "source": [
    "class Person:\n",
    "    def __init__(self, name, login, system_id):\n",
    "        print(\"Person.__init__\")\n",
    "        self.name = name\n",
    "        self._login = login\n",
    "        self.__system_id = system_id\n",
    "\n",
    "    @property\n",
    "    def system_id(self):\n",
    "        return self.__system_id\n",
    "\n",
    "    def print_info(self):\n",
    "        print(f\"Person.print_info: {self.name=}, {self._login=}, {self.__system_id=}\")\n",
    "\n",
    "\n",
    "class Student(Person):\n",
    "    def __init__(self, school, name, login, system_id):\n",
    "        print(\"Student.__init__\")\n",
    "        super().__init__(name, login, system_id)\n",
    "\n",
    "        self.name = \"Student_\" + name\n",
    "        self._login = \"Student_\" + login\n",
    "        self.__system_id = 10000 + system_id\n",
    "        self.school = school\n",
    "\n",
    "    def print_info(self):\n",
    "        print(\n",
    "            f\"Student.print_info: \"\n",
    "            f\"{self.school=}, {self.name=}, \"\n",
    "            f\"{self._login=}, {self.system_id=}, {self.__system_id=}\"\n",
    "        )\n",
    "\n",
    "\n",
    "steve = Student(\"hse\", \"Steven\", \"steve\", 123)\n",
    "print(steve.__dict__)\n",
    "steve.print_info()"
   ]
  },
  {
   "cell_type": "code",
   "execution_count": null,
   "id": "b1b38aa0-63a4-4c6f-9304-285c134d27ff",
   "metadata": {},
   "outputs": [],
   "source": []
  },
  {
   "cell_type": "code",
   "execution_count": 142,
   "id": "dc01eb96-2220-4f31-8246-2c67ab181d33",
   "metadata": {},
   "outputs": [
    {
     "name": "stdout",
     "output_type": "stream",
     "text": [
      "Student.__init__\n",
      "Person.__init__\n",
      "{'name': 'Student_Steven', '_login': 'Student_steve', '_Person__system_id': 123, '_Student__system_id': 10123, 'school': 'hse'}\n",
      "Student.print_info: self.school='hse', self.name='Student_Steven', self._login='Student_steve', self.system_id=123, self.__system_id=10123\n"
     ]
    }
   ],
   "source": [
    "class Person:\n",
    "    def __init__(self, name, login, system_id):\n",
    "        print(\"Person.__init__\")\n",
    "        self.name = name\n",
    "        self._login = login\n",
    "        self.__system_id = system_id\n",
    "\n",
    "    @property\n",
    "    def system_id(self):\n",
    "        return self.__system_id\n",
    "\n",
    "    def print_info(self):\n",
    "        print(f\"Person.print_info: {self.name=}, {self._login=}, {self.__system_id=}\")\n",
    "\n",
    "\n",
    "class Student(Person):\n",
    "    def __init__(self, school, name, login, system_id):\n",
    "        print(\"Student.__init__\")\n",
    "        super().__init__(name, login, system_id)\n",
    "\n",
    "        self.name = \"Student_\" + name\n",
    "        self._login = \"Student_\" + login\n",
    "        self.__system_id = 10000 + system_id\n",
    "        self.school = school\n",
    "\n",
    "    def print_info(self):\n",
    "        print(\n",
    "            f\"Student.print_info: \"\n",
    "            f\"{self.school=}, {self.name=}, \"\n",
    "            f\"{self._login=}, {self.system_id=}, {self.__system_id=}\"\n",
    "        )\n",
    "\n",
    "\n",
    "class HSEStudent(Student):\n",
    "    pass\n",
    "\n",
    "\n",
    "steve = HSEStudent(\"hse\", \"Steven\", \"steve\", 123)\n",
    "print(steve.__dict__)\n",
    "steve.print_info()"
   ]
  },
  {
   "cell_type": "code",
   "execution_count": 144,
   "id": "108e796a-fe2c-4cc7-b5e6-84f8aa8a51fb",
   "metadata": {},
   "outputs": [
    {
     "data": {
      "text/plain": [
       "(123, 'Student_Steven')"
      ]
     },
     "execution_count": 144,
     "metadata": {},
     "output_type": "execute_result"
    }
   ],
   "source": [
    "steve.system_id, steve.name"
   ]
  },
  {
   "cell_type": "code",
   "execution_count": null,
   "id": "423fa1ff-2d9c-4a8b-be2a-ab8f25d3962f",
   "metadata": {},
   "outputs": [],
   "source": []
  },
  {
   "cell_type": "code",
   "execution_count": 141,
   "id": "fcd3f69e-0810-4ff3-9029-131ffb6eb54c",
   "metadata": {},
   "outputs": [],
   "source": [
    "class Person(Person): pass"
   ]
  },
  {
   "cell_type": "code",
   "execution_count": null,
   "id": "a138537b-1331-4585-bf77-adecfb53dd51",
   "metadata": {},
   "outputs": [],
   "source": []
  },
  {
   "cell_type": "code",
   "execution_count": null,
   "id": "58572a08-082f-4ff5-8445-c32d4dc0387e",
   "metadata": {},
   "outputs": [],
   "source": []
  },
  {
   "cell_type": "code",
   "execution_count": null,
   "id": "ba758b4c-3eab-4ad4-b141-98634796e8fb",
   "metadata": {},
   "outputs": [],
   "source": []
  },
  {
   "cell_type": "markdown",
   "id": "f1cf442a-90dc-4ca9-997d-9e9a13eb1df8",
   "metadata": {},
   "source": [
    "# Дескрипторы"
   ]
  },
  {
   "cell_type": "code",
   "execution_count": 157,
   "id": "3a387bf5-fae1-4d4b-ad21-f2164929cc2b",
   "metadata": {},
   "outputs": [
    {
     "name": "stdout",
     "output_type": "stream",
     "text": [
      "IntField.__set__ obj=<__main__.PersonTable object at 0x10bc063c0>, val=99\n",
      "IntField.__set__ obj=<__main__.PersonTable object at 0x10c55dd10>, val=42\n",
      "IntField.__get__ obj=<__main__.PersonTable object at 0x10bc063c0>, objtype=<class '__main__.PersonTable'>\n",
      "IntField.__get__ obj=<__main__.PersonTable object at 0x10c55dd10>, objtype=<class '__main__.PersonTable'>\n",
      "42 42\n",
      "------\n",
      "IntField.__set__ obj=<__main__.PersonTable object at 0x10bc063c0>, val=882\n",
      "IntField.__get__ obj=<__main__.PersonTable object at 0x10bc063c0>, objtype=<class '__main__.PersonTable'>\n",
      "IntField.__get__ obj=<__main__.PersonTable object at 0x10c55dd10>, objtype=<class '__main__.PersonTable'>\n",
      "882 882\n"
     ]
    }
   ],
   "source": [
    "# BAD (!)\n",
    "\n",
    "class IntField:\n",
    "    def __init__(self):\n",
    "        self.val = None\n",
    "\n",
    "    def __get__(self, obj, objtype):\n",
    "        print(f\"IntField.__get__ {obj=}, {objtype=}\")\n",
    "        \n",
    "        return self.val\n",
    "        \n",
    "    def __set__(self, obj, val):\n",
    "        print(f\"IntField.__set__ {obj=}, {val=}\")\n",
    "        \n",
    "        self.val = val\n",
    "\n",
    "    def __delete__(self, obj):\n",
    "        print(f\"IntField.__delete__ {obj=}\")\n",
    "\n",
    "\n",
    "class PersonTable:\n",
    "    age = IntField()\n",
    "\n",
    "    def __init__(self, age):\n",
    "        self.age = age\n",
    "\n",
    "\n",
    "class Student(PersonTable):\n",
    "    pass\n",
    "\n",
    "\n",
    "pers1 = PersonTable(99)\n",
    "pers2 = PersonTable(42)\n",
    "\n",
    "print(pers1.age, pers2.age)\n",
    "print(\"------\")\n",
    "\n",
    "pers1.age = 882\n",
    "print(pers1.age, pers2.age)"
   ]
  },
  {
   "cell_type": "code",
   "execution_count": 152,
   "id": "d2191368-1fda-491c-97e2-29e2a3ef892e",
   "metadata": {},
   "outputs": [
    {
     "data": {
      "text/plain": [
       "{}"
      ]
     },
     "execution_count": 152,
     "metadata": {},
     "output_type": "execute_result"
    }
   ],
   "source": [
    "pers.__dict__"
   ]
  },
  {
   "cell_type": "code",
   "execution_count": 153,
   "id": "8f466c7f-e340-40d0-9fdf-00d4c43299c8",
   "metadata": {},
   "outputs": [
    {
     "data": {
      "text/plain": [
       "mappingproxy({'__module__': '__main__',\n",
       "              '__firstlineno__': 21,\n",
       "              'age': <__main__.IntField at 0x10bc05fd0>,\n",
       "              '__init__': <function __main__.PersonTable.__init__(self, age)>,\n",
       "              '__static_attributes__': ('age',),\n",
       "              '__dict__': <attribute '__dict__' of 'PersonTable' objects>,\n",
       "              '__weakref__': <attribute '__weakref__' of 'PersonTable' objects>,\n",
       "              '__doc__': None})"
      ]
     },
     "execution_count": 153,
     "metadata": {},
     "output_type": "execute_result"
    }
   ],
   "source": [
    "PersonTable.__dict__"
   ]
  },
  {
   "cell_type": "code",
   "execution_count": 154,
   "id": "a5dc551e-6955-4e42-8b1e-e25e6a16619c",
   "metadata": {},
   "outputs": [
    {
     "name": "stdout",
     "output_type": "stream",
     "text": [
      "IntField.__get__ obj=None, objtype=<class '__main__.PersonTable'>\n"
     ]
    },
    {
     "data": {
      "text/plain": [
       "99"
      ]
     },
     "execution_count": 154,
     "metadata": {},
     "output_type": "execute_result"
    }
   ],
   "source": [
    "PersonTable.age"
   ]
  },
  {
   "cell_type": "code",
   "execution_count": 156,
   "id": "d529d6ed-122e-4ec1-9e9b-a88a11d94bcc",
   "metadata": {},
   "outputs": [
    {
     "name": "stdout",
     "output_type": "stream",
     "text": [
      "IntField.__get__ obj=<__main__.PersonTable object at 0x10bc06270>, objtype=<class '__main__.PersonTable'>\n"
     ]
    },
    {
     "data": {
      "text/plain": [
       "99"
      ]
     },
     "execution_count": 156,
     "metadata": {},
     "output_type": "execute_result"
    }
   ],
   "source": [
    "pers.age"
   ]
  },
  {
   "cell_type": "code",
   "execution_count": 159,
   "id": "ecea6ef8-57f6-4118-8329-db271c5dd27e",
   "metadata": {},
   "outputs": [],
   "source": [
    "PersonTable.age = 100"
   ]
  },
  {
   "cell_type": "code",
   "execution_count": 160,
   "id": "e26fcd81-6d5e-43ab-ba43-df067dea6d23",
   "metadata": {},
   "outputs": [
    {
     "data": {
      "text/plain": [
       "100"
      ]
     },
     "execution_count": 160,
     "metadata": {},
     "output_type": "execute_result"
    }
   ],
   "source": [
    "PersonTable.age"
   ]
  },
  {
   "cell_type": "code",
   "execution_count": 161,
   "id": "4c124218-5141-4908-beec-6940cf51b297",
   "metadata": {},
   "outputs": [
    {
     "name": "stdout",
     "output_type": "stream",
     "text": [
      "100 100\n"
     ]
    }
   ],
   "source": [
    "print(pers1.age, pers2.age)"
   ]
  },
  {
   "cell_type": "code",
   "execution_count": null,
   "id": "df513ef4-54ed-45c1-aaef-d43ec491ce0f",
   "metadata": {},
   "outputs": [],
   "source": []
  },
  {
   "cell_type": "code",
   "execution_count": null,
   "id": "bb33c3da-4c4d-4ede-b5c8-b89c0e1e80f8",
   "metadata": {},
   "outputs": [],
   "source": []
  },
  {
   "cell_type": "code",
   "execution_count": 162,
   "id": "96ed9c56-1da1-4cf4-b824-0bf8314ce3dc",
   "metadata": {},
   "outputs": [
    {
     "name": "stdout",
     "output_type": "stream",
     "text": [
      "IntField.__set__ obj=<__main__.PersonTable object at 0x10bc06510>, val=99\n",
      "IntField.__set__ obj=<__main__.PersonTable object at 0x10c55e210>, val=42\n",
      "IntField.__get__ obj=<__main__.PersonTable object at 0x10bc06510>, objtype=<class '__main__.PersonTable'>\n",
      "IntField.__get__ obj=<__main__.PersonTable object at 0x10c55e210>, objtype=<class '__main__.PersonTable'>\n",
      "99 42\n",
      "------\n",
      "IntField.__set__ obj=<__main__.PersonTable object at 0x10bc06510>, val=882\n",
      "IntField.__get__ obj=<__main__.PersonTable object at 0x10bc06510>, objtype=<class '__main__.PersonTable'>\n",
      "IntField.__get__ obj=<__main__.PersonTable object at 0x10c55e210>, objtype=<class '__main__.PersonTable'>\n",
      "882 42\n"
     ]
    }
   ],
   "source": [
    "# BAD (!)\n",
    "\n",
    "class IntField:\n",
    "    def __init__(self):\n",
    "        self._name = \"_hidden_int\"\n",
    "\n",
    "    def __get__(self, obj, objtype):\n",
    "        print(f\"IntField.__get__ {obj=}, {objtype=}\")\n",
    "\n",
    "        if obj is None:\n",
    "            return None\n",
    "\n",
    "        return getattr(obj, self._name)\n",
    "        \n",
    "    def __set__(self, obj, val):\n",
    "        print(f\"IntField.__set__ {obj=}, {val=}\")\n",
    "\n",
    "        # obj.__dict__[self._name] = val\n",
    "        return setattr(obj, self._name, val)\n",
    "\n",
    "\n",
    "class PersonTable:\n",
    "    age = IntField()\n",
    "\n",
    "    def __init__(self, age):\n",
    "        self.age = age\n",
    "\n",
    "\n",
    "class Student(PersonTable):\n",
    "    pass\n",
    "\n",
    "\n",
    "pers1 = PersonTable(99)\n",
    "pers2 = PersonTable(42)\n",
    "\n",
    "print(pers1.age, pers2.age)\n",
    "print(\"------\")\n",
    "\n",
    "pers1.age = 882\n",
    "print(pers1.age, pers2.age)"
   ]
  },
  {
   "cell_type": "code",
   "execution_count": 163,
   "id": "96918f91-1f86-4eac-a962-bed915fcd4ab",
   "metadata": {},
   "outputs": [
    {
     "data": {
      "text/plain": [
       "({'_hidden_int': 882}, {'_hidden_int': 42})"
      ]
     },
     "execution_count": 163,
     "metadata": {},
     "output_type": "execute_result"
    }
   ],
   "source": [
    "pers1.__dict__, pers2.__dict__"
   ]
  },
  {
   "cell_type": "code",
   "execution_count": null,
   "id": "084e9359-4090-4857-8df0-2b1f16a65c33",
   "metadata": {},
   "outputs": [],
   "source": []
  },
  {
   "cell_type": "code",
   "execution_count": 169,
   "id": "e07dac72-c4e9-4a3e-969a-b55cdcef440d",
   "metadata": {},
   "outputs": [
    {
     "name": "stdout",
     "output_type": "stream",
     "text": [
      "IntField.__set__ obj=<__main__.PersonTable object at 0x10b7530e0>, val=99\n",
      "IntField.__set__ obj=<__main__.PersonTable object at 0x10b7530e0>, val=1980\n",
      "IntField.__set__ obj=<__main__.PersonTable object at 0x10c55e710>, val=42\n",
      "IntField.__set__ obj=<__main__.PersonTable object at 0x10c55e710>, val=2025\n",
      "IntField.__get__ obj=<__main__.PersonTable object at 0x10b7530e0>, objtype=<class '__main__.PersonTable'>\n",
      "IntField.__get__ obj=<__main__.PersonTable object at 0x10b7530e0>, objtype=<class '__main__.PersonTable'>\n",
      "IntField.__get__ obj=<__main__.PersonTable object at 0x10c55e710>, objtype=<class '__main__.PersonTable'>\n",
      "IntField.__get__ obj=<__main__.PersonTable object at 0x10c55e710>, objtype=<class '__main__.PersonTable'>\n",
      "1980 1980 2025 2025\n",
      "------\n",
      "IntField.__set__ obj=<__main__.PersonTable object at 0x10b7530e0>, val=882\n",
      "IntField.__get__ obj=<__main__.PersonTable object at 0x10b7530e0>, objtype=<class '__main__.PersonTable'>\n",
      "IntField.__get__ obj=<__main__.PersonTable object at 0x10b7530e0>, objtype=<class '__main__.PersonTable'>\n",
      "IntField.__get__ obj=<__main__.PersonTable object at 0x10c55e710>, objtype=<class '__main__.PersonTable'>\n",
      "IntField.__get__ obj=<__main__.PersonTable object at 0x10c55e710>, objtype=<class '__main__.PersonTable'>\n",
      "882 882 2025 2025\n",
      "--------\n",
      "\n",
      "{'_hidden_int': 882} {'_hidden_int': 2025}\n"
     ]
    }
   ],
   "source": [
    "# BAD (!)\n",
    "\n",
    "class IntField:\n",
    "    def __init__(self):\n",
    "        self._name = \"_hidden_int\"\n",
    "\n",
    "    def __get__(self, obj, objtype):\n",
    "        print(f\"IntField.__get__ {obj=}, {objtype=}\")\n",
    "\n",
    "        if obj is None:\n",
    "            return None\n",
    "\n",
    "        return getattr(obj, self._name)\n",
    "        \n",
    "    def __set__(self, obj, val):\n",
    "        print(f\"IntField.__set__ {obj=}, {val=}\")\n",
    "\n",
    "        if not (isinstance(val, int) and val >= 0):\n",
    "            raise ValueError(\"wrong int\")\n",
    "\n",
    "        # obj.__dict__[self._name] = val\n",
    "        return setattr(obj, self._name, val)\n",
    "\n",
    "\n",
    "class PersonTable:\n",
    "    age = IntField()\n",
    "    year = IntField()\n",
    "\n",
    "    def __init__(self, age, year):\n",
    "        self.age = age\n",
    "        self.year = year\n",
    "\n",
    "\n",
    "class Student(PersonTable):\n",
    "    pass\n",
    "\n",
    "\n",
    "pers1 = PersonTable(99, 1980)\n",
    "pers2 = PersonTable(42, 2025)\n",
    "\n",
    "print(pers1.age, pers1.year, pers2.age, pers2.year)\n",
    "print(\"------\")\n",
    "\n",
    "pers1.age = 882\n",
    "print(pers1.age, pers1.year, pers2.age, pers2.year)\n",
    "\n",
    "print(\"--------\\n\")\n",
    "print(pers1.__dict__, pers2.__dict__)"
   ]
  },
  {
   "cell_type": "code",
   "execution_count": 165,
   "id": "81bc0901-61c2-4a93-8f58-9e8ff00acd10",
   "metadata": {},
   "outputs": [
    {
     "name": "stdout",
     "output_type": "stream",
     "text": [
      "IntField.__set__ obj=<__main__.PersonTable object at 0x10b752510>, val=100\n"
     ]
    }
   ],
   "source": [
    "pers1.age = 100"
   ]
  },
  {
   "cell_type": "code",
   "execution_count": 166,
   "id": "a8d97e40-fc0a-4b99-b372-76e92299e4d2",
   "metadata": {},
   "outputs": [
    {
     "name": "stdout",
     "output_type": "stream",
     "text": [
      "IntField.__get__ obj=<__main__.PersonTable object at 0x10b752510>, objtype=<class '__main__.PersonTable'>\n"
     ]
    },
    {
     "data": {
      "text/plain": [
       "100"
      ]
     },
     "execution_count": 166,
     "metadata": {},
     "output_type": "execute_result"
    }
   ],
   "source": [
    "pers1.age"
   ]
  },
  {
   "cell_type": "code",
   "execution_count": 167,
   "id": "e3d5d1db-7680-4f75-b28e-c9c2b750aa75",
   "metadata": {},
   "outputs": [
    {
     "name": "stdout",
     "output_type": "stream",
     "text": [
      "IntField.__set__ obj=<__main__.PersonTable object at 0x10b752510>, val=-10\n"
     ]
    },
    {
     "ename": "ValueError",
     "evalue": "wrong int",
     "output_type": "error",
     "traceback": [
      "\u001b[31m---------------------------------------------------------------------------\u001b[39m",
      "\u001b[31mValueError\u001b[39m                                Traceback (most recent call last)",
      "\u001b[36mCell\u001b[39m\u001b[36m \u001b[39m\u001b[32mIn[167]\u001b[39m\u001b[32m, line 1\u001b[39m\n\u001b[32m----> \u001b[39m\u001b[32m1\u001b[39m \u001b[43mpers1\u001b[49m\u001b[43m.\u001b[49m\u001b[43mage\u001b[49m = -\u001b[32m10\u001b[39m\n",
      "\u001b[36mCell\u001b[39m\u001b[36m \u001b[39m\u001b[32mIn[164]\u001b[39m\u001b[32m, line 19\u001b[39m, in \u001b[36mIntField.__set__\u001b[39m\u001b[34m(self, obj, val)\u001b[39m\n\u001b[32m     16\u001b[39m \u001b[38;5;28mprint\u001b[39m(\u001b[33mf\u001b[39m\u001b[33m\"\u001b[39m\u001b[33mIntField.__set__ \u001b[39m\u001b[38;5;132;01m{\u001b[39;00mobj\u001b[38;5;132;01m=}\u001b[39;00m\u001b[33m, \u001b[39m\u001b[38;5;132;01m{\u001b[39;00mval\u001b[38;5;132;01m=}\u001b[39;00m\u001b[33m\"\u001b[39m)\n\u001b[32m     18\u001b[39m \u001b[38;5;28;01mif\u001b[39;00m \u001b[38;5;129;01mnot\u001b[39;00m (\u001b[38;5;28misinstance\u001b[39m(val, \u001b[38;5;28mint\u001b[39m) \u001b[38;5;129;01mand\u001b[39;00m val >= \u001b[32m0\u001b[39m):\n\u001b[32m---> \u001b[39m\u001b[32m19\u001b[39m     \u001b[38;5;28;01mraise\u001b[39;00m \u001b[38;5;167;01mValueError\u001b[39;00m(\u001b[33m\"\u001b[39m\u001b[33mwrong int\u001b[39m\u001b[33m\"\u001b[39m)\n\u001b[32m     21\u001b[39m \u001b[38;5;66;03m# obj.__dict__[self._name] = val\u001b[39;00m\n\u001b[32m     22\u001b[39m \u001b[38;5;28;01mreturn\u001b[39;00m \u001b[38;5;28msetattr\u001b[39m(obj, \u001b[38;5;28mself\u001b[39m._name, val)\n",
      "\u001b[31mValueError\u001b[39m: wrong int"
     ]
    }
   ],
   "source": [
    "pers1.age = -10"
   ]
  },
  {
   "cell_type": "code",
   "execution_count": 168,
   "id": "25641992-717b-4f21-8e82-cd51e9339938",
   "metadata": {},
   "outputs": [
    {
     "name": "stdout",
     "output_type": "stream",
     "text": [
      "IntField.__get__ obj=<__main__.PersonTable object at 0x10b752510>, objtype=<class '__main__.PersonTable'>\n"
     ]
    },
    {
     "data": {
      "text/plain": [
       "100"
      ]
     },
     "execution_count": 168,
     "metadata": {},
     "output_type": "execute_result"
    }
   ],
   "source": [
    "pers1.age"
   ]
  },
  {
   "cell_type": "code",
   "execution_count": null,
   "id": "34e984d3-fb45-488c-a6f8-23ad60cb6b6e",
   "metadata": {},
   "outputs": [],
   "source": []
  },
  {
   "cell_type": "code",
   "execution_count": null,
   "id": "3b56e9d7-6f90-4287-9f28-5c832ec44562",
   "metadata": {},
   "outputs": [],
   "source": []
  },
  {
   "cell_type": "code",
   "execution_count": null,
   "id": "4a9063f8-d40f-4a72-8a9c-bcca6f1cef05",
   "metadata": {},
   "outputs": [],
   "source": []
  },
  {
   "cell_type": "code",
   "execution_count": null,
   "id": "89674fda-3f3f-43b9-8be2-43993244d680",
   "metadata": {},
   "outputs": [],
   "source": []
  },
  {
   "cell_type": "code",
   "execution_count": 172,
   "id": "00e3241d-cd80-427e-8414-092db4b8e06d",
   "metadata": {},
   "outputs": [
    {
     "name": "stdout",
     "output_type": "stream",
     "text": [
      "Int set_name owner=<class '__main__.PersonTable'>, name='age'\n",
      "Int set_name owner=<class '__main__.PersonTable'>, name='year'\n",
      "IntField.__set__ obj=<__main__.PersonTable object at 0x10bc063c0>, val=99\n",
      "IntField.__set__ obj=<__main__.PersonTable object at 0x10bc063c0>, val=1980\n",
      "IntField.__set__ obj=<__main__.PersonTable object at 0x10c55ead0>, val=42\n",
      "IntField.__set__ obj=<__main__.PersonTable object at 0x10c55ead0>, val=2025\n",
      "IntField.__get__ obj=<__main__.PersonTable object at 0x10bc063c0>, objtype=<class '__main__.PersonTable'>\n",
      "IntField.__get__ obj=<__main__.PersonTable object at 0x10bc063c0>, objtype=<class '__main__.PersonTable'>\n",
      "IntField.__get__ obj=<__main__.PersonTable object at 0x10c55ead0>, objtype=<class '__main__.PersonTable'>\n",
      "IntField.__get__ obj=<__main__.PersonTable object at 0x10c55ead0>, objtype=<class '__main__.PersonTable'>\n",
      "99 1980 42 2025\n",
      "------\n",
      "IntField.__set__ obj=<__main__.PersonTable object at 0x10bc063c0>, val=882\n",
      "IntField.__get__ obj=<__main__.PersonTable object at 0x10bc063c0>, objtype=<class '__main__.PersonTable'>\n",
      "IntField.__get__ obj=<__main__.PersonTable object at 0x10bc063c0>, objtype=<class '__main__.PersonTable'>\n",
      "IntField.__get__ obj=<__main__.PersonTable object at 0x10c55ead0>, objtype=<class '__main__.PersonTable'>\n",
      "IntField.__get__ obj=<__main__.PersonTable object at 0x10c55ead0>, objtype=<class '__main__.PersonTable'>\n",
      "882 1980 42 2025\n",
      "--------\n",
      "\n",
      "{'_hidden_int_age': 882, '_hidden_int_year': 1980} {'_hidden_int_age': 42, '_hidden_int_year': 2025}\n"
     ]
    }
   ],
   "source": [
    "# VALID\n",
    "\n",
    "class IntField:\n",
    "    def __init__(self):\n",
    "        self._name = None\n",
    "\n",
    "    def __set_name__(self, owner, name):\n",
    "        print(f\"Int set_name {owner=}, {name=}\")\n",
    "        self._name = f\"_hidden_int_{name}\"\n",
    "\n",
    "    def __get__(self, obj, objtype):\n",
    "        print(f\"IntField.__get__ {obj=}, {objtype=}\")\n",
    "\n",
    "        if obj is None:\n",
    "            return None\n",
    "\n",
    "        return getattr(obj, self._name)\n",
    "        \n",
    "    def __set__(self, obj, val):\n",
    "        print(f\"IntField.__set__ {obj=}, {val=}\")\n",
    "\n",
    "        if not (isinstance(val, int) and val >= 0):\n",
    "            raise ValueError(\"wrong int\")\n",
    "\n",
    "        # obj.__dict__[self._name] = val\n",
    "        return setattr(obj, self._name, val)\n",
    "\n",
    "\n",
    "class PersonTable:\n",
    "    age = IntField()\n",
    "    year = IntField()\n",
    "\n",
    "    def __init__(self, age, year):\n",
    "        self.age = age\n",
    "        self.year = year\n",
    "\n",
    "\n",
    "class Student(PersonTable):\n",
    "    pass\n",
    "\n",
    "\n",
    "pers1 = PersonTable(99, 1980)\n",
    "pers2 = PersonTable(42, 2025)\n",
    "\n",
    "print(pers1.age, pers1.year, pers2.age, pers2.year)\n",
    "print(\"------\")\n",
    "\n",
    "pers1.age = 882\n",
    "print(pers1.age, pers1.year, pers2.age, pers2.year)\n",
    "\n",
    "print(\"--------\\n\")\n",
    "print(pers1.__dict__, pers2.__dict__)"
   ]
  },
  {
   "cell_type": "code",
   "execution_count": null,
   "id": "c2c52589-5fef-4e2b-b6b1-92946215334f",
   "metadata": {},
   "outputs": [],
   "source": []
  },
  {
   "cell_type": "code",
   "execution_count": null,
   "id": "47e5d403-2414-46e2-9f1c-643c76b27d7a",
   "metadata": {},
   "outputs": [],
   "source": []
  },
  {
   "cell_type": "code",
   "execution_count": null,
   "id": "0bc55dfa-d0c8-46bb-97c8-fd4d560a29ad",
   "metadata": {},
   "outputs": [],
   "source": []
  },
  {
   "cell_type": "code",
   "execution_count": null,
   "id": "f9a81ec9-0dcd-472c-ab64-9ea1ca606564",
   "metadata": {},
   "outputs": [],
   "source": []
  },
  {
   "cell_type": "code",
   "execution_count": null,
   "id": "f2827567-7878-4bea-a5e8-8d4e0f5430bf",
   "metadata": {},
   "outputs": [],
   "source": []
  },
  {
   "cell_type": "code",
   "execution_count": 179,
   "id": "c2265f1e-1d4b-4556-96ac-13d9d275d746",
   "metadata": {},
   "outputs": [
    {
     "name": "stdout",
     "output_type": "stream",
     "text": [
      "Int set_name owner=<class '__main__.PersonTable'>, name='age'\n",
      "Name set_name owner=<class '__main__.PersonTable'>, name='name'\n",
      "IntField.__set__ obj=<__main__.PersonTable object at 0x10b7530e0>, val=99\n",
      "{'_hidden_int_age': 99, '_hidden_name_name': 'steve'}\n",
      "NameField.__get__ obj=<__main__.PersonTable object at 0x10b7530e0>, objtype=<class '__main__.PersonTable'>\n",
      "IntField.__get__ obj=<__main__.PersonTable object at 0x10b7530e0>, objtype=<class '__main__.PersonTable'>\n",
      "steve 99\n"
     ]
    }
   ],
   "source": [
    "# VALID\n",
    "\n",
    "class IntField:\n",
    "    def __init__(self):\n",
    "        self._name = None\n",
    "\n",
    "    def __set_name__(self, owner, name):\n",
    "        print(f\"Int set_name {owner=}, {name=}\")\n",
    "        self._name = f\"_hidden_int_{name}\"\n",
    "\n",
    "    def __get__(self, obj, objtype):\n",
    "        print(f\"IntField.__get__ {obj=}, {objtype=}\")\n",
    "\n",
    "        if obj is None:\n",
    "            return None\n",
    "\n",
    "        return getattr(obj, self._name)\n",
    "        \n",
    "    def __set__(self, obj, val):\n",
    "        print(f\"IntField.__set__ {obj=}, {val=}\")\n",
    "\n",
    "        if not (isinstance(val, int) and val >= 0):\n",
    "            raise ValueError(\"wrong int\")\n",
    "\n",
    "        # obj.__dict__[self._name] = val\n",
    "        return setattr(obj, self._name, val)\n",
    "\n",
    "\n",
    "class NameField:\n",
    "    def __init__(self):\n",
    "        self._name = None\n",
    "\n",
    "    def __set_name__(self, owner, name):\n",
    "        print(f\"Name set_name {owner=}, {name=}\")\n",
    "        self._name = f\"_hidden_name_{name}\"\n",
    "\n",
    "    def __get__(self, obj, objtype):\n",
    "        print(f\"NameField.__get__ {obj=}, {objtype=}\")\n",
    "\n",
    "        if obj is None:\n",
    "            return None\n",
    "\n",
    "        return getattr(obj, self._name)\n",
    "\n",
    "\n",
    "class PersonTable:\n",
    "    age = IntField()\n",
    "    name = NameField()\n",
    "\n",
    "    def __init__(self, age, name):\n",
    "        self.age = age\n",
    "        self._hidden_name_name = name\n",
    "\n",
    "\n",
    "pers = PersonTable(99, \"steve\")\n",
    "print(pers.__dict__)\n",
    "print(pers.name, pers.age)"
   ]
  },
  {
   "cell_type": "code",
   "execution_count": 180,
   "id": "67bd2e1f-420f-4979-a3d0-5a6228f0e98f",
   "metadata": {},
   "outputs": [
    {
     "name": "stdout",
     "output_type": "stream",
     "text": [
      "IntField.__get__ obj=<__main__.PersonTable object at 0x10b7530e0>, objtype=<class '__main__.PersonTable'>\n"
     ]
    },
    {
     "data": {
      "text/plain": [
       "99"
      ]
     },
     "execution_count": 180,
     "metadata": {},
     "output_type": "execute_result"
    }
   ],
   "source": [
    "pers.age"
   ]
  },
  {
   "cell_type": "code",
   "execution_count": 181,
   "id": "98197242-ddf0-4778-8045-366f812f377f",
   "metadata": {},
   "outputs": [
    {
     "name": "stdout",
     "output_type": "stream",
     "text": [
      "NameField.__get__ obj=<__main__.PersonTable object at 0x10b7530e0>, objtype=<class '__main__.PersonTable'>\n"
     ]
    },
    {
     "data": {
      "text/plain": [
       "'steve'"
      ]
     },
     "execution_count": 181,
     "metadata": {},
     "output_type": "execute_result"
    }
   ],
   "source": [
    "pers.name"
   ]
  },
  {
   "cell_type": "code",
   "execution_count": null,
   "id": "9da54288-e3ad-4a60-b364-9b04bcf6ebcd",
   "metadata": {},
   "outputs": [],
   "source": []
  },
  {
   "cell_type": "code",
   "execution_count": 182,
   "id": "1553c03b-5ee9-4c2a-86a5-ef950af28153",
   "metadata": {},
   "outputs": [
    {
     "name": "stdout",
     "output_type": "stream",
     "text": [
      "IntField.__set__ obj=<__main__.PersonTable object at 0x10b7530e0>, val=882\n",
      "IntField.__get__ obj=<__main__.PersonTable object at 0x10b7530e0>, objtype=<class '__main__.PersonTable'>\n"
     ]
    },
    {
     "data": {
      "text/plain": [
       "882"
      ]
     },
     "execution_count": 182,
     "metadata": {},
     "output_type": "execute_result"
    }
   ],
   "source": [
    "pers.age = 882\n",
    "pers.age"
   ]
  },
  {
   "cell_type": "code",
   "execution_count": 183,
   "id": "75634b64-aaa3-477e-80d3-1cbe18fb68ea",
   "metadata": {},
   "outputs": [],
   "source": [
    "pers.name = \"newName\""
   ]
  },
  {
   "cell_type": "code",
   "execution_count": 185,
   "id": "57374a6d-efcc-4953-83b4-8ecabe9f4f5f",
   "metadata": {},
   "outputs": [
    {
     "data": {
      "text/plain": [
       "'newName'"
      ]
     },
     "execution_count": 185,
     "metadata": {},
     "output_type": "execute_result"
    }
   ],
   "source": [
    "pers.name"
   ]
  },
  {
   "cell_type": "code",
   "execution_count": 187,
   "id": "05357379-07cb-47c0-b938-e5d84b03eb22",
   "metadata": {},
   "outputs": [],
   "source": [
    "pers.__dict__[\"age\"] = -20"
   ]
  },
  {
   "cell_type": "code",
   "execution_count": 188,
   "id": "0193bf87-623c-42f4-b092-fa962725a6d0",
   "metadata": {},
   "outputs": [
    {
     "data": {
      "text/plain": [
       "{'_hidden_int_age': 882,\n",
       " '_hidden_name_name': 'steve',\n",
       " 'name': 'newName',\n",
       " 'age': -20}"
      ]
     },
     "execution_count": 188,
     "metadata": {},
     "output_type": "execute_result"
    }
   ],
   "source": [
    "pers.__dict__\n"
   ]
  },
  {
   "cell_type": "code",
   "execution_count": 189,
   "id": "50493d9c-fe38-46a7-b3ea-eb1a8c8f8cea",
   "metadata": {},
   "outputs": [
    {
     "name": "stdout",
     "output_type": "stream",
     "text": [
      "IntField.__get__ obj=<__main__.PersonTable object at 0x10b7530e0>, objtype=<class '__main__.PersonTable'>\n"
     ]
    },
    {
     "data": {
      "text/plain": [
       "882"
      ]
     },
     "execution_count": 189,
     "metadata": {},
     "output_type": "execute_result"
    }
   ],
   "source": [
    "pers.age"
   ]
  },
  {
   "cell_type": "code",
   "execution_count": 190,
   "id": "32475ff9-5517-4e37-b992-5d1f74795ec4",
   "metadata": {},
   "outputs": [
    {
     "data": {
      "text/plain": [
       "'newName'"
      ]
     },
     "execution_count": 190,
     "metadata": {},
     "output_type": "execute_result"
    }
   ],
   "source": [
    "pers.name"
   ]
  },
  {
   "cell_type": "code",
   "execution_count": 191,
   "id": "90f56e7d-c2a6-43b6-b501-1eab7199a5df",
   "metadata": {},
   "outputs": [],
   "source": [
    "del pers.name"
   ]
  },
  {
   "cell_type": "code",
   "execution_count": 192,
   "id": "a060bfd7-681b-436a-93cd-ab3441f2c725",
   "metadata": {},
   "outputs": [
    {
     "data": {
      "text/plain": [
       "{'_hidden_int_age': 882, '_hidden_name_name': 'steve', 'age': -20}"
      ]
     },
     "execution_count": 192,
     "metadata": {},
     "output_type": "execute_result"
    }
   ],
   "source": [
    "pers.__dict__\n"
   ]
  },
  {
   "cell_type": "code",
   "execution_count": 193,
   "id": "6817cc46-8cd2-4b6d-8373-e3dab813fc69",
   "metadata": {},
   "outputs": [
    {
     "name": "stdout",
     "output_type": "stream",
     "text": [
      "NameField.__get__ obj=<__main__.PersonTable object at 0x10b7530e0>, objtype=<class '__main__.PersonTable'>\n"
     ]
    },
    {
     "data": {
      "text/plain": [
       "'steve'"
      ]
     },
     "execution_count": 193,
     "metadata": {},
     "output_type": "execute_result"
    }
   ],
   "source": [
    "pers.name"
   ]
  },
  {
   "cell_type": "code",
   "execution_count": null,
   "id": "7666e3a6-5be9-45f6-838f-a231920f45b3",
   "metadata": {},
   "outputs": [],
   "source": []
  }
 ],
 "metadata": {
  "kernelspec": {
   "display_name": "Python 3 (ipykernel)",
   "language": "python",
   "name": "python3"
  },
  "language_info": {
   "codemirror_mode": {
    "name": "ipython",
    "version": 3
   },
   "file_extension": ".py",
   "mimetype": "text/x-python",
   "name": "python",
   "nbconvert_exporter": "python",
   "pygments_lexer": "ipython3",
   "version": "3.13.2"
  }
 },
 "nbformat": 4,
 "nbformat_minor": 5
}
