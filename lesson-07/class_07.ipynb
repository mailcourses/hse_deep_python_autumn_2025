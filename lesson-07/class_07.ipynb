{
 "cells": [
  {
   "cell_type": "code",
   "execution_count": 3,
   "id": "27dab9ff-eb7a-4a28-991f-64f1cdbb795d",
   "metadata": {},
   "outputs": [],
   "source": [
    "import multiprocessing as mp\n",
    "import time\n",
    "import socket\n",
    "import os"
   ]
  },
  {
   "cell_type": "code",
   "execution_count": 3,
   "id": "3f531a44-c00a-4f63-8281-39608810e1f5",
   "metadata": {},
   "outputs": [
    {
     "data": {
      "text/plain": [
       "12"
      ]
     },
     "execution_count": 3,
     "metadata": {},
     "output_type": "execute_result"
    }
   ],
   "source": [
    "mp.cpu_count()"
   ]
  },
  {
   "cell_type": "code",
   "execution_count": 4,
   "id": "9331a6dc-16e9-468c-8bcb-0d4e73f650e3",
   "metadata": {},
   "outputs": [
    {
     "data": {
      "text/plain": [
       "[]"
      ]
     },
     "execution_count": 4,
     "metadata": {},
     "output_type": "execute_result"
    }
   ],
   "source": [
    "mp.active_children()"
   ]
  },
  {
   "cell_type": "code",
   "execution_count": 5,
   "id": "a936d412-6b12-436a-89d4-c54338803cc5",
   "metadata": {},
   "outputs": [
    {
     "data": {
      "text/plain": [
       "['spawn', 'fork', 'forkserver']"
      ]
     },
     "execution_count": 5,
     "metadata": {},
     "output_type": "execute_result"
    }
   ],
   "source": [
    "mp.get_all_start_methods()"
   ]
  },
  {
   "cell_type": "code",
   "execution_count": 6,
   "id": "5bcf6662-60e8-4ffe-a6de-729fb416cba0",
   "metadata": {},
   "outputs": [
    {
     "data": {
      "text/plain": [
       "'spawn'"
      ]
     },
     "execution_count": 6,
     "metadata": {},
     "output_type": "execute_result"
    }
   ],
   "source": [
    "mp.get_start_method()"
   ]
  },
  {
   "cell_type": "code",
   "execution_count": 9,
   "id": "9256f9d9-e991-410a-a501-5b51db6a284d",
   "metadata": {},
   "outputs": [
    {
     "data": {
      "text/plain": [
       "(44817, 30524)"
      ]
     },
     "execution_count": 9,
     "metadata": {},
     "output_type": "execute_result"
    }
   ],
   "source": [
    "os.getpid(), os.getppid()"
   ]
  },
  {
   "cell_type": "code",
   "execution_count": 10,
   "id": "21eff668-7b89-4003-838c-f28da86df6ff",
   "metadata": {},
   "outputs": [
    {
     "ename": "RuntimeError",
     "evalue": "context has already been set",
     "output_type": "error",
     "traceback": [
      "\u001b[31m---------------------------------------------------------------------------\u001b[39m",
      "\u001b[31mRuntimeError\u001b[39m                              Traceback (most recent call last)",
      "\u001b[36mCell\u001b[39m\u001b[36m \u001b[39m\u001b[32mIn[10]\u001b[39m\u001b[32m, line 1\u001b[39m\n\u001b[32m----> \u001b[39m\u001b[32m1\u001b[39m \u001b[43mmp\u001b[49m\u001b[43m.\u001b[49m\u001b[43mset_start_method\u001b[49m\u001b[43m(\u001b[49m\u001b[33;43m\"\u001b[39;49m\u001b[33;43mfork\u001b[39;49m\u001b[33;43m\"\u001b[39;49m\u001b[43m)\u001b[49m\n",
      "\u001b[36mFile \u001b[39m\u001b[32m/Library/Frameworks/Python.framework/Versions/3.14/lib/python3.14/multiprocessing/context.py:247\u001b[39m, in \u001b[36mDefaultContext.set_start_method\u001b[39m\u001b[34m(self, method, force)\u001b[39m\n\u001b[32m    245\u001b[39m \u001b[38;5;28;01mdef\u001b[39;00m\u001b[38;5;250m \u001b[39m\u001b[34mset_start_method\u001b[39m(\u001b[38;5;28mself\u001b[39m, method, force=\u001b[38;5;28;01mFalse\u001b[39;00m):\n\u001b[32m    246\u001b[39m     \u001b[38;5;28;01mif\u001b[39;00m \u001b[38;5;28mself\u001b[39m._actual_context \u001b[38;5;129;01mis\u001b[39;00m \u001b[38;5;129;01mnot\u001b[39;00m \u001b[38;5;28;01mNone\u001b[39;00m \u001b[38;5;129;01mand\u001b[39;00m \u001b[38;5;129;01mnot\u001b[39;00m force:\n\u001b[32m--> \u001b[39m\u001b[32m247\u001b[39m         \u001b[38;5;28;01mraise\u001b[39;00m \u001b[38;5;167;01mRuntimeError\u001b[39;00m(\u001b[33m'\u001b[39m\u001b[33mcontext has already been set\u001b[39m\u001b[33m'\u001b[39m)\n\u001b[32m    248\u001b[39m     \u001b[38;5;28;01mif\u001b[39;00m method \u001b[38;5;129;01mis\u001b[39;00m \u001b[38;5;28;01mNone\u001b[39;00m \u001b[38;5;129;01mand\u001b[39;00m force:\n\u001b[32m    249\u001b[39m         \u001b[38;5;28mself\u001b[39m._actual_context = \u001b[38;5;28;01mNone\u001b[39;00m\n",
      "\u001b[31mRuntimeError\u001b[39m: context has already been set"
     ]
    }
   ],
   "source": [
    "mp.set_start_method(\"fork\")"
   ]
  },
  {
   "cell_type": "code",
   "execution_count": null,
   "id": "46b2bc8f-ae20-45fa-a9a3-05184f97f4da",
   "metadata": {},
   "outputs": [],
   "source": []
  },
  {
   "cell_type": "code",
   "execution_count": 32,
   "id": "7cf767a6-af96-4f31-9d64-dc8fade47c7a",
   "metadata": {},
   "outputs": [
    {
     "name": "stderr",
     "output_type": "stream",
     "text": [
      "Traceback (most recent call last):\n",
      "  File \u001b[35m\"<string>\"\u001b[0m, line \u001b[35m1\u001b[0m, in \u001b[35m<module>\u001b[0m\n",
      "    from multiprocessing.spawn import spawn_main; \u001b[31mspawn_main\u001b[0m\u001b[1;31m(tracker_fd=84, pipe_handle=114)\u001b[0m\n",
      "                                                  \u001b[31m~~~~~~~~~~\u001b[0m\u001b[1;31m^^^^^^^^^^^^^^^^^^^^^^^^^^^^^^^^\u001b[0m\n",
      "  File \u001b[35m\"/Library/Frameworks/Python.framework/Versions/3.14/lib/python3.14/multiprocessing/spawn.py\"\u001b[0m, line \u001b[35m122\u001b[0m, in \u001b[35mspawn_main\u001b[0m\n",
      "    exitcode = _main(fd, parent_sentinel)\n",
      "  File \u001b[35m\"/Library/Frameworks/Python.framework/Versions/3.14/lib/python3.14/multiprocessing/spawn.py\"\u001b[0m, line \u001b[35m132\u001b[0m, in \u001b[35m_main\u001b[0m\n",
      "    self = reduction.pickle.load(from_parent)\n",
      "\u001b[1;35mAttributeError\u001b[0m: \u001b[35mmodule '__main__' has no attribute 'print_data'\u001b[0m\n"
     ]
    }
   ],
   "source": [
    "def print_data(val):\n",
    "    print(f\"print_data {os.getpid()=}\", val)\n",
    "    time.sleep(val)\n",
    "    print(\"print_data after sleep\")\n",
    "\n",
    "\n",
    "proc = mp.Process(target=print_data, args=(99,))\n",
    "proc.start()\n",
    "proc.join()"
   ]
  },
  {
   "cell_type": "code",
   "execution_count": 22,
   "id": "e873aabc-063b-442f-8fef-9a6ee9adfe04",
   "metadata": {},
   "outputs": [],
   "source": [
    "ctx = mp.get_context(\"fork\")"
   ]
  },
  {
   "cell_type": "code",
   "execution_count": 62,
   "id": "b86c2dfb-56f0-4d51-9287-9c3118dd984d",
   "metadata": {},
   "outputs": [
    {
     "name": "stdout",
     "output_type": "stream",
     "text": [
      "print_data os.getpid()=28379 99\n"
     ]
    }
   ],
   "source": [
    "proc = ctx.Process(target=print_data, args=(99,))\n",
    "proc.start()"
   ]
  },
  {
   "cell_type": "code",
   "execution_count": 63,
   "id": "621cb460-34f2-4943-9652-de569a212135",
   "metadata": {},
   "outputs": [
    {
     "data": {
      "text/plain": [
       "(False,\n",
       " True,\n",
       " 'ForkProcess-102',\n",
       " 28379,\n",
       " [<ForkProcess name='ForkProcess-102' pid=28379 parent=44817 started>])"
      ]
     },
     "execution_count": 63,
     "metadata": {},
     "output_type": "execute_result"
    }
   ],
   "source": [
    "proc.daemon, proc.is_alive(), proc.name, proc.pid, mp.active_children()"
   ]
  },
  {
   "cell_type": "code",
   "execution_count": 40,
   "id": "cb8e2461-d147-46a8-8acd-2212c07d4d26",
   "metadata": {},
   "outputs": [
    {
     "name": "stdout",
     "output_type": "stream",
     "text": [
      "/Users/g.kandaurov/.zshenv:source:1: no such file or directory: .bash_profile\n",
      "  502 \u001b[01;31m\u001b[K75248\u001b[m\u001b[K 44817   0  8:27   ??         0:00.01 /Library/Frameworks/Python.framework/Versions/3.14/Resources/Python.app/Contents/MacOS/Python -m ipykernel_launcher -f /Users/g.kandaurov/Library/Jupyter/runtime/kernel-d7a200b4-0298-49b2-99dd-b8fa5b98a8a5.json\n",
      "  502 76084 44817   0  8:27   ttys012    0:00.01 /bin/zsh -c ps -ef | grep \u001b[01;31m\u001b[K75248\u001b[m\u001b[K\n",
      "  502 76086 76084   0  8:27   ttys012    0:00.00 grep \u001b[01;31m\u001b[K75248\u001b[m\u001b[K\n"
     ]
    }
   ],
   "source": [
    "!ps -ef | grep 75248"
   ]
  },
  {
   "cell_type": "code",
   "execution_count": 64,
   "id": "0826fe2e-1c30-44aa-a352-5d41f9c921d0",
   "metadata": {},
   "outputs": [
    {
     "name": "stdout",
     "output_type": "stream",
     "text": [
      "/Users/g.kandaurov/.zshenv:source:1: no such file or directory: .bash_profile\n",
      "zsh:kill:1: kill 9 failed: no such process\n"
     ]
    }
   ],
   "source": [
    "!kill 9 28379"
   ]
  },
  {
   "cell_type": "code",
   "execution_count": 65,
   "id": "2229f2cb-edcd-41a2-a5d3-023c2ce699bb",
   "metadata": {},
   "outputs": [
    {
     "data": {
      "text/plain": [
       "(False, False, 'ForkProcess-102', 28379)"
      ]
     },
     "execution_count": 65,
     "metadata": {},
     "output_type": "execute_result"
    }
   ],
   "source": [
    "proc.daemon, proc.is_alive(), proc.name, proc.pid"
   ]
  },
  {
   "cell_type": "code",
   "execution_count": null,
   "id": "cf751b5a-9cb2-43f6-a65f-649aa2915226",
   "metadata": {},
   "outputs": [],
   "source": []
  },
  {
   "cell_type": "code",
   "execution_count": null,
   "id": "53d8678f-cf1f-4779-a31d-224358a62269",
   "metadata": {},
   "outputs": [],
   "source": []
  },
  {
   "cell_type": "code",
   "execution_count": 15,
   "id": "2b526e6f-0dc4-4454-a040-e2121e12898f",
   "metadata": {},
   "outputs": [],
   "source": [
    "N = 10 ** 9\n",
    "\n",
    "\n",
    "def counter(a, b):\n",
    "    print(f\"start {os.getpid()=}, {os.getppid()=}\", a, b)\n",
    "    while a < b:\n",
    "        a += 1\n",
    "    print(f\"finish {os.getpid()=}, {os.getppid()=}\", a, b)"
   ]
  },
  {
   "cell_type": "code",
   "execution_count": 19,
   "id": "8789c949-0f97-4a1d-8cc1-85b6e479f9ea",
   "metadata": {},
   "outputs": [
    {
     "name": "stdout",
     "output_type": "stream",
     "text": [
      "start os.getpid()=44817, os.getppid()=30524 0 1000000000\n",
      "finish os.getpid()=44817, os.getppid()=30524 1000000000 1000000000\n",
      "total finish\n",
      "CPU times: user 8.6 s, sys: 95.3 ms, total: 8.7 s\n",
      "Wall time: 8.83 s\n"
     ]
    }
   ],
   "source": [
    "%%time\n",
    "\n",
    "counter(0, N)\n",
    "print(\"total finish\")"
   ]
  },
  {
   "cell_type": "code",
   "execution_count": 29,
   "id": "d6b7fff9-44ff-4a6d-9fc9-27a24bf99f4b",
   "metadata": {},
   "outputs": [
    {
     "name": "stdout",
     "output_type": "stream",
     "text": [
      "start os.getpid()=44153, os.getppid()=44817 start os.getpid()=44154, os.getppid()=448170start os.getpid()=44157, os.getppid()=44817  250000000  500000000250000000500000000 \n",
      "\n",
      "750000000start os.getpid()=44158, os.getppid()=44817\n",
      " 750000000 1000000000\n",
      "finish os.getpid()=44157, os.getppid()=44817 750000000 750000000\n",
      "finish os.getpid()=44158, os.getppid()=44817 1000000000 1000000000\n",
      "finish os.getpid()=44154, os.getppid()=44817 500000000 500000000\n",
      "finish os.getpid()=44153, os.getppid()=44817 250000000 250000000\n",
      "total finish\n",
      "CPU times: user 13.6 ms, sys: 28.4 ms, total: 42 ms\n",
      "Wall time: 3.05 s\n"
     ]
    }
   ],
   "source": [
    "%%time\n",
    "\n",
    "N = 10 ** 9\n",
    "PROCS = 4\n",
    "JOBS = N // PROCS\n",
    "\n",
    "procs = [\n",
    "    ctx.Process(target=counter, args=(i * JOBS, (i + 1) * JOBS))\n",
    "    for i in range(PROCS)\n",
    "]\n",
    "\n",
    "for pr in procs:\n",
    "    pr.start()\n",
    "\n",
    "for pr in procs:\n",
    "    pr.join()\n",
    "\n",
    "print(\"total finish\")"
   ]
  },
  {
   "cell_type": "code",
   "execution_count": 30,
   "id": "30aef2f5-1979-4949-9535-15cf70cddb31",
   "metadata": {},
   "outputs": [],
   "source": [
    "N = 10 ** 9\n",
    "\n",
    "\n",
    "def counter(a, b, lock):\n",
    "    with lock:\n",
    "        print(f\"start {os.getpid()=}, {os.getppid()=}\", a, b)\n",
    "\n",
    "    while a < b:\n",
    "        a += 1\n",
    "\n",
    "    with lock:\n",
    "        print(f\"finish {os.getpid()=}, {os.getppid()=}\", a, b)"
   ]
  },
  {
   "cell_type": "code",
   "execution_count": 31,
   "id": "75b13bc9-f7ec-4869-b9c2-11305b3f29d7",
   "metadata": {},
   "outputs": [
    {
     "name": "stdout",
     "output_type": "stream",
     "text": [
      "start os.getpid()=56825, os.getppid()=44817 0 250000000\n",
      "start os.getpid()=56826, os.getppid()=44817 250000000 500000000\n",
      "start os.getpid()=56827, os.getppid()=44817 500000000 750000000\n",
      "start os.getpid()=56828, os.getppid()=44817 750000000 1000000000\n",
      "finish os.getpid()=56826, os.getppid()=44817 500000000 500000000\n",
      "finish os.getpid()=56828, os.getppid()=44817 1000000000 1000000000\n",
      "finish os.getpid()=56825, os.getppid()=44817 250000000 250000000\n",
      "finish os.getpid()=56827, os.getppid()=44817 750000000 750000000\n",
      "total finish\n",
      "CPU times: user 13.6 ms, sys: 29 ms, total: 42.7 ms\n",
      "Wall time: 3.31 s\n"
     ]
    }
   ],
   "source": [
    "%%time\n",
    "\n",
    "N = 10 ** 9\n",
    "PROCS = 4\n",
    "JOBS = N // PROCS\n",
    "lock = mp.Lock()\n",
    "\n",
    "procs = [\n",
    "    ctx.Process(target=counter, args=(i * JOBS, (i + 1) * JOBS, lock))\n",
    "    for i in range(PROCS)\n",
    "]\n",
    "\n",
    "for pr in procs:\n",
    "    pr.start()\n",
    "\n",
    "for pr in procs:\n",
    "    pr.join()\n",
    "\n",
    "print(\"total finish\")"
   ]
  },
  {
   "cell_type": "code",
   "execution_count": null,
   "id": "7b52b9fa-d56d-4d65-9b31-e06b82610e41",
   "metadata": {},
   "outputs": [],
   "source": []
  },
  {
   "cell_type": "code",
   "execution_count": null,
   "id": "7b9399c3-2091-4e27-8415-c03863ca707f",
   "metadata": {},
   "outputs": [],
   "source": []
  },
  {
   "cell_type": "code",
   "execution_count": 51,
   "id": "574d6c23-309c-4b1e-9d60-59b96ec1207f",
   "metadata": {},
   "outputs": [],
   "source": [
    "class User:\n",
    "    def __init__(self, name):\n",
    "        self.name = name\n",
    "    def __repr__(self):\n",
    "        return f\"User[{self.name}, {id(self)}]\""
   ]
  },
  {
   "cell_type": "code",
   "execution_count": 58,
   "id": "bb6518fa-8fb4-4bc1-b426-c902a9fb742a",
   "metadata": {},
   "outputs": [],
   "source": [
    "def update_data(data):\n",
    "    print(f\"start update_data {os.getpid()}\", data)\n",
    "\n",
    "    data[123] = \"123\"\n",
    "    data[(\"user\", \"steve\", 11)] = User(\"steve\")\n",
    "    data[\"to_update\"] = \"updated\"\n",
    "    \n",
    "    print(f\"finish update_data {os.getpid()}\", data)"
   ]
  },
  {
   "cell_type": "code",
   "execution_count": 59,
   "id": "52afe57d-8e11-4c8a-983b-151203127440",
   "metadata": {},
   "outputs": [
    {
     "name": "stdout",
     "output_type": "stream",
     "text": [
      "start update_data 44817 {'to_update': 'init'}\n",
      "finish update_data 44817 {'to_update': 'updated', 123: '123', ('user', 'steve', 11): User[steve, 4472747152]}\n",
      "after update {'to_update': 'updated', 123: '123', ('user', 'steve', 11): User[steve, 4472747152]}\n"
     ]
    }
   ],
   "source": [
    "data = {\"to_update\": \"init\"}\n",
    "\n",
    "update_data(data)\n",
    "\n",
    "print(\"after update\", data)"
   ]
  },
  {
   "cell_type": "code",
   "execution_count": 61,
   "id": "01796986-0a59-4b84-aa44-6b5866b7711f",
   "metadata": {},
   "outputs": [
    {
     "name": "stdout",
     "output_type": "stream",
     "text": [
      "before {'to_update': 'init'}\n",
      "start update_data 20086 {'to_update': 'init'}\n",
      "finish update_data 20086 {'to_update': 'updated', 123: '123', ('user', 'steve', 11): User[steve, 4490595984]}\n",
      "after {'to_update': 'init'}\n"
     ]
    }
   ],
   "source": [
    "data = {\"to_update\": \"init\"}\n",
    "print(\"before\", data)\n",
    "\n",
    "proc = ctx.Process(target=update_data, args=(data,))\n",
    "proc.start()\n",
    "proc.join()\n",
    "\n",
    "print(\"after\", data)"
   ]
  },
  {
   "cell_type": "code",
   "execution_count": 4,
   "id": "fd4a731d-cb09-4311-9190-6c60f549ba8f",
   "metadata": {},
   "outputs": [],
   "source": [
    "ctx = mp.get_context(\"fork\")"
   ]
  },
  {
   "cell_type": "code",
   "execution_count": 10,
   "id": "59b07de4-2171-4166-9b54-8e9b6c076f05",
   "metadata": {},
   "outputs": [
    {
     "name": "stdout",
     "output_type": "stream",
     "text": [
      "before {'to_update': 'init'}\n",
      "start update_data 81472 {'to_update': 'init'}\n",
      "finish update_data 81472 {'to_update': 'updated', 123: '123', ('user', 'steve', 11): User[steve, 4739035360]}\n",
      "after 57960 {'to_update': 'updated', 123: '123', ('user', 'steve', 11): User[steve, 4739035360]}\n",
      "total end {'to_update': 'updated', 123: '123', ('user', 'steve', 11): User[steve, 4739033680]}\n"
     ]
    }
   ],
   "source": [
    "class User:\n",
    "    def __init__(self, name):\n",
    "        self.name = name\n",
    "    def __repr__(self):\n",
    "        return f\"User[{self.name}, {id(self)}]\"\n",
    "\n",
    "\n",
    "def update_data(data):\n",
    "    print(f\"start update_data {os.getpid()}\", data)\n",
    "\n",
    "    data[123] = \"123\"\n",
    "    data[(\"user\", \"steve\", 11)] = User(\"steve\")\n",
    "    data[\"to_update\"] = \"updated\"\n",
    "    \n",
    "    print(f\"finish update_data {os.getpid()}\", data)\n",
    "\n",
    "\n",
    "with ctx.Manager() as manager:\n",
    "    data = manager.dict()\n",
    "    data[\"to_update\"] = \"init\"\n",
    "    print(\"before\", data)\n",
    "\n",
    "    proc = ctx.Process(target=update_data, args=(data,))\n",
    "    proc.start()\n",
    "    proc.join()\n",
    "\n",
    "    print(\"after\", os.getpid(), data)\n",
    "    backup = dict(data)\n",
    "\n",
    "print(\"total end\", backup)"
   ]
  },
  {
   "cell_type": "code",
   "execution_count": 7,
   "id": "cb0084fa-f10d-4e66-8a06-95bd08a6e3b6",
   "metadata": {},
   "outputs": [
    {
     "data": {
      "text/plain": [
       "57960"
      ]
     },
     "execution_count": 7,
     "metadata": {},
     "output_type": "execute_result"
    }
   ],
   "source": [
    "os.getpid()"
   ]
  },
  {
   "cell_type": "code",
   "execution_count": null,
   "id": "e3dc92f3-2f64-4018-a9cf-47a7de3ae676",
   "metadata": {},
   "outputs": [],
   "source": []
  },
  {
   "cell_type": "code",
   "execution_count": null,
   "id": "6ae872d9-8a7c-4855-b09d-c96e366ccab9",
   "metadata": {},
   "outputs": [],
   "source": []
  },
  {
   "cell_type": "code",
   "execution_count": 26,
   "id": "81923a2d-3ad6-4da6-8247-49cc03b6cc8b",
   "metadata": {},
   "outputs": [],
   "source": [
    "def client(data):\n",
    "    print(f\"start client with {data=}\")\n",
    "    with socket.socket(socket.AF_INET, socket.SOCK_STREAM) as sock:\n",
    "        sock.connect((\"localhost\", 25_001))\n",
    "        sock.sendall(data.encode())\n",
    "        print(\"client: data sent\")\n",
    "        print(\"client: recv\", sock.recv(1024).decode())\n",
    "\n",
    "    print(f\"finish client\")\n",
    "\n",
    "\n",
    "def server():\n",
    "    print(f\"start server\")\n",
    "    with socket.socket(socket.AF_INET, socket.SOCK_STREAM) as sock:\n",
    "        sock.setsockopt(socket.SOL_SOCKET, socket.SO_REUSEPORT, 1)\n",
    "        sock.bind((\"localhost\", 25_001))\n",
    "        sock.listen(5)\n",
    "\n",
    "        i = 0\n",
    "        while i < 5:\n",
    "            i += 1\n",
    "            client, addr = sock.accept()\n",
    "            print(\"server: conn from\", addr, client)\n",
    "    \n",
    "            with client:\n",
    "                data = client.recv(1024).decode()\n",
    "                print(\"server: recv\", data)\n",
    "                client.sendall(data.upper().encode())\n",
    "\n",
    "    print(\"finish server\")"
   ]
  },
  {
   "cell_type": "code",
   "execution_count": 27,
   "id": "58c133e7-c27a-48ec-9858-8e5ee3624cdc",
   "metadata": {},
   "outputs": [
    {
     "name": "stdout",
     "output_type": "stream",
     "text": [
      "start server\n",
      "server: conn from ('127.0.0.1', 62615) <socket.socket fd=36, family=2, type=1, proto=0, laddr=('127.0.0.1', 25001), raddr=('127.0.0.1', 62615)>\n",
      "server: recv Варенье из картошки\n",
      "server: conn from ('127.0.0.1', 62648) <socket.socket fd=36, family=2, type=1, proto=0, laddr=('127.0.0.1', 25001), raddr=('127.0.0.1', 62648)>\n",
      "server: recv Варенье из картошки\n",
      "server: conn from ('127.0.0.1', 62689) <socket.socket fd=36, family=2, type=1, proto=0, laddr=('127.0.0.1', 25001), raddr=('127.0.0.1', 62689)>\n",
      "server: recv лампа\n",
      "server: conn from ('127.0.0.1', 62720) <socket.socket fd=36, family=2, type=1, proto=0, laddr=('127.0.0.1', 25001), raddr=('127.0.0.1', 62720)>\n",
      "server: recv лампа1\n",
      "server: conn from ('127.0.0.1', 62751) <socket.socket fd=36, family=2, type=1, proto=0, laddr=('127.0.0.1', 25001), raddr=('127.0.0.1', 62751)>\n",
      "server: recv лампа\n",
      "finish server\n"
     ]
    }
   ],
   "source": [
    "proc_server = ctx.Process(target=server)\n",
    "proc_server.start()"
   ]
  },
  {
   "cell_type": "code",
   "execution_count": 28,
   "id": "859c55dd-22d3-4510-be28-411803724685",
   "metadata": {},
   "outputs": [
    {
     "name": "stdout",
     "output_type": "stream",
     "text": [
      "start client with data='Варенье из картошки'\n",
      "client: data sent\n",
      "client: recv ВАРЕНЬЕ ИЗ КАРТОШКИ\n",
      "finish client\n"
     ]
    }
   ],
   "source": [
    "proc_client = ctx.Process(target=client, args=(\"Варенье из картошки\",))\n",
    "proc_client.start()\n",
    "proc_client.join()"
   ]
  },
  {
   "cell_type": "code",
   "execution_count": 17,
   "id": "4c2bb0d4-adf8-420f-8b77-591fb0f40425",
   "metadata": {},
   "outputs": [],
   "source": [
    "proc_server.join()"
   ]
  },
  {
   "cell_type": "code",
   "execution_count": 29,
   "id": "f8fc42f5-8630-48ad-8f2f-cce9e2cd2a69",
   "metadata": {},
   "outputs": [
    {
     "data": {
      "text/plain": [
       "True"
      ]
     },
     "execution_count": 29,
     "metadata": {},
     "output_type": "execute_result"
    }
   ],
   "source": [
    "proc_server.is_alive()"
   ]
  },
  {
   "cell_type": "code",
   "execution_count": 31,
   "id": "ccd73e11-1d64-4f58-8668-91cfefc3cc0e",
   "metadata": {},
   "outputs": [
    {
     "name": "stdout",
     "output_type": "stream",
     "text": [
      "start client with data='лампа'\n",
      "client: data sent\n",
      "client: recv ЛАМПА\n",
      "finish client\n"
     ]
    }
   ],
   "source": [
    "proc_client = ctx.Process(target=client, args=(\"лампа\",))\n",
    "proc_client.start()\n",
    "proc_client.join()"
   ]
  },
  {
   "cell_type": "code",
   "execution_count": 32,
   "id": "b3572be9-dcbe-4408-9811-eef51dfd78e1",
   "metadata": {},
   "outputs": [
    {
     "name": "stdout",
     "output_type": "stream",
     "text": [
      "start client with data='лампа1'\n",
      "client: data sent\n",
      "client: recv ЛАМПА1\n",
      "finish client\n"
     ]
    }
   ],
   "source": [
    "proc_client = ctx.Process(target=client, args=(\"лампа1\",))\n",
    "proc_client.start()\n",
    "proc_client.join()"
   ]
  },
  {
   "cell_type": "code",
   "execution_count": 33,
   "id": "da92100c-5e9e-41a8-8f0a-95ef327da91f",
   "metadata": {},
   "outputs": [
    {
     "name": "stdout",
     "output_type": "stream",
     "text": [
      "start client with data='лампа'\n",
      "client: data sent\n",
      "client: recv ЛАМПА\n",
      "finish client\n"
     ]
    }
   ],
   "source": [
    "proc_client = ctx.Process(target=client, args=(\"лампа\",))\n",
    "proc_client.start()\n",
    "proc_client.join()"
   ]
  },
  {
   "cell_type": "code",
   "execution_count": 34,
   "id": "d080ce25-435a-4f0f-b312-6a712cf67acc",
   "metadata": {},
   "outputs": [
    {
     "name": "stdout",
     "output_type": "stream",
     "text": [
      "start client with data='лампа'\n"
     ]
    },
    {
     "name": "stderr",
     "output_type": "stream",
     "text": [
      "Process ForkProcess-29:\n",
      "Traceback (most recent call last):\n",
      "  File \"/Library/Frameworks/Python.framework/Versions/3.14/lib/python3.14/multiprocessing/process.py\", line 320, in _bootstrap\n",
      "    self.run()\n",
      "    ~~~~~~~~^^\n",
      "  File \"/Library/Frameworks/Python.framework/Versions/3.14/lib/python3.14/multiprocessing/process.py\", line 108, in run\n",
      "    self._target(*self._args, **self._kwargs)\n",
      "    ~~~~~~~~~~~~^^^^^^^^^^^^^^^^^^^^^^^^^^^^^\n",
      "  File \"/var/folders/j3/m947cq0j0fx8t0rrdzw5kmb00000gp/T/ipykernel_57960/1524470039.py\", line 4, in client\n",
      "    sock.connect((\"localhost\", 25_001))\n",
      "    ~~~~~~~~~~~~^^^^^^^^^^^^^^^^^^^^^^^\n",
      "ConnectionRefusedError: [Errno 61] Connection refused\n"
     ]
    }
   ],
   "source": [
    "proc_client = ctx.Process(target=client, args=(\"лампа\",))\n",
    "proc_client.start()\n",
    "proc_client.join()"
   ]
  },
  {
   "cell_type": "code",
   "execution_count": null,
   "id": "9c662c56-21e5-46da-a292-d75b4bcd10d3",
   "metadata": {},
   "outputs": [],
   "source": []
  }
 ],
 "metadata": {
  "kernelspec": {
   "display_name": "Python 3 (ipykernel)",
   "language": "python",
   "name": "python3"
  },
  "language_info": {
   "codemirror_mode": {
    "name": "ipython",
    "version": 3
   },
   "file_extension": ".py",
   "mimetype": "text/x-python",
   "name": "python",
   "nbconvert_exporter": "python",
   "pygments_lexer": "ipython3",
   "version": "3.14.0"
  }
 },
 "nbformat": 4,
 "nbformat_minor": 5
}
