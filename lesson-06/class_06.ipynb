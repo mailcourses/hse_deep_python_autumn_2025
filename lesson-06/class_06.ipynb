{
 "cells": [
  {
   "cell_type": "code",
   "execution_count": 17,
   "id": "1500f3eb-70a6-479e-82ff-b2923f688bb2",
   "metadata": {},
   "outputs": [],
   "source": [
    "import threading\n",
    "import time"
   ]
  },
  {
   "cell_type": "code",
   "execution_count": 2,
   "id": "f9d7e239-2d74-424a-a619-d43caafec5f0",
   "metadata": {},
   "outputs": [
    {
     "data": {
      "text/plain": [
       "[<_MainThread(MainThread, started 8788844736)>,\n",
       " <Thread(IOPub, started daemon 6151532544)>,\n",
       " <Heartbeat(Heartbeat, started daemon 6168358912)>,\n",
       " <Thread(Thread-2 (_watch_pipe_fd), started daemon 6325039104)>,\n",
       " <Thread(Thread-3 (_watch_pipe_fd), started daemon 6341865472)>,\n",
       " <ControlThread(Control, started daemon 6358691840)>,\n",
       " <ShellChannelThread(Shell channel, started daemon 6375518208)>,\n",
       " <HistorySavingThread(IPythonHistorySavingThread, started 6392344576)>,\n",
       " <ParentPollerUnix(Thread-1, started daemon 6409170944)>]"
      ]
     },
     "execution_count": 2,
     "metadata": {},
     "output_type": "execute_result"
    }
   ],
   "source": [
    "threading.enumerate()"
   ]
  },
  {
   "cell_type": "code",
   "execution_count": 4,
   "id": "5e7ae735-3c78-47d8-b52b-81253d4cca0e",
   "metadata": {},
   "outputs": [
    {
     "name": "stderr",
     "output_type": "stream",
     "text": [
      "/var/folders/j3/m947cq0j0fx8t0rrdzw5kmb00000gp/T/ipykernel_81649/2258099811.py:1: DeprecationWarning: activeCount() is deprecated, use active_count() instead\n",
      "  threading.active_count(), threading.activeCount()\n"
     ]
    },
    {
     "data": {
      "text/plain": [
       "(9, 9)"
      ]
     },
     "execution_count": 4,
     "metadata": {},
     "output_type": "execute_result"
    }
   ],
   "source": [
    "threading.active_count(), threading.activeCount()"
   ]
  },
  {
   "cell_type": "code",
   "execution_count": 5,
   "id": "5ab87f03-8213-4cb3-954f-70551456546c",
   "metadata": {},
   "outputs": [],
   "source": [
    "th = threading.current_thread()"
   ]
  },
  {
   "cell_type": "code",
   "execution_count": 6,
   "id": "21a2c978-dbb1-4e48-bb3e-d1fd78e7eb1d",
   "metadata": {},
   "outputs": [
    {
     "data": {
      "text/plain": [
       "<_MainThread(MainThread, started 8788844736)>"
      ]
     },
     "execution_count": 6,
     "metadata": {},
     "output_type": "execute_result"
    }
   ],
   "source": [
    "th"
   ]
  },
  {
   "cell_type": "code",
   "execution_count": 10,
   "id": "06a30029-c3d4-43c5-82f3-52c76a0db525",
   "metadata": {},
   "outputs": [
    {
     "data": {
      "text/plain": [
       "('MainThread', False, 8788844736, 6574589)"
      ]
     },
     "execution_count": 10,
     "metadata": {},
     "output_type": "execute_result"
    }
   ],
   "source": [
    "th.name, th.daemon, th.ident, th.native_id"
   ]
  },
  {
   "cell_type": "code",
   "execution_count": 11,
   "id": "b4c697a0-df2b-4728-84f8-66f2d187919c",
   "metadata": {},
   "outputs": [
    {
     "data": {
      "text/plain": [
       "6574589"
      ]
     },
     "execution_count": 11,
     "metadata": {},
     "output_type": "execute_result"
    }
   ],
   "source": [
    "threading.get_native_id()"
   ]
  },
  {
   "cell_type": "code",
   "execution_count": null,
   "id": "ba3c3dd2-1243-49ce-8dfa-312c5c3abf96",
   "metadata": {},
   "outputs": [],
   "source": []
  },
  {
   "cell_type": "code",
   "execution_count": null,
   "id": "3e70ce29-87a7-4629-9122-b25dc7bb2a76",
   "metadata": {},
   "outputs": [],
   "source": []
  },
  {
   "cell_type": "code",
   "execution_count": null,
   "id": "bc5bab91-ad4e-4f11-98e2-7040691aca78",
   "metadata": {},
   "outputs": [],
   "source": []
  },
  {
   "cell_type": "code",
   "execution_count": 17,
   "id": "0daff4a6-4e04-42e6-921e-43d43230d09d",
   "metadata": {},
   "outputs": [
    {
     "name": "stdout",
     "output_type": "stream",
     "text": [
      "before start False\n",
      "self.name='Thread-8', self.native_id=7069458, self.daemon=False\n",
      "TH_10, i=0\n",
      "after start True\n",
      "TH_10, i=1\n",
      "TH_10, i=2\n",
      "TH_10, i=3\n"
     ]
    }
   ],
   "source": [
    "class DataProcessor(threading.Thread):\n",
    "    def __init__(self, n):\n",
    "        super().__init__()\n",
    "        self.n = n\n",
    "        self.result = 0\n",
    "\n",
    "    def run(self):\n",
    "        print(f\"{self.name=}, {self.native_id=}, {self.daemon=}\")\n",
    "\n",
    "        for i in range(self.n):\n",
    "            print(f\"TH_{self.n}, {i=}\")\n",
    "            self.result += i\n",
    "            time.sleep(1)\n",
    "\n",
    "\n",
    "data = DataProcessor(10)\n",
    "print(f\"before start {data.is_alive()}\")\n",
    "\n",
    "data.start()\n",
    "\n",
    "print(f\"after start {data.is_alive()}\")"
   ]
  },
  {
   "cell_type": "code",
   "execution_count": 18,
   "id": "25758b2e-5ae9-4acb-ac2a-00ff43dca70a",
   "metadata": {},
   "outputs": [
    {
     "name": "stdout",
     "output_type": "stream",
     "text": [
      "during start True 6\n",
      "TH_10, i=4\n",
      "TH_10, i=5\n",
      "TH_10, i=6\n",
      "TH_10, i=7\n",
      "TH_10, i=8\n",
      "TH_10, i=9\n"
     ]
    }
   ],
   "source": [
    "print(f\"during start {data.is_alive()}\", data.result)"
   ]
  },
  {
   "cell_type": "code",
   "execution_count": 19,
   "id": "a6fc21f5-f117-45ef-9543-1838e6fe7c66",
   "metadata": {},
   "outputs": [
    {
     "name": "stdout",
     "output_type": "stream",
     "text": [
      "during start False 45\n"
     ]
    }
   ],
   "source": [
    "print(f\"during start {data.is_alive()}\", data.result)"
   ]
  },
  {
   "cell_type": "code",
   "execution_count": null,
   "id": "bb3a2492-143e-40c3-87a2-125fd8e21a22",
   "metadata": {},
   "outputs": [],
   "source": []
  },
  {
   "cell_type": "code",
   "execution_count": null,
   "id": "cd00925a-c59f-42fb-bc69-0e9e1910b50f",
   "metadata": {},
   "outputs": [],
   "source": []
  },
  {
   "cell_type": "code",
   "execution_count": null,
   "id": "7ab8bfb2-4fa0-4f98-b6e7-fd64edabdd3f",
   "metadata": {},
   "outputs": [],
   "source": []
  },
  {
   "cell_type": "code",
   "execution_count": 20,
   "id": "4cf6c6eb-f648-4f3f-94b2-778b87ff02a4",
   "metadata": {},
   "outputs": [
    {
     "name": "stdout",
     "output_type": "stream",
     "text": [
      "before start False\n",
      "self.name='Thread-9', self.native_id=7076806, self.daemon=False\n",
      "TH_10, i=0\n",
      "TH_10, i=1\n",
      "TH_10, i=2\n",
      "TH_10, i=3\n",
      "TH_10, i=4\n",
      "TH_10, i=5\n",
      "TH_10, i=6\n",
      "TH_10, i=7\n",
      "TH_10, i=8\n",
      "TH_10, i=9\n",
      "after start False\n"
     ]
    }
   ],
   "source": [
    "class DataProcessor(threading.Thread):\n",
    "    def __init__(self, n):\n",
    "        super().__init__()\n",
    "        self.n = n\n",
    "        self.result = 0\n",
    "\n",
    "    def run(self):\n",
    "        print(f\"{self.name=}, {self.native_id=}, {self.daemon=}\")\n",
    "\n",
    "        for i in range(self.n):\n",
    "            print(f\"TH_{self.n}, {i=}\")\n",
    "            self.result += i\n",
    "            time.sleep(1)\n",
    "\n",
    "\n",
    "data = DataProcessor(10)\n",
    "print(f\"before start {data.is_alive()}\")\n",
    "\n",
    "data.start()\n",
    "data.join()\n",
    "\n",
    "print(f\"after start {data.is_alive()}\")"
   ]
  },
  {
   "cell_type": "code",
   "execution_count": 21,
   "id": "2ca26758-2c0c-4377-b6cb-0b65d4fa2de3",
   "metadata": {},
   "outputs": [
    {
     "name": "stdout",
     "output_type": "stream",
     "text": [
      "during start False 45\n"
     ]
    }
   ],
   "source": [
    "print(f\"during start {data.is_alive()}\", data.result)"
   ]
  },
  {
   "cell_type": "code",
   "execution_count": null,
   "id": "ad9833a1-aff7-4063-999e-822e8dc9836e",
   "metadata": {},
   "outputs": [],
   "source": []
  },
  {
   "cell_type": "code",
   "execution_count": null,
   "id": "dacc48d0-b8bf-4e5f-8bc5-fcfaaeb201ae",
   "metadata": {},
   "outputs": [],
   "source": []
  },
  {
   "cell_type": "code",
   "execution_count": 22,
   "id": "87f08250-ea29-4ad8-95cf-ceae2c04e4c2",
   "metadata": {},
   "outputs": [
    {
     "name": "stdout",
     "output_type": "stream",
     "text": [
      "before start False\n",
      "self.name='Thread-10', self.native_id=7096881, self.daemon=False\n",
      "TH_10, i=0\n",
      "TH_10, i=1\n",
      "TH_10, i=2\n",
      "TH_10, i=3\n",
      "TH_10, i=4\n",
      "after start True 10\n"
     ]
    }
   ],
   "source": [
    "class DataProcessor(threading.Thread):\n",
    "    def __init__(self, n):\n",
    "        super().__init__()\n",
    "        self.n = n\n",
    "        self.result = 0\n",
    "\n",
    "    def run(self):\n",
    "        print(f\"{self.name=}, {self.native_id=}, {self.daemon=}\")\n",
    "\n",
    "        for i in range(self.n):\n",
    "            print(f\"TH_{self.n}, {i=}\")\n",
    "            self.result += i\n",
    "            time.sleep(1)\n",
    "\n",
    "\n",
    "data = DataProcessor(10)\n",
    "print(f\"before start {data.is_alive()}\")\n",
    "\n",
    "data.start()\n",
    "data.join(5)\n",
    "\n",
    "print(f\"after start {data.is_alive()}\", data.result)"
   ]
  },
  {
   "cell_type": "code",
   "execution_count": 23,
   "id": "4359fc11-5ff8-4395-a390-7d6e6ff1186a",
   "metadata": {},
   "outputs": [
    {
     "name": "stdout",
     "output_type": "stream",
     "text": [
      "during start True 10\n",
      "TH_10, i=5\n",
      "TH_10, i=6\n",
      "TH_10, i=7\n",
      "TH_10, i=8\n",
      "TH_10, i=9\n"
     ]
    }
   ],
   "source": [
    "print(f\"during start {data.is_alive()}\", data.result)"
   ]
  },
  {
   "cell_type": "code",
   "execution_count": null,
   "id": "ccbe49b4-e011-44c7-864a-8bae9a4299f3",
   "metadata": {},
   "outputs": [],
   "source": []
  },
  {
   "cell_type": "code",
   "execution_count": null,
   "id": "fe121a8a-98f0-4e97-b09d-e0333ced1e6d",
   "metadata": {},
   "outputs": [],
   "source": []
  },
  {
   "cell_type": "code",
   "execution_count": 37,
   "id": "5122f772-b509-4ec2-88d1-4f715c901cd2",
   "metadata": {},
   "outputs": [],
   "source": [
    "N = 10 ** 9\n",
    "\n",
    "\n",
    "def counter(a, b):\n",
    "    print(\"start\", threading.current_thread().name, a, b)\n",
    "    while a < b:\n",
    "        a += 1\n",
    "    print(\"finish\", threading.current_thread().name)"
   ]
  },
  {
   "cell_type": "code",
   "execution_count": 34,
   "id": "c9c57249-9639-4dcc-88a9-663d0e8234cf",
   "metadata": {},
   "outputs": [
    {
     "name": "stdout",
     "output_type": "stream",
     "text": [
      "start MainThread\n",
      "finish\n",
      "CPU times: user 8.65 s, sys: 51.7 ms, total: 8.7 s\n",
      "Wall time: 8.85 s\n"
     ]
    }
   ],
   "source": [
    "%%time\n",
    "\n",
    "\n",
    "counter(0, N)"
   ]
  },
  {
   "cell_type": "code",
   "execution_count": 35,
   "id": "03088b4f-15f0-4771-a05f-98d3f8304108",
   "metadata": {},
   "outputs": [
    {
     "name": "stdout",
     "output_type": "stream",
     "text": [
      "start Thread-14 (counter)\n",
      "finish\n",
      "after start\n",
      "CPU times: user 8.64 s, sys: 74.7 ms, total: 8.72 s\n",
      "Wall time: 8.84 s\n"
     ]
    }
   ],
   "source": [
    "%%time\n",
    "\n",
    "th = threading.Thread(target=counter, args=(0, N))\n",
    "th.start()\n",
    "th.join()\n",
    "print(\"after start\")"
   ]
  },
  {
   "cell_type": "code",
   "execution_count": null,
   "id": "1bf1f7f5-234b-4ad8-85ff-f5c0a263d786",
   "metadata": {},
   "outputs": [],
   "source": []
  },
  {
   "cell_type": "code",
   "execution_count": null,
   "id": "00787659-a4b7-4215-9a7e-a116a59793db",
   "metadata": {},
   "outputs": [],
   "source": []
  },
  {
   "cell_type": "code",
   "execution_count": null,
   "id": "6551b39c-a4d3-4fc0-9f62-87189e2de16e",
   "metadata": {},
   "outputs": [],
   "source": []
  },
  {
   "cell_type": "code",
   "execution_count": 38,
   "id": "72af041c-be4f-44df-8bc6-4cca6e34fedf",
   "metadata": {},
   "outputs": [],
   "source": [
    "N = 10 ** 9\n",
    "\n",
    "\n",
    "def counter(a, b):\n",
    "    print(\"start\", threading.current_thread().name, a, b)\n",
    "    while a < b:\n",
    "        a += 1\n",
    "    print(\"finish\", threading.current_thread().name)"
   ]
  },
  {
   "cell_type": "code",
   "execution_count": 45,
   "id": "c48e1344-775c-4a32-b806-59d224632a01",
   "metadata": {},
   "outputs": [
    {
     "name": "stdout",
     "output_type": "stream",
     "text": [
      "startstart Counter[1] 100000000 200000000\n",
      " Counter[0] 0 100000000\n",
      "start Counter[2] 200000000 300000000\n",
      "start Counter[3] 300000000 400000000\n",
      "start Counter[4] 400000000 500000000\n",
      "start Counter[5] 500000000 600000000\n",
      "start Counter[6] 600000000 700000000\n",
      "start Counter[7] 700000000 800000000\n",
      "start Counter[8] 800000000 900000000\n",
      "start Counter[9] 900000000 1000000000\n",
      "finish Counter[1]\n",
      "finishfinish Counter[2]\n",
      " Counter[0]\n",
      "finish Counter[3]\n",
      "finish Counter[5]\n",
      "finish Counter[8]\n",
      "finish Counter[7]\n",
      "finish Counter[4]\n",
      "finishfinish Counter[9]\n",
      " Counter[6]\n",
      "after start\n",
      "CPU times: user 8.69 s, sys: 176 ms, total: 8.87 s\n",
      "Wall time: 8.93 s\n"
     ]
    }
   ],
   "source": [
    "%%time\n",
    "\n",
    "N = 10 ** 9\n",
    "N_THREADS = 10\n",
    "JOB_SIZE = N // N_THREADS\n",
    "\n",
    "\n",
    "threads = [\n",
    "    threading.Thread(\n",
    "        target=counter,\n",
    "        args=(i * JOB_SIZE, (i + 1) * JOB_SIZE),\n",
    "        name=f\"Counter[{i}]\",\n",
    "    )\n",
    "    for i in range(N_THREADS)\n",
    "]\n",
    "\n",
    "for th in threads:\n",
    "    th.start()\n",
    "\n",
    "for th in threads:\n",
    "    th.join()\n",
    "\n",
    "print(\"after start\")"
   ]
  },
  {
   "cell_type": "code",
   "execution_count": null,
   "id": "1110b3ee-c65f-4989-baf3-53738006c7a1",
   "metadata": {},
   "outputs": [],
   "source": []
  },
  {
   "cell_type": "code",
   "execution_count": null,
   "id": "3a2be6c6-e197-4292-9ba5-ccedcca0c160",
   "metadata": {},
   "outputs": [],
   "source": []
  },
  {
   "cell_type": "code",
   "execution_count": null,
   "id": "06030d0e-db4e-4231-a6d2-aaf8b982e66f",
   "metadata": {},
   "outputs": [],
   "source": []
  },
  {
   "cell_type": "code",
   "execution_count": null,
   "id": "4257953d-6d8e-4f0a-ba94-3e6c170c7744",
   "metadata": {},
   "outputs": [],
   "source": []
  },
  {
   "cell_type": "code",
   "execution_count": null,
   "id": "49270b87-1b8f-4838-bb81-e9581ebb9f71",
   "metadata": {},
   "outputs": [],
   "source": []
  },
  {
   "cell_type": "code",
   "execution_count": 53,
   "id": "584c5e23-9113-478d-bb71-8046c9121bee",
   "metadata": {},
   "outputs": [
    {
     "name": "stdout",
     "output_type": "stream",
     "text": [
      "before {ref_counter=}\n",
      "start Counter[0] 0 10000000\n",
      "start Counter[1] 10000000 20000000\n",
      "start Counter[2] 20000000 30000000\n",
      "start Counter[3] 30000000 40000000\n",
      "start Counter[4] 40000000 50000000\n",
      "start Counter[5] 50000000 60000000\n",
      "start Counter[6] 60000000 70000000\n",
      "start Counter[7] 70000000 80000000\n",
      "start Counter[8] 80000000 90000000\n",
      "start Counter[9] 90000000 100000000\n",
      "finishfinish Counter[0]\n",
      "finish Counter[3]\n",
      " Counter[2]\n",
      "finish Counter[1]\n",
      "finishfinish Counter[9]\n",
      " Counter[8]\n",
      "finish Counter[7]\n",
      "finish Counter[6]\n",
      "finish Counter[4]\n",
      "finish Counter[5]\n",
      "after ref_counter=20354856, ref_counter == N=False\n",
      "CPU times: user 4.72 s, sys: 97.7 ms, total: 4.82 s\n",
      "Wall time: 4.84 s\n"
     ]
    }
   ],
   "source": [
    "%%time\n",
    "\n",
    "N = 10 ** 8\n",
    "N_THREADS = 10\n",
    "JOB_SIZE = N // N_THREADS\n",
    "\n",
    "\n",
    "ref_counter = 0\n",
    "\n",
    "def counter(a, b):\n",
    "    print(\"start\", threading.current_thread().name, a, b)\n",
    "    global ref_counter\n",
    "\n",
    "    while a < b:\n",
    "        a += 1\n",
    "        \n",
    "        tmp = ref_counter\n",
    "        y = tmp + 10\n",
    "        x = min(y, ref_counter)\n",
    "        tmp += 1\n",
    "        ref_counter = tmp\n",
    "\n",
    "    print(\"finish\", threading.current_thread().name)\n",
    "\n",
    "\n",
    "threads = [\n",
    "    threading.Thread(\n",
    "        target=counter,\n",
    "        args=(i * JOB_SIZE, (i + 1) * JOB_SIZE),\n",
    "        name=f\"Counter[{i}]\",\n",
    "    )\n",
    "    for i in range(N_THREADS)\n",
    "]\n",
    "\n",
    "print(\"before {ref_counter=}\")\n",
    "\n",
    "for th in threads:\n",
    "    th.start()\n",
    "\n",
    "for th in threads:\n",
    "    th.join()\n",
    "\n",
    "print(f\"after {ref_counter=}, {ref_counter == N=}\")"
   ]
  },
  {
   "cell_type": "code",
   "execution_count": null,
   "id": "2a9ebc99-b75f-4e09-baaa-8dafe052c659",
   "metadata": {},
   "outputs": [],
   "source": []
  },
  {
   "cell_type": "code",
   "execution_count": null,
   "id": "caade2ff-182e-4a2e-a683-1f108bfa1024",
   "metadata": {},
   "outputs": [],
   "source": []
  },
  {
   "cell_type": "code",
   "execution_count": 56,
   "id": "c1a42ff7-4b31-4ed2-aad0-bcd8cd10cf24",
   "metadata": {},
   "outputs": [
    {
     "name": "stdout",
     "output_type": "stream",
     "text": [
      "before {ref_counter=}\n",
      "start Counter[0] 0 10000000\n",
      "start Counter[1] 10000000 20000000\n",
      "start Counter[2] 20000000 30000000\n",
      "start Counter[3] 30000000 40000000\n",
      "start Counter[4] 40000000 50000000\n",
      "start Counter[5] 50000000 60000000\n",
      "start Counter[6] 60000000 70000000\n",
      "start Counter[7] 70000000 80000000\n",
      "start Counter[8] 80000000 90000000\n",
      "start Counter[9] 90000000 100000000\n",
      "finish Counter[4]\n",
      "finish Counter[1]\n",
      "finish Counter[7]\n",
      "finish Counter[9]\n",
      "finish Counter[3]\n",
      "finish Counter[2]\n",
      "finish Counter[0]\n",
      "finish Counter[8]\n",
      "finish Counter[6]\n",
      "finish Counter[5]\n",
      "after ref_counter=100000000, ref_counter == N=True\n",
      "CPU times: user 7.04 s, sys: 244 ms, total: 7.29 s\n",
      "Wall time: 7.25 s\n"
     ]
    }
   ],
   "source": [
    "%%time\n",
    "\n",
    "N = 10 ** 8\n",
    "N_THREADS = 10\n",
    "JOB_SIZE = N // N_THREADS\n",
    "\n",
    "\n",
    "ref_counter = 0\n",
    "mutex = threading.Lock()\n",
    "\n",
    "\n",
    "def counter(a, b):\n",
    "    print(\"start\", threading.current_thread().name, a, b)\n",
    "    global ref_counter\n",
    "    \n",
    "    while a < b:\n",
    "        a += 1\n",
    "\n",
    "        with mutex:\n",
    "            tmp = ref_counter\n",
    "            y = tmp + 10\n",
    "            x = min(y, ref_counter)\n",
    "            tmp += 1\n",
    "            ref_counter = tmp\n",
    "\n",
    "    print(\"finish\", threading.current_thread().name)\n",
    "\n",
    "\n",
    "threads = [\n",
    "    threading.Thread(\n",
    "        target=counter,\n",
    "        args=(i * JOB_SIZE, (i + 1) * JOB_SIZE),\n",
    "        name=f\"Counter[{i}]\",\n",
    "    )\n",
    "    for i in range(N_THREADS)\n",
    "]\n",
    "\n",
    "print(\"before {ref_counter=}\")\n",
    "\n",
    "for th in threads:\n",
    "    th.start()\n",
    "\n",
    "for th in threads:\n",
    "    th.join()\n",
    "\n",
    "print(f\"after {ref_counter=}, {ref_counter == N=}\")"
   ]
  },
  {
   "cell_type": "code",
   "execution_count": null,
   "id": "5d9471be-eba2-413a-b76a-ed33c5233dcb",
   "metadata": {},
   "outputs": [],
   "source": []
  },
  {
   "cell_type": "code",
   "execution_count": 14,
   "id": "602103e2-ad80-4f3f-a9a1-fef11bfa14d5",
   "metadata": {},
   "outputs": [
    {
     "name": "stdout",
     "output_type": "stream",
     "text": [
      "/Users/g.kandaurov/.zshenv:source:1: no such file or directory: .bash_profile\n",
      "import time\n",
      "import threading\n",
      "\n",
      "N = 2 * 10 ** 9\n",
      "N_THREADS = 10\n",
      "N_JOBS = N // N_THREADS\n",
      "\n",
      "\n",
      "def counter(a, b):\n",
      "    print(f\"{threading.current_thread().name=} -- started\")\n",
      "    while a < b:\n",
      "        a += 1\n",
      "    print(f\"{threading.current_thread().name=} -- finish\")\n",
      "\n",
      "\n",
      "threads = [\n",
      "    threading.Thread(\n",
      "        target=counter,\n",
      "        args=(i * N_JOBS, (i + 1) * N_JOBS),\n",
      "        name=f\"counter_{i}\"\n",
      "    )\n",
      "    for i in range(N_THREADS)\n",
      "]\n",
      "t1 = time.time()\n",
      "\n",
      "for th in threads:\n",
      "    th.start()\n",
      "\n",
      "for th in threads:\n",
      "    th.join()\n",
      "\n",
      "t2 = time.time()\n",
      "\n",
      "\n",
      "print(\"TT\", t2 - t1)\n"
     ]
    }
   ],
   "source": [
    "!cat ../check_no_gil.py"
   ]
  },
  {
   "cell_type": "code",
   "execution_count": 13,
   "id": "cc5abd5f-b93d-46f8-8edb-56a5e99ba71c",
   "metadata": {},
   "outputs": [
    {
     "name": "stdout",
     "output_type": "stream",
     "text": [
      "/Users/g.kandaurov/.zshenv:source:1: no such file or directory: .bash_profile\n",
      "threading.current_thread().name='counter_0' -- started\n",
      "threading.current_thread().name='counter_1' -- started\n",
      "threading.current_thread().name='counter_2' -- started\n",
      "threading.current_thread().name='counter_3' -- started\n",
      "threading.current_thread().name='counter_4' -- started\n",
      "threading.current_thread().name='counter_5' -- started\n",
      "threading.current_thread().name='counter_6' -- started\n",
      "threading.current_thread().name='counter_7' -- started\n",
      "threading.current_thread().name='counter_8' -- started\n",
      "threading.current_thread().name='counter_9' -- started\n",
      "threading.current_thread().name='counter_4' -- finish\n",
      "threading.current_thread().name='counter_1' -- finish\n",
      "threading.current_thread().name='counter_2' -- finish\n",
      "threading.current_thread().name='counter_3' -- finish\n",
      "threading.current_thread().name='counter_0' -- finish\n",
      "threading.current_thread().name='counter_5' -- finish\n",
      "threading.current_thread().name='counter_8' -- finish\n",
      "threading.current_thread().name='counter_7' -- finish\n",
      "threading.current_thread().name='counter_9' -- finish\n",
      "threading.current_thread().name='counter_6' -- finish\n",
      "TT 24.713435173034668\n"
     ]
    }
   ],
   "source": [
    "!python3.14 ../check_no_gil.py"
   ]
  },
  {
   "cell_type": "code",
   "execution_count": 15,
   "id": "7ba9192f-cddc-428e-a065-347869e43aa0",
   "metadata": {},
   "outputs": [
    {
     "name": "stdout",
     "output_type": "stream",
     "text": [
      "/Users/g.kandaurov/.zshenv:source:1: no such file or directory: .bash_profile\n",
      "threading.current_thread().name='counter_0' -- started\n",
      "threading.current_thread().name='counter_1' -- started\n",
      "threading.current_thread().name='counter_2' -- started\n",
      "threading.current_thread().name='counter_3' -- started\n",
      "threading.current_thread().name='counter_4' -- started\n",
      "threading.current_thread().name='counter_5' -- started\n",
      "threading.current_thread().name='counter_6' -- started\n",
      "threading.current_thread().name='counter_7' -- started\n",
      "threading.current_thread().name='counter_8' -- started\n",
      "threading.current_thread().name='counter_9' -- started\n",
      "threading.current_thread().name='counter_0' -- finish\n",
      "threading.current_thread().name='counter_9' -- finish\n",
      "threading.current_thread().name='counter_2' -- finish\n",
      "threading.current_thread().name='counter_1' -- finish\n",
      "threading.current_thread().name='counter_4' -- finish\n",
      "threading.current_thread().name='counter_3' -- finish\n",
      "threading.current_thread().name='counter_5' -- finish\n",
      "threading.current_thread().name='counter_6' -- finish\n",
      "threading.current_thread().name='counter_7' -- finish\n",
      "threading.current_thread().name='counter_8' -- finish\n",
      "TT 6.668200969696045\n"
     ]
    }
   ],
   "source": [
    "!python3.14t ../check_no_gil.py"
   ]
  },
  {
   "cell_type": "code",
   "execution_count": null,
   "id": "5a891c9f-6b75-4e51-bfbb-2c6396372c58",
   "metadata": {},
   "outputs": [],
   "source": []
  },
  {
   "cell_type": "code",
   "execution_count": null,
   "id": "94012992-94e0-4206-8c6e-d5008d8f9032",
   "metadata": {},
   "outputs": [],
   "source": []
  },
  {
   "cell_type": "code",
   "execution_count": null,
   "id": "d5c7a5ee-2167-4a93-bbed-08b97260b586",
   "metadata": {},
   "outputs": [],
   "source": []
  },
  {
   "cell_type": "code",
   "execution_count": null,
   "id": "6cd811ce-d2b0-4d9d-a45c-388e68a688d7",
   "metadata": {},
   "outputs": [],
   "source": []
  },
  {
   "cell_type": "code",
   "execution_count": 3,
   "id": "0314a21e-9661-4f7b-948b-6f856f3f65b5",
   "metadata": {},
   "outputs": [],
   "source": [
    "import threading\n",
    "import time\n",
    "from urllib.request import urlopen\n",
    "import queue"
   ]
  },
  {
   "cell_type": "code",
   "execution_count": 2,
   "id": "d16f1d13-ae1a-41df-ad5e-0fe5cb8bfd05",
   "metadata": {},
   "outputs": [],
   "source": [
    "URL = \"https://www.python.org/\""
   ]
  },
  {
   "cell_type": "code",
   "execution_count": 3,
   "id": "6b335b01-4759-4b0c-aab7-d41e2a593e30",
   "metadata": {},
   "outputs": [],
   "source": [
    "def fetch_url(url):\n",
    "    return urlopen(url)"
   ]
  },
  {
   "cell_type": "code",
   "execution_count": 4,
   "id": "8c304404-28a4-412e-9c74-b9167c71f412",
   "metadata": {},
   "outputs": [],
   "source": [
    "res = fetch_url(URL)"
   ]
  },
  {
   "cell_type": "code",
   "execution_count": 7,
   "id": "424f2465-3be8-4cbb-bb55-876ab80c0154",
   "metadata": {},
   "outputs": [
    {
     "data": {
      "text/plain": [
       "200"
      ]
     },
     "execution_count": 7,
     "metadata": {},
     "output_type": "execute_result"
    }
   ],
   "source": [
    "res.code"
   ]
  },
  {
   "cell_type": "code",
   "execution_count": 28,
   "id": "54f6caa1-0aa7-412c-864d-1d8495f5cf9c",
   "metadata": {},
   "outputs": [
    {
     "name": "stdout",
     "output_type": "stream",
     "text": [
      "startstart Fetcher[1]\n",
      " Fetcher[0]\n",
      "start Fetcher[2]\n",
      "start Fetcher[3]\n",
      "finish Fetcher[2] 4.1170148849487305\n",
      "finish Fetcher[1] 4.185544013977051\n",
      "finish Fetcher[3] 4.488710880279541\n",
      "finish Fetcher[0] 6.500096082687378\n",
      "CPU times: user 75.1 ms, sys: 37 ms, total: 112 ms\n",
      "Wall time: 6.5 s\n"
     ]
    }
   ],
   "source": [
    "%%time\n",
    "\n",
    "N = 20\n",
    "URL = \"https://www.python.org/\"\n",
    "URLS = [URL] * N\n",
    "N_THREADS = 4\n",
    "JOB_SIZE = N // N_THREADS\n",
    "\n",
    "\n",
    "def fetch_url(url):\n",
    "    return urlopen(url)\n",
    "    #time.sleep(1)\n",
    "\n",
    "\n",
    "def fetch_batch_urls(urls):\n",
    "    print(\"start\", threading.current_thread().name)\n",
    "    t1 = time.time()\n",
    "    \n",
    "    for url in urls:\n",
    "        fetch_url(url)\n",
    "\n",
    "    print(\"finish\", threading.current_thread().name, time.time() - t1)\n",
    "\n",
    "\n",
    "threads = [\n",
    "    threading.Thread(\n",
    "        target=fetch_batch_urls,\n",
    "        args=(URLS[i * JOB_SIZE : (i + 1) * JOB_SIZE],),\n",
    "        name=f\"Fetcher[{i}]\",\n",
    "    )\n",
    "    for i in range(N_THREADS)\n",
    "]\n",
    "\n",
    "for th in threads:\n",
    "    th.start()\n",
    "\n",
    "for th in threads:\n",
    "    th.join()"
   ]
  },
  {
   "cell_type": "code",
   "execution_count": null,
   "id": "81fa0df3-cdf3-4d03-82cc-ce93e4096f87",
   "metadata": {},
   "outputs": [],
   "source": []
  },
  {
   "cell_type": "code",
   "execution_count": 29,
   "id": "5651443d-64cf-455e-a1e8-cee81a64d4e9",
   "metadata": {},
   "outputs": [],
   "source": [
    "import queue"
   ]
  },
  {
   "cell_type": "code",
   "execution_count": 4,
   "id": "f3097b0c-3f85-4854-887b-df897e2e5b65",
   "metadata": {},
   "outputs": [
    {
     "name": "stdout",
     "output_type": "stream",
     "text": [
      "startstart Fetcher[1]\n",
      " Fetcher[0]\n",
      "start Fetcher[2]\n",
      "start Fetcher[3]\n",
      "finish cnt=5finish cnt=5 Fetcher[3] 5.146667003631592\n",
      " Fetcher[2] 5.1464009284973145\n",
      "finish cnt=5 Fetcher[0] 5.158473014831543\n",
      "finish cnt=5 Fetcher[1] 5.3739283084869385\n",
      "CPU times: user 530 ms, sys: 40.5 ms, total: 571 ms\n",
      "Wall time: 5.38 s\n"
     ]
    }
   ],
   "source": [
    "%%time\n",
    "\n",
    "N = 20\n",
    "URL = \"https://www.python.org/\"\n",
    "URLS = [URL] * N\n",
    "N_THREADS = 4\n",
    "\n",
    "\n",
    "def fetch_url(url):\n",
    "    return urlopen(url)\n",
    "\n",
    "\n",
    "def fetch_batch_worker(que):\n",
    "    print(\"start\", threading.current_thread().name)\n",
    "    t1 = time.time()\n",
    "\n",
    "    cnt = 0\n",
    "    \n",
    "    while True:\n",
    "        url = que.get()\n",
    "        if url is None:\n",
    "            que.put(url)\n",
    "            break\n",
    "\n",
    "        fetch_url(url)\n",
    "        cnt += 1\n",
    "\n",
    "    print(f\"finish {cnt=}\", threading.current_thread().name, time.time() - t1)\n",
    "\n",
    "\n",
    "def run():\n",
    "    que = queue.Queue()\n",
    "    for url in URLS:\n",
    "        que.put(url)\n",
    "\n",
    "    que.put(None)\n",
    "\n",
    "    threads = [\n",
    "        threading.Thread(\n",
    "            target=fetch_batch_worker,\n",
    "            args=(que,),\n",
    "            name=f\"Fetcher[{i}]\",\n",
    "        )\n",
    "        for i in range(N_THREADS)\n",
    "    ]\n",
    "    \n",
    "    for th in threads:\n",
    "        th.start()\n",
    "    \n",
    "    for th in threads:\n",
    "        th.join()\n",
    "\n",
    "\n",
    "run()"
   ]
  },
  {
   "cell_type": "code",
   "execution_count": null,
   "id": "86bc237b-c2cb-40ff-8674-5287b5198edd",
   "metadata": {},
   "outputs": [],
   "source": []
  },
  {
   "cell_type": "code",
   "execution_count": null,
   "id": "4aaf9d90-c4a1-424b-a99b-e35bd361f591",
   "metadata": {},
   "outputs": [],
   "source": []
  },
  {
   "cell_type": "code",
   "execution_count": 10,
   "id": "c6cd9155-21fd-4616-ac15-b3fd85eb8de0",
   "metadata": {},
   "outputs": [
    {
     "name": "stdout",
     "output_type": "stream",
     "text": [
      "start Fetcher[0]\n",
      "start Fetcher[1]\n",
      "start Fetcher[2]\n",
      "start Fetcher[3]\n",
      "finish cnt=5finish cnt=5 Fetcher[2] 5.020750045776367\n",
      "finish cnt=5 Fetcher[1] 5.021289825439453\n",
      "finish cnt=5 Fetcher[0] 5.021651983261108\n",
      " Fetcher[3] 5.019881963729858\n",
      "CPU times: user 4.33 ms, sys: 3.33 ms, total: 7.66 ms\n",
      "Wall time: 5.02 s\n"
     ]
    }
   ],
   "source": [
    "%%time\n",
    "\n",
    "N = 20\n",
    "URL = \"https://www.python.org/\"\n",
    "URLS = [URL] * N\n",
    "N_THREADS = 4\n",
    "\n",
    "\n",
    "def fetch_url(url, sem):\n",
    "    with sem:\n",
    "        return urlopen(url)\n",
    "        #time.sleep(1)\n",
    "\n",
    "\n",
    "def fetch_batch_worker(que, sem):\n",
    "    print(\"start\", threading.current_thread().name)\n",
    "    t1 = time.time()\n",
    "\n",
    "    cnt = 0\n",
    "    \n",
    "    while True:\n",
    "        url = que.get()\n",
    "        if url is None:\n",
    "            que.put(url)\n",
    "            break\n",
    "\n",
    "        fetch_url(url, sem)\n",
    "        cnt += 1\n",
    "\n",
    "    print(f\"finish {cnt=}\", threading.current_thread().name, time.time() - t1)\n",
    "\n",
    "\n",
    "def run():\n",
    "    que = queue.Queue()\n",
    "    for url in URLS:\n",
    "        que.put(url)\n",
    "\n",
    "    que.put(None)\n",
    "\n",
    "    sem = threading.Semaphore(4)\n",
    "\n",
    "    threads = [\n",
    "        threading.Thread(\n",
    "            target=fetch_batch_worker,\n",
    "            args=(que, sem),\n",
    "            name=f\"Fetcher[{i}]\",\n",
    "        )\n",
    "        for i in range(N_THREADS)\n",
    "    ]\n",
    "    \n",
    "    for th in threads:\n",
    "        th.start()\n",
    "    \n",
    "    for th in threads:\n",
    "        th.join()\n",
    "\n",
    "\n",
    "run()"
   ]
  },
  {
   "cell_type": "code",
   "execution_count": null,
   "id": "e369e1fe-a12e-43d3-96cf-aa359fc8bfa2",
   "metadata": {},
   "outputs": [],
   "source": []
  },
  {
   "cell_type": "code",
   "execution_count": null,
   "id": "278f57ac-c55e-41f2-a525-1971da18e806",
   "metadata": {},
   "outputs": [],
   "source": []
  },
  {
   "cell_type": "code",
   "execution_count": 14,
   "id": "c3fa3f10-fd8c-48cf-9846-0b5ed2366caa",
   "metadata": {},
   "outputs": [
    {
     "name": "stdout",
     "output_type": "stream",
     "text": [
      "start Fetcher[0]\n",
      "start Fetcher[1]\n",
      "process_error in threading.current_thread().name='Fetcher[0]' (_thread._ExceptHookArgs(exc_type=<class 'Exception'>, exc_value=Exception('Wrong cnt=2'), exc_traceback=<traceback object at 0x1118badc0>, thread=<Thread(Fetcher[0], started 13170143232)>),) {}\n",
      "process_error in threading.current_thread().name='Fetcher[1]' (_thread._ExceptHookArgs(exc_type=<class 'Exception'>, exc_value=Exception('Wrong cnt=2'), exc_traceback=<traceback object at 0x11183bd80>, thread=<Thread(Fetcher[1], started 13186969600)>),) {}\n",
      "OK\n",
      "CPU times: user 14.3 ms, sys: 7.01 ms, total: 21.3 ms\n",
      "Wall time: 1.53 s\n"
     ]
    }
   ],
   "source": [
    "%%time\n",
    "\n",
    "N = 20\n",
    "URL = \"https://www.python.org/\"\n",
    "URLS = [URL] * N\n",
    "N_THREADS = 2\n",
    "\n",
    "\n",
    "def process_error(*args, **kwargs):\n",
    "    print(f\"process_error in {threading.current_thread().name=}\", args, kwargs)\n",
    "\n",
    "\n",
    "threading.excepthook = process_error\n",
    "\n",
    "\n",
    "def fetch_url(url):\n",
    "    return urlopen(url)\n",
    "\n",
    "\n",
    "def fetch_batch_worker(que):\n",
    "    print(\"start\", threading.current_thread().name)\n",
    "    t1 = time.time()\n",
    "\n",
    "    cnt = 0\n",
    "    \n",
    "    while True:\n",
    "        url = que.get()\n",
    "        if url is None:\n",
    "            que.put(url)\n",
    "            break\n",
    "\n",
    "        fetch_url(url)\n",
    "        cnt += 1\n",
    "\n",
    "        if cnt == 2:\n",
    "            raise Exception(\"Wrong cnt=2\")\n",
    "\n",
    "    print(f\"finish {cnt=}\", threading.current_thread().name, time.time() - t1)\n",
    "\n",
    "\n",
    "def run():\n",
    "    que = queue.Queue()\n",
    "    for url in URLS:\n",
    "        que.put(url)\n",
    "\n",
    "    que.put(None)\n",
    "\n",
    "    threads = [\n",
    "        threading.Thread(\n",
    "            target=fetch_batch_worker,\n",
    "            args=(que,),\n",
    "            name=f\"Fetcher[{i}]\",\n",
    "        )\n",
    "        for i in range(N_THREADS)\n",
    "    ]\n",
    "    \n",
    "    for th in threads:\n",
    "        th.start()\n",
    "    \n",
    "    for th in threads:\n",
    "        th.join()\n",
    "\n",
    "\n",
    "run()\n",
    "\n",
    "print(\"OK\")"
   ]
  },
  {
   "cell_type": "code",
   "execution_count": null,
   "id": "efd50394-0f37-4ac7-b2bb-89856d41004b",
   "metadata": {},
   "outputs": [],
   "source": []
  }
 ],
 "metadata": {
  "kernelspec": {
   "display_name": "Python 3 (ipykernel)",
   "language": "python",
   "name": "python3"
  },
  "language_info": {
   "codemirror_mode": {
    "name": "ipython",
    "version": 3
   },
   "file_extension": ".py",
   "mimetype": "text/x-python",
   "name": "python",
   "nbconvert_exporter": "python",
   "pygments_lexer": "ipython3",
   "version": "3.14.0"
  }
 },
 "nbformat": 4,
 "nbformat_minor": 5
}
