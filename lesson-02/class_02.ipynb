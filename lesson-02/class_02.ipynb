{
 "cells": [
  {
   "cell_type": "code",
   "execution_count": 1,
   "id": "83afb326-bfc9-4200-82e3-1714ef00a8d9",
   "metadata": {},
   "outputs": [],
   "source": [
    "d = {}"
   ]
  },
  {
   "cell_type": "code",
   "execution_count": 2,
   "id": "6b46a1e6-7327-4502-a315-ef5da5cf096c",
   "metadata": {},
   "outputs": [],
   "source": [
    "d[\"str\"] = 123"
   ]
  },
  {
   "cell_type": "code",
   "execution_count": 9,
   "id": "6aeb8b18-7bc9-4fc1-a7ca-09002713472a",
   "metadata": {},
   "outputs": [],
   "source": [
    "class Data:\n",
    "    def __hash__(self):\n",
    "        #print(\"hash\")\n",
    "        return super().__hash__()\n",
    "\n",
    "    def __eq__(self, other):\n",
    "        print(\"eq\")\n",
    "        return super().__eq__(other)"
   ]
  },
  {
   "cell_type": "code",
   "execution_count": 7,
   "id": "2d64dbb0-9c51-45e4-8425-60dec6d43a0d",
   "metadata": {},
   "outputs": [
    {
     "name": "stdout",
     "output_type": "stream",
     "text": [
      "hash\n"
     ]
    }
   ],
   "source": [
    "x = Data()\n",
    "d[x] = 42"
   ]
  },
  {
   "cell_type": "code",
   "execution_count": 10,
   "id": "9cfdb3a3-ac35-46f3-83e7-597e9d6bcf7a",
   "metadata": {},
   "outputs": [],
   "source": [
    "for i in range(100):\n",
    "    x = Data()\n",
    "    d[x] = i"
   ]
  },
  {
   "cell_type": "code",
   "execution_count": 11,
   "id": "9a264cbe-dd2c-4a64-a9eb-6b1a5a1e2349",
   "metadata": {},
   "outputs": [
    {
     "data": {
      "text/plain": [
       "<__main__.Data at 0x108642ad0>"
      ]
     },
     "execution_count": 11,
     "metadata": {},
     "output_type": "execute_result"
    }
   ],
   "source": [
    "x"
   ]
  },
  {
   "cell_type": "code",
   "execution_count": 12,
   "id": "78c8f71f-9afa-4eda-9745-d2dcc0e3fab7",
   "metadata": {},
   "outputs": [
    {
     "name": "stdout",
     "output_type": "stream",
     "text": [
      "eq\n"
     ]
    },
    {
     "data": {
      "text/plain": [
       "False"
      ]
     },
     "execution_count": 12,
     "metadata": {},
     "output_type": "execute_result"
    }
   ],
   "source": [
    "x == 10"
   ]
  },
  {
   "cell_type": "code",
   "execution_count": null,
   "id": "d4d297f6-98e2-476d-8fd0-4dcdd4caccde",
   "metadata": {},
   "outputs": [],
   "source": []
  },
  {
   "cell_type": "code",
   "execution_count": 14,
   "id": "07065a37-9a4f-4b10-8d89-6a9d1add2bc4",
   "metadata": {},
   "outputs": [],
   "source": [
    "def fn2(x, *args):\n",
    "    print(x, args)\n",
    "\n",
    "\n",
    "def fn3(x, **kwargs):\n",
    "    print(x, kwargs)\n",
    "\n",
    "\n",
    "def fn4(*args, **kwargs):\n",
    "    return args, kwargs"
   ]
  },
  {
   "cell_type": "code",
   "execution_count": 20,
   "id": "57bc6d60-728a-4722-bed6-b43d34da5d08",
   "metadata": {},
   "outputs": [
    {
     "name": "stdout",
     "output_type": "stream",
     "text": [
      "10 ()\n",
      "10 (20, 30, 40)\n"
     ]
    },
    {
     "data": {
      "text/plain": [
       "(None, None)"
      ]
     },
     "execution_count": 20,
     "metadata": {},
     "output_type": "execute_result"
    }
   ],
   "source": [
    "fn2(10), fn2(10, 20, 30, 40)"
   ]
  },
  {
   "cell_type": "code",
   "execution_count": 25,
   "id": "ead2f896-8575-48aa-bc3c-6da853e5771f",
   "metadata": {},
   "outputs": [
    {
     "name": "stdout",
     "output_type": "stream",
     "text": [
      "10 {'a': 20, 'b': 30}\n",
      "10 {'a': 20, 'b': 30}\n",
      "30 {'b': 10, 'a': 20}\n"
     ]
    },
    {
     "data": {
      "text/plain": [
       "(None, None, None)"
      ]
     },
     "execution_count": 25,
     "metadata": {},
     "output_type": "execute_result"
    }
   ],
   "source": [
    "fn3(10, a=20, b=30), fn3(x=10, a=20, b=30), fn3(b=10, a=20, x=30)"
   ]
  },
  {
   "cell_type": "code",
   "execution_count": null,
   "id": "4229e622-84f4-40c8-b125-7fe9adb05543",
   "metadata": {},
   "outputs": [],
   "source": []
  },
  {
   "cell_type": "code",
   "execution_count": null,
   "id": "8bd7dcd5-51e8-43f5-8559-7e3d115cd2b8",
   "metadata": {},
   "outputs": [],
   "source": []
  },
  {
   "cell_type": "code",
   "execution_count": 38,
   "id": "cec01c61-a55d-4166-8d6e-52af3d7d13a8",
   "metadata": {},
   "outputs": [],
   "source": [
    "def fn7(pos1, /, pos2, pos3=3, *args, kw1=11, **kwargs):\n",
    "    print(f\"{pos1=}, {pos2=}, {pos3=}, {args=}, {kw1=}, {kwargs=}\")"
   ]
  },
  {
   "cell_type": "code",
   "execution_count": 31,
   "id": "53eeb58e-5d5a-472f-bf7c-f5fc40c9f7a0",
   "metadata": {},
   "outputs": [
    {
     "name": "stdout",
     "output_type": "stream",
     "text": [
      "pos1=10, pos2=20, pos3=3, kw1=11, kwargs={}\n"
     ]
    }
   ],
   "source": [
    "fn7(10, 20)"
   ]
  },
  {
   "cell_type": "code",
   "execution_count": 33,
   "id": "ec1c1d71-f1e9-45a2-b00b-23e2e22d675e",
   "metadata": {},
   "outputs": [
    {
     "name": "stdout",
     "output_type": "stream",
     "text": [
      "pos1=10, pos2=20, pos3=3, kw1=11, kwargs={}\n"
     ]
    }
   ],
   "source": [
    "fn7(10, pos2=20)"
   ]
  },
  {
   "cell_type": "code",
   "execution_count": 34,
   "id": "18b64f3e-a9ed-4415-9661-9a5b8088c28b",
   "metadata": {},
   "outputs": [
    {
     "ename": "TypeError",
     "evalue": "fn7() missing 1 required positional argument: 'pos1'",
     "output_type": "error",
     "traceback": [
      "\u001b[31m---------------------------------------------------------------------------\u001b[39m",
      "\u001b[31mTypeError\u001b[39m                                 Traceback (most recent call last)",
      "\u001b[36mCell\u001b[39m\u001b[36m \u001b[39m\u001b[32mIn[34]\u001b[39m\u001b[32m, line 1\u001b[39m\n\u001b[32m----> \u001b[39m\u001b[32m1\u001b[39m \u001b[43mfn7\u001b[49m\u001b[43m(\u001b[49m\u001b[43mpos1\u001b[49m\u001b[43m=\u001b[49m\u001b[32;43m10\u001b[39;49m\u001b[43m,\u001b[49m\u001b[43m \u001b[49m\u001b[43mpos2\u001b[49m\u001b[43m=\u001b[49m\u001b[32;43m20\u001b[39;49m\u001b[43m)\u001b[49m\n",
      "\u001b[31mTypeError\u001b[39m: fn7() missing 1 required positional argument: 'pos1'"
     ]
    }
   ],
   "source": [
    "fn7(pos1=10, pos2=20)"
   ]
  },
  {
   "cell_type": "code",
   "execution_count": 35,
   "id": "3c15be39-7c47-49c0-8b54-636cb356daab",
   "metadata": {},
   "outputs": [
    {
     "name": "stdout",
     "output_type": "stream",
     "text": [
      "pos1=10, pos2=20, pos3=30, kw1=11, kwargs={}\n"
     ]
    }
   ],
   "source": [
    "fn7(10, 20, 30)"
   ]
  },
  {
   "cell_type": "code",
   "execution_count": 36,
   "id": "3d669b1c-bb83-4a78-a017-cf0fce4acc4f",
   "metadata": {},
   "outputs": [
    {
     "ename": "TypeError",
     "evalue": "fn7() takes from 2 to 3 positional arguments but 4 were given",
     "output_type": "error",
     "traceback": [
      "\u001b[31m---------------------------------------------------------------------------\u001b[39m",
      "\u001b[31mTypeError\u001b[39m                                 Traceback (most recent call last)",
      "\u001b[36mCell\u001b[39m\u001b[36m \u001b[39m\u001b[32mIn[36]\u001b[39m\u001b[32m, line 1\u001b[39m\n\u001b[32m----> \u001b[39m\u001b[32m1\u001b[39m \u001b[43mfn7\u001b[49m\u001b[43m(\u001b[49m\u001b[32;43m10\u001b[39;49m\u001b[43m,\u001b[49m\u001b[43m \u001b[49m\u001b[32;43m20\u001b[39;49m\u001b[43m,\u001b[49m\u001b[43m \u001b[49m\u001b[32;43m30\u001b[39;49m\u001b[43m,\u001b[49m\u001b[43m \u001b[49m\u001b[32;43m40\u001b[39;49m\u001b[43m)\u001b[49m\n",
      "\u001b[31mTypeError\u001b[39m: fn7() takes from 2 to 3 positional arguments but 4 were given"
     ]
    }
   ],
   "source": [
    "fn7(10, 20, 30, 40)"
   ]
  },
  {
   "cell_type": "code",
   "execution_count": 37,
   "id": "cad0cd5f-853a-4a7a-a62e-319d84bf0a59",
   "metadata": {},
   "outputs": [
    {
     "name": "stdout",
     "output_type": "stream",
     "text": [
      "pos1=10, pos2=20, pos3=30, kw1=40, kwargs={'qwerty': 123}\n"
     ]
    }
   ],
   "source": [
    "fn7(10, 20, 30, kw1=40, qwerty=123)"
   ]
  },
  {
   "cell_type": "code",
   "execution_count": 39,
   "id": "4960b232-f285-4018-b76a-21d35fe8ac39",
   "metadata": {},
   "outputs": [
    {
     "name": "stdout",
     "output_type": "stream",
     "text": [
      "pos1=10, pos2=20, pos3=30, args=(40,), kw1=11, kwargs={}\n"
     ]
    }
   ],
   "source": [
    "fn7(10, 20, 30, 40)"
   ]
  },
  {
   "cell_type": "code",
   "execution_count": 40,
   "id": "5cee172a-1137-4068-8751-5919fcbdc2dc",
   "metadata": {},
   "outputs": [
    {
     "name": "stdout",
     "output_type": "stream",
     "text": [
      "pos1=10, pos2=20, pos3=30, args=(33,), kw1=40, kwargs={'qwerty': 123}\n"
     ]
    }
   ],
   "source": [
    "fn7(10, 20, 30, 33, kw1=40, qwerty=123)"
   ]
  },
  {
   "cell_type": "code",
   "execution_count": 41,
   "id": "72504036-8053-4143-a456-42e425f97600",
   "metadata": {},
   "outputs": [
    {
     "name": "stdout",
     "output_type": "stream",
     "text": [
      "pos1=10, pos2=20, pos3=30, args=(33,), kw1=40, kwargs={'kwargs': {'inner': 123}}\n"
     ]
    }
   ],
   "source": [
    "fn7(10, 20, 30, 33, kw1=40, kwargs={\"inner\": 123})"
   ]
  },
  {
   "cell_type": "code",
   "execution_count": null,
   "id": "4bd4a0ca-5dfe-4169-bfe9-be57b1d7b0cd",
   "metadata": {},
   "outputs": [],
   "source": []
  },
  {
   "cell_type": "code",
   "execution_count": 42,
   "id": "680b119f-b3c5-4ec1-8ed5-87228d2c97f1",
   "metadata": {},
   "outputs": [],
   "source": [
    "def fn3(**kwargs):\n",
    "    print(kwargs)\n",
    "\n",
    "\n",
    "def fn4(*args, **kwargs):\n",
    "    return fn3(**kwargs)"
   ]
  },
  {
   "cell_type": "code",
   "execution_count": 44,
   "id": "1222cd9f-ac72-4005-be63-b8bafc8aeaa7",
   "metadata": {},
   "outputs": [
    {
     "name": "stdout",
     "output_type": "stream",
     "text": [
      "{'x': 11, 'y': 22}\n"
     ]
    }
   ],
   "source": [
    "fn4(1, 2, x=11, y=22)"
   ]
  },
  {
   "cell_type": "code",
   "execution_count": null,
   "id": "234e2306-6cc4-4727-8e68-401e655a6dfa",
   "metadata": {},
   "outputs": [],
   "source": []
  },
  {
   "cell_type": "code",
   "execution_count": null,
   "id": "f9ba0b76-f92c-4ae3-bd9d-85ab01c405ea",
   "metadata": {},
   "outputs": [],
   "source": []
  },
  {
   "cell_type": "code",
   "execution_count": 45,
   "id": "0d24e4b8-2855-4eef-a7be-d665b14090fc",
   "metadata": {},
   "outputs": [],
   "source": [
    "def double_param(x, **kwargs):\n",
    "    return x, kwargs"
   ]
  },
  {
   "cell_type": "code",
   "execution_count": 46,
   "id": "48e71d24-2985-41cc-98d0-6e269951a6ce",
   "metadata": {},
   "outputs": [
    {
     "ename": "TypeError",
     "evalue": "double_param() got multiple values for argument 'x'",
     "output_type": "error",
     "traceback": [
      "\u001b[31m---------------------------------------------------------------------------\u001b[39m",
      "\u001b[31mTypeError\u001b[39m                                 Traceback (most recent call last)",
      "\u001b[36mCell\u001b[39m\u001b[36m \u001b[39m\u001b[32mIn[46]\u001b[39m\u001b[32m, line 1\u001b[39m\n\u001b[32m----> \u001b[39m\u001b[32m1\u001b[39m \u001b[43mdouble_param\u001b[49m\u001b[43m(\u001b[49m\u001b[32;43m10\u001b[39;49m\u001b[43m,\u001b[49m\u001b[43m \u001b[49m\u001b[43mx\u001b[49m\u001b[43m=\u001b[49m\u001b[32;43m20\u001b[39;49m\u001b[43m)\u001b[49m\n",
      "\u001b[31mTypeError\u001b[39m: double_param() got multiple values for argument 'x'"
     ]
    }
   ],
   "source": [
    "double_param(10, x=20)"
   ]
  },
  {
   "cell_type": "code",
   "execution_count": 47,
   "id": "f50bac82-8bfe-40df-ab8c-33370f281740",
   "metadata": {},
   "outputs": [
    {
     "ename": "TypeError",
     "evalue": "double_param() got multiple values for argument 'x'",
     "output_type": "error",
     "traceback": [
      "\u001b[31m---------------------------------------------------------------------------\u001b[39m",
      "\u001b[31mTypeError\u001b[39m                                 Traceback (most recent call last)",
      "\u001b[36mCell\u001b[39m\u001b[36m \u001b[39m\u001b[32mIn[47]\u001b[39m\u001b[32m, line 1\u001b[39m\n\u001b[32m----> \u001b[39m\u001b[32m1\u001b[39m \u001b[43mdouble_param\u001b[49m\u001b[43m(\u001b[49m\u001b[32;43m10\u001b[39;49m\u001b[43m,\u001b[49m\u001b[43m \u001b[49m\u001b[43m*\u001b[49m\u001b[43m*\u001b[49m\u001b[43m{\u001b[49m\u001b[33;43m\"\u001b[39;49m\u001b[33;43mx\u001b[39;49m\u001b[33;43m\"\u001b[39;49m\u001b[43m:\u001b[49m\u001b[43m \u001b[49m\u001b[32;43m20\u001b[39;49m\u001b[43m}\u001b[49m\u001b[43m)\u001b[49m\n",
      "\u001b[31mTypeError\u001b[39m: double_param() got multiple values for argument 'x'"
     ]
    }
   ],
   "source": [
    "double_param(10, **{\"x\": 20})"
   ]
  },
  {
   "cell_type": "code",
   "execution_count": null,
   "id": "c6085927-6fcf-465f-89d9-9bb8c37c9a68",
   "metadata": {},
   "outputs": [],
   "source": []
  },
  {
   "cell_type": "code",
   "execution_count": null,
   "id": "533e7ace-5b76-425b-af1d-7d91fad62155",
   "metadata": {},
   "outputs": [],
   "source": []
  },
  {
   "cell_type": "code",
   "execution_count": 48,
   "id": "d591834c-412a-4644-9ce2-b91eb979d1bb",
   "metadata": {},
   "outputs": [],
   "source": [
    "def double_param_valid(x, /, **kwargs):\n",
    "    return x, kwargs"
   ]
  },
  {
   "cell_type": "code",
   "execution_count": 50,
   "id": "709b165f-df48-4904-a5ab-7d9e2fa33326",
   "metadata": {},
   "outputs": [
    {
     "data": {
      "text/plain": [
       "(10, {'x': 20})"
      ]
     },
     "execution_count": 50,
     "metadata": {},
     "output_type": "execute_result"
    }
   ],
   "source": [
    "double_param_valid(10, x=20)"
   ]
  },
  {
   "cell_type": "code",
   "execution_count": 52,
   "id": "3b0d65ae-9167-4792-92d1-9cb6a2c46054",
   "metadata": {},
   "outputs": [
    {
     "data": {
      "text/plain": [
       "(10, {'x': 20})"
      ]
     },
     "execution_count": 52,
     "metadata": {},
     "output_type": "execute_result"
    }
   ],
   "source": [
    "double_param_valid(10, **{\"x\": 20})"
   ]
  },
  {
   "cell_type": "code",
   "execution_count": null,
   "id": "88afc162-afed-453d-b98d-6c3d6bd8beee",
   "metadata": {},
   "outputs": [],
   "source": []
  },
  {
   "cell_type": "code",
   "execution_count": null,
   "id": "441063c9-e278-480a-a8a0-071e704d6112",
   "metadata": {},
   "outputs": [],
   "source": []
  },
  {
   "cell_type": "code",
   "execution_count": null,
   "id": "4a04fead-5aa2-41d3-9e61-f5fd3c0ea19f",
   "metadata": {},
   "outputs": [],
   "source": []
  },
  {
   "cell_type": "code",
   "execution_count": 66,
   "id": "29bfc29a-5cfe-4317-96f9-17f3abaf3871",
   "metadata": {},
   "outputs": [],
   "source": [
    "def append_val(val: int, nums: list[int] = []) -> None:\n",
    "    nums.append(val)\n",
    "    return nums"
   ]
  },
  {
   "cell_type": "code",
   "execution_count": 58,
   "id": "8b6dca58-6db7-4bf1-9d0f-1be5ae7c8a85",
   "metadata": {},
   "outputs": [
    {
     "data": {
      "text/plain": [
       "[10]"
      ]
     },
     "execution_count": 58,
     "metadata": {},
     "output_type": "execute_result"
    }
   ],
   "source": [
    "append_val(10)"
   ]
  },
  {
   "cell_type": "code",
   "execution_count": 59,
   "id": "97360958-eaae-420f-a06a-f6e80c364387",
   "metadata": {},
   "outputs": [
    {
     "data": {
      "text/plain": [
       "[10, 20, 30, 40]"
      ]
     },
     "execution_count": 59,
     "metadata": {},
     "output_type": "execute_result"
    }
   ],
   "source": [
    "append_val(40, [10, 20, 30])"
   ]
  },
  {
   "cell_type": "code",
   "execution_count": 60,
   "id": "e730c50e-cccc-4b29-b19d-08500e09b964",
   "metadata": {},
   "outputs": [
    {
     "data": {
      "text/plain": [
       "[10, 20]"
      ]
     },
     "execution_count": 60,
     "metadata": {},
     "output_type": "execute_result"
    }
   ],
   "source": [
    "append_val(20)"
   ]
  },
  {
   "cell_type": "code",
   "execution_count": 62,
   "id": "c88c85d6-a837-4be8-b9e1-5e0ae0fcb6b4",
   "metadata": {},
   "outputs": [
    {
     "data": {
      "text/plain": [
       "True"
      ]
     },
     "execution_count": 62,
     "metadata": {},
     "output_type": "execute_result"
    }
   ],
   "source": [
    "id(append_val(20)) == id(append_val(30))"
   ]
  },
  {
   "cell_type": "code",
   "execution_count": null,
   "id": "dec27461-c333-4715-9663-973659c3549a",
   "metadata": {},
   "outputs": [],
   "source": []
  },
  {
   "cell_type": "code",
   "execution_count": 63,
   "id": "85328874-d6b8-4b1b-ba72-46ed59f33cef",
   "metadata": {},
   "outputs": [
    {
     "data": {
      "text/plain": [
       "False"
      ]
     },
     "execution_count": 63,
     "metadata": {},
     "output_type": "execute_result"
    }
   ],
   "source": [
    "id(append_val(40, [10, 20, 30])) == id(append_val(30))"
   ]
  },
  {
   "cell_type": "code",
   "execution_count": 64,
   "id": "b13a5096-b1f2-4692-abd4-dc9d2b545851",
   "metadata": {},
   "outputs": [
    {
     "data": {
      "text/plain": [
       "[10, 20, 20, 20, 30, 30, 30]"
      ]
     },
     "execution_count": 64,
     "metadata": {},
     "output_type": "execute_result"
    }
   ],
   "source": [
    "append_val(30)"
   ]
  },
  {
   "cell_type": "code",
   "execution_count": null,
   "id": "a62e9a61-ea0f-4601-9201-d56553cbe123",
   "metadata": {},
   "outputs": [],
   "source": []
  },
  {
   "cell_type": "code",
   "execution_count": null,
   "id": "a2101bc6-3bf8-4237-96e5-7d928e0a985d",
   "metadata": {},
   "outputs": [],
   "source": []
  },
  {
   "cell_type": "code",
   "execution_count": 67,
   "id": "d7c20291-b982-4a70-bc91-e4f1f4294ec1",
   "metadata": {},
   "outputs": [
    {
     "name": "stdout",
     "output_type": "stream",
     "text": [
      "create_list\n",
      "create_list\n"
     ]
    }
   ],
   "source": [
    "def create_list(init=[\"start\"]):\n",
    "    print(\"create_list\")\n",
    "    return init\n",
    "\n",
    "\n",
    "def append_val_1(val: int, nums: list[int] = create_list()) -> None:\n",
    "    print(\"append_val_1 before {val=}, {nums=}\")\n",
    "    nums.append(val)\n",
    "    print(\"append_val_1 after {val=}, {nums=}\")\n",
    "    return nums\n",
    "\n",
    "\n",
    "def append_val_2(val: int, nums: list[int] = create_list()) -> None:\n",
    "    print(\"append_val_2 before {val=}, {nums=}\")\n",
    "    nums.append(val)\n",
    "    print(\"append_val_2 after {val=}, {nums=}\")\n",
    "    return nums"
   ]
  },
  {
   "cell_type": "code",
   "execution_count": 68,
   "id": "a7495d53-e98e-45b5-bc92-766c5bb51a23",
   "metadata": {},
   "outputs": [
    {
     "name": "stdout",
     "output_type": "stream",
     "text": [
      "append_val_1 before {val=}, {nums=}\n",
      "append_val_1 after {val=}, {nums=}\n"
     ]
    },
    {
     "data": {
      "text/plain": [
       "['start', 10]"
      ]
     },
     "execution_count": 68,
     "metadata": {},
     "output_type": "execute_result"
    }
   ],
   "source": [
    "append_val_1(10)"
   ]
  },
  {
   "cell_type": "code",
   "execution_count": 69,
   "id": "2458b40c-6f7e-4e66-9ca3-f05d084a183e",
   "metadata": {},
   "outputs": [
    {
     "name": "stdout",
     "output_type": "stream",
     "text": [
      "append_val_1 before {val=}, {nums=}\n",
      "append_val_1 after {val=}, {nums=}\n"
     ]
    },
    {
     "data": {
      "text/plain": [
       "['start', 10, 20]"
      ]
     },
     "execution_count": 69,
     "metadata": {},
     "output_type": "execute_result"
    }
   ],
   "source": [
    "append_val_1(20)"
   ]
  },
  {
   "cell_type": "code",
   "execution_count": 70,
   "id": "59220a18-aa2d-4d3f-ba6a-d69e2ad53f2b",
   "metadata": {},
   "outputs": [
    {
     "name": "stdout",
     "output_type": "stream",
     "text": [
      "append_val_2 before {val=}, {nums=}\n",
      "append_val_2 after {val=}, {nums=}\n"
     ]
    },
    {
     "data": {
      "text/plain": [
       "['start', 10, 20, 50]"
      ]
     },
     "execution_count": 70,
     "metadata": {},
     "output_type": "execute_result"
    }
   ],
   "source": [
    "append_val_2(50)"
   ]
  },
  {
   "cell_type": "code",
   "execution_count": 71,
   "id": "d784f7dd-a711-492e-b926-a16de8892283",
   "metadata": {},
   "outputs": [
    {
     "name": "stdout",
     "output_type": "stream",
     "text": [
      "append_val_2 before {val=}, {nums=}\n",
      "append_val_2 after {val=}, {nums=}\n"
     ]
    },
    {
     "data": {
      "text/plain": [
       "['start', 10, 20, 50, 60]"
      ]
     },
     "execution_count": 71,
     "metadata": {},
     "output_type": "execute_result"
    }
   ],
   "source": [
    "append_val_2(60)"
   ]
  },
  {
   "cell_type": "code",
   "execution_count": 72,
   "id": "0b78eb3f-0287-4f96-96cb-26ea4787881e",
   "metadata": {},
   "outputs": [
    {
     "name": "stdout",
     "output_type": "stream",
     "text": [
      "append_val_1 before {val=}, {nums=}\n",
      "append_val_1 after {val=}, {nums=}\n"
     ]
    },
    {
     "data": {
      "text/plain": [
       "['start', 10, 20, 50, 60, 420]"
      ]
     },
     "execution_count": 72,
     "metadata": {},
     "output_type": "execute_result"
    }
   ],
   "source": [
    "append_val_1(420)"
   ]
  },
  {
   "cell_type": "code",
   "execution_count": null,
   "id": "d6c31cca-7db1-408c-85da-dcf4becbd918",
   "metadata": {},
   "outputs": [],
   "source": []
  },
  {
   "cell_type": "code",
   "execution_count": 78,
   "id": "be8d45d3-5da1-4f90-95fe-76991c997cb0",
   "metadata": {},
   "outputs": [],
   "source": [
    "def func1(val):  # val = init: val -> PyObject(id=101, [1, 2])\n",
    "    val += val\n",
    "    print(f\"{val=}\")"
   ]
  },
  {
   "cell_type": "code",
   "execution_count": 79,
   "id": "81e161bc-11fa-4c58-bad3-21b7296e9cb7",
   "metadata": {},
   "outputs": [
    {
     "name": "stdout",
     "output_type": "stream",
     "text": [
      "val=[1, 2, 1, 2]\n"
     ]
    }
   ],
   "source": [
    "init = [1, 2]  # init -> PyObject(id=101, [1, 2])\n",
    "\n",
    "func1(init)"
   ]
  },
  {
   "cell_type": "code",
   "execution_count": 80,
   "id": "6afa5549-c22e-4141-9e8e-dbed0a8134cf",
   "metadata": {},
   "outputs": [
    {
     "data": {
      "text/plain": [
       "[1, 2, 1, 2]"
      ]
     },
     "execution_count": 80,
     "metadata": {},
     "output_type": "execute_result"
    }
   ],
   "source": [
    "init  # init -> PyObject(id=101, [1, 2, 1, 2])"
   ]
  },
  {
   "cell_type": "code",
   "execution_count": null,
   "id": "ca331a09-eb16-437a-b6cf-1443ddeb99bf",
   "metadata": {},
   "outputs": [],
   "source": []
  },
  {
   "cell_type": "code",
   "execution_count": 84,
   "id": "4be9fc95-099f-4771-a351-81790251e508",
   "metadata": {},
   "outputs": [
    {
     "name": "stdout",
     "output_type": "stream",
     "text": [
      "val='123123'\n"
     ]
    },
    {
     "data": {
      "text/plain": [
       "'123'"
      ]
     },
     "execution_count": 84,
     "metadata": {},
     "output_type": "execute_result"
    }
   ],
   "source": [
    "init = \"123\"  # init -> PyObject(id=101, \"123\")\n",
    "\n",
    "func1(init)  # val = init: val -> PyObject(id=101, \"123\")\n",
    "# val += val: val -> PyObject(id=202, \"123123\")\n",
    "\n",
    "init"
   ]
  },
  {
   "cell_type": "code",
   "execution_count": null,
   "id": "8fe90eb5-5736-41e5-ad86-5ebbb55d831b",
   "metadata": {},
   "outputs": [],
   "source": []
  },
  {
   "cell_type": "code",
   "execution_count": null,
   "id": "17f3445c-4695-4fda-a2ba-d49600de27f5",
   "metadata": {},
   "outputs": [],
   "source": []
  },
  {
   "cell_type": "code",
   "execution_count": null,
   "id": "6c56c317-3d82-49bc-b842-3d1e910a8a0d",
   "metadata": {},
   "outputs": [],
   "source": []
  },
  {
   "cell_type": "code",
   "execution_count": 81,
   "id": "e2d6fe5b-5548-4220-8382-b17b0fb016c5",
   "metadata": {},
   "outputs": [],
   "source": [
    "def func2(val):  # val = init: val -> PyObject(id=101, [1, 2])\n",
    "    val = val + val  # val -> PyObject(id=202, [1, 2, 1, 2])\n",
    "    print(f\"{val=}\")"
   ]
  },
  {
   "cell_type": "code",
   "execution_count": 82,
   "id": "aeff1b90-00dd-4194-8ba5-dd67757ccdbe",
   "metadata": {},
   "outputs": [
    {
     "name": "stdout",
     "output_type": "stream",
     "text": [
      "val=[1, 2, 1, 2]\n"
     ]
    }
   ],
   "source": [
    "init = [1, 2]  # init -> PyObject(id=101, [1, 2])\n",
    "\n",
    "func2(init)"
   ]
  },
  {
   "cell_type": "code",
   "execution_count": 83,
   "id": "8dc13c74-4aa3-41b7-8878-bf6b236c8d74",
   "metadata": {},
   "outputs": [
    {
     "data": {
      "text/plain": [
       "[1, 2]"
      ]
     },
     "execution_count": 83,
     "metadata": {},
     "output_type": "execute_result"
    }
   ],
   "source": [
    "init  # init -> PyObject(id=101, [1, 2])"
   ]
  },
  {
   "cell_type": "code",
   "execution_count": null,
   "id": "6dc336a0-f962-4e95-8952-ea78329ff41e",
   "metadata": {},
   "outputs": [],
   "source": []
  },
  {
   "cell_type": "code",
   "execution_count": 90,
   "id": "ac30bb07-6537-4538-86ea-ffc02a3794d4",
   "metadata": {},
   "outputs": [
    {
     "data": {
      "text/plain": [
       "([0, -1, 1, -2, 2, -3, 3, -4, 4, -5], [-5, -4, -3, -2, -1, 0, 1, 2, 3, 4])"
      ]
     },
     "execution_count": 90,
     "metadata": {},
     "output_type": "execute_result"
    }
   ],
   "source": [
    "lst = list(range(-5, 5))\n",
    "sorted(lst, key=lambda x: x * x), lst  # O(n log n)"
   ]
  },
  {
   "cell_type": "code",
   "execution_count": 89,
   "id": "6c992dd9-2263-4b61-99f0-381b0c371b16",
   "metadata": {},
   "outputs": [
    {
     "data": {
      "text/plain": [
       "[0, -1, 1, -2, 2, -3, 3, -4, 4, -5]"
      ]
     },
     "execution_count": 89,
     "metadata": {},
     "output_type": "execute_result"
    }
   ],
   "source": [
    "lst = list(range(-5, 5))\n",
    "lst.sort(key=lambda x: x * x)\n",
    "lst"
   ]
  },
  {
   "cell_type": "code",
   "execution_count": null,
   "id": "1a10309d-346b-4a62-8ed4-fcf3ff7092a5",
   "metadata": {},
   "outputs": [],
   "source": [
    "def process_data(nums):\n",
    "    # nums.sort() | sorted(nums)\n",
    "    ..."
   ]
  },
  {
   "cell_type": "code",
   "execution_count": null,
   "id": "33b95409-26e6-4659-846c-953e3077d37d",
   "metadata": {},
   "outputs": [],
   "source": []
  },
  {
   "cell_type": "code",
   "execution_count": null,
   "id": "fe80ce62-4da3-46a3-878a-f49e382c836f",
   "metadata": {},
   "outputs": [],
   "source": []
  },
  {
   "cell_type": "code",
   "execution_count": 92,
   "id": "29629bd4-0eb1-42ef-b30b-51b5999862a1",
   "metadata": {},
   "outputs": [],
   "source": [
    "functions = [lambda x: x + i for i in range(5)]"
   ]
  },
  {
   "cell_type": "code",
   "execution_count": 93,
   "id": "d4fea364-afd5-45a1-80cd-a0f5fe26822d",
   "metadata": {},
   "outputs": [
    {
     "data": {
      "text/plain": [
       "False"
      ]
     },
     "execution_count": 93,
     "metadata": {},
     "output_type": "execute_result"
    }
   ],
   "source": [
    "functions[0] is functions[1]"
   ]
  },
  {
   "cell_type": "code",
   "execution_count": 95,
   "id": "6b4bb7fa-7a3c-4b68-bb68-09cde4a298cf",
   "metadata": {},
   "outputs": [
    {
     "name": "stdout",
     "output_type": "stream",
     "text": [
      "24\n",
      "24\n",
      "24\n",
      "24\n",
      "24\n"
     ]
    }
   ],
   "source": [
    "for fn in functions:\n",
    "    print(fn(20))"
   ]
  },
  {
   "cell_type": "code",
   "execution_count": 96,
   "id": "557d968c-e401-40fc-868c-03f1b32dba07",
   "metadata": {},
   "outputs": [
    {
     "data": {
      "text/plain": [
       "99"
      ]
     },
     "execution_count": 96,
     "metadata": {},
     "output_type": "execute_result"
    }
   ],
   "source": [
    "i"
   ]
  },
  {
   "cell_type": "code",
   "execution_count": 103,
   "id": "64a65a8f-9e6d-4d2e-a73e-d9f6e96a0aeb",
   "metadata": {},
   "outputs": [
    {
     "name": "stdout",
     "output_type": "stream",
     "text": [
      "20\n",
      "21\n",
      "22\n",
      "23\n",
      "24\n",
      "----\n",
      "24\n",
      "24\n",
      "24\n",
      "24\n",
      "24\n"
     ]
    }
   ],
   "source": [
    "functions = []\n",
    "\n",
    "for i in range(5):\n",
    "    def fn(x):\n",
    "        return x + i\n",
    "    \n",
    "    print(fn(20))\n",
    "    functions.append(fn)\n",
    "\n",
    "print(\"----\")\n",
    "\n",
    "for fn in functions:\n",
    "    print(fn(20))"
   ]
  },
  {
   "cell_type": "code",
   "execution_count": 99,
   "id": "a51b1442-32e7-4f0e-acb9-f9cdaf3fb472",
   "metadata": {},
   "outputs": [
    {
     "data": {
      "text/plain": [
       "4"
      ]
     },
     "execution_count": 99,
     "metadata": {},
     "output_type": "execute_result"
    }
   ],
   "source": [
    "i"
   ]
  },
  {
   "cell_type": "code",
   "execution_count": 100,
   "id": "479d3bfa-0aae-4ee9-a911-ddba19400926",
   "metadata": {},
   "outputs": [],
   "source": [
    "i = 100"
   ]
  },
  {
   "cell_type": "code",
   "execution_count": 101,
   "id": "318cefe7-a936-45b7-aa39-2afbf5b73e6a",
   "metadata": {},
   "outputs": [
    {
     "name": "stdout",
     "output_type": "stream",
     "text": [
      "120\n",
      "120\n",
      "120\n",
      "120\n",
      "120\n"
     ]
    }
   ],
   "source": [
    "for fn in functions:\n",
    "    print(fn(20))"
   ]
  },
  {
   "cell_type": "code",
   "execution_count": null,
   "id": "a93f36a4-be53-4c2f-bcf2-7eb02f91678a",
   "metadata": {},
   "outputs": [],
   "source": []
  },
  {
   "cell_type": "code",
   "execution_count": null,
   "id": "a7366b3a-e29b-4c1b-ac00-844c623aa339",
   "metadata": {},
   "outputs": [],
   "source": []
  },
  {
   "cell_type": "code",
   "execution_count": 104,
   "id": "7e02739d-8b05-4d38-a7f2-349f81301ec3",
   "metadata": {},
   "outputs": [
    {
     "name": "stdout",
     "output_type": "stream",
     "text": [
      "20\n",
      "21\n",
      "22\n",
      "23\n",
      "24\n",
      "----\n",
      "20\n",
      "21\n",
      "22\n",
      "23\n",
      "24\n"
     ]
    }
   ],
   "source": [
    "functions = []\n",
    "\n",
    "for i in range(5):\n",
    "    def fn(x, add=i):\n",
    "        return x + add\n",
    "    \n",
    "    print(fn(20))\n",
    "    functions.append(fn)\n",
    "\n",
    "print(\"----\")\n",
    "\n",
    "for fn in functions:\n",
    "    print(fn(20))"
   ]
  },
  {
   "cell_type": "code",
   "execution_count": null,
   "id": "5fa69d09-0c8e-419a-bf6e-7aa141236714",
   "metadata": {},
   "outputs": [],
   "source": []
  },
  {
   "cell_type": "code",
   "execution_count": null,
   "id": "7672c807-6400-454b-80ab-50163cd7053d",
   "metadata": {},
   "outputs": [],
   "source": []
  },
  {
   "cell_type": "code",
   "execution_count": 119,
   "id": "468d0bfe-48c8-4549-b385-ffbbb5f9b59a",
   "metadata": {},
   "outputs": [],
   "source": [
    "import time\n",
    "from functools import wraps"
   ]
  },
  {
   "cell_type": "code",
   "execution_count": 113,
   "id": "2de693e2-9df9-4031-9d49-3df16524c49f",
   "metadata": {},
   "outputs": [],
   "source": [
    "def timeit(fn):\n",
    "    def inner(*args, **kwargs):\n",
    "        start = time.time()\n",
    "        try:\n",
    "            res = fn(*args, **kwargs)\n",
    "        finally:\n",
    "            finish = time.time()\n",
    "            print(f\"Measure: {finish - start}!\")\n",
    "        return res\n",
    "    return inner"
   ]
  },
  {
   "cell_type": "code",
   "execution_count": 114,
   "id": "f08ca597-359e-4833-9ae2-df709e27f858",
   "metadata": {},
   "outputs": [],
   "source": [
    "@timeit\n",
    "def add(a, b):\n",
    "    print(\"add\", a, b)\n",
    "    return a + b"
   ]
  },
  {
   "cell_type": "code",
   "execution_count": 115,
   "id": "cabb8061-d921-465c-84c6-f3df8f0b5ad7",
   "metadata": {},
   "outputs": [
    {
     "name": "stdout",
     "output_type": "stream",
     "text": [
      "add 1 2\n",
      "Measure: 0.0002989768981933594!\n"
     ]
    },
    {
     "data": {
      "text/plain": [
       "3"
      ]
     },
     "execution_count": 115,
     "metadata": {},
     "output_type": "execute_result"
    }
   ],
   "source": [
    "add(1, 2)"
   ]
  },
  {
   "cell_type": "code",
   "execution_count": 116,
   "id": "2d335057-6f38-4e5a-ac5a-1677ff43bc18",
   "metadata": {},
   "outputs": [
    {
     "data": {
      "text/plain": [
       "<function __main__.timeit.<locals>.inner(*args, **kwargs)>"
      ]
     },
     "execution_count": 116,
     "metadata": {},
     "output_type": "execute_result"
    }
   ],
   "source": [
    "add"
   ]
  },
  {
   "cell_type": "code",
   "execution_count": 117,
   "id": "7e4b047e-4aa2-4f1c-a389-5d5cdd7d6bad",
   "metadata": {},
   "outputs": [],
   "source": [
    "def add(a, b):\n",
    "    print(\"add\", a, b)\n",
    "    return a + b"
   ]
  },
  {
   "cell_type": "code",
   "execution_count": 138,
   "id": "d24f38f6-0096-412b-85d3-35789265d2b8",
   "metadata": {},
   "outputs": [],
   "source": [
    "x = 42\n",
    "\n",
    "def timeit(fn):\n",
    "    y = 57\n",
    "    @wraps(fn)\n",
    "    def inner(*args, **kwargs):\n",
    "        start = time.time()\n",
    "        try:\n",
    "            res = fn(*args, **kwargs) + x + y\n",
    "        finally:\n",
    "            finish = time.time()\n",
    "            print(f\"Measure: {finish - start}!\")\n",
    "        return res\n",
    "    return inner"
   ]
  },
  {
   "cell_type": "code",
   "execution_count": 139,
   "id": "da19ccc9-4d3f-46d6-a162-13d6398f96c7",
   "metadata": {},
   "outputs": [],
   "source": [
    "@timeit\n",
    "def add(a, b):\n",
    "    print(\"add\", a, b)\n",
    "    return a + b"
   ]
  },
  {
   "cell_type": "code",
   "execution_count": 122,
   "id": "b7d3912f-584c-4d7e-9107-e5a658365368",
   "metadata": {},
   "outputs": [
    {
     "name": "stdout",
     "output_type": "stream",
     "text": [
      "add 1 2\n",
      "Measure: 5.3882598876953125e-05!\n"
     ]
    },
    {
     "data": {
      "text/plain": [
       "3"
      ]
     },
     "execution_count": 122,
     "metadata": {},
     "output_type": "execute_result"
    }
   ],
   "source": [
    "add(1, 2)"
   ]
  },
  {
   "cell_type": "code",
   "execution_count": 123,
   "id": "57d777c2-54d9-4854-b8fd-5dabfde340cb",
   "metadata": {},
   "outputs": [
    {
     "data": {
      "text/plain": [
       "<function __main__.add(a, b)>"
      ]
     },
     "execution_count": 123,
     "metadata": {},
     "output_type": "execute_result"
    }
   ],
   "source": [
    "add"
   ]
  },
  {
   "cell_type": "code",
   "execution_count": 125,
   "id": "f9227e93-90b2-4067-8f73-1e4cb5c229e0",
   "metadata": {},
   "outputs": [
    {
     "name": "stdout",
     "output_type": "stream",
     "text": [
      "add 1 2\n"
     ]
    },
    {
     "data": {
      "text/plain": [
       "3"
      ]
     },
     "execution_count": 125,
     "metadata": {},
     "output_type": "execute_result"
    }
   ],
   "source": [
    "add.__wrapped__(1, 2)"
   ]
  },
  {
   "cell_type": "code",
   "execution_count": 126,
   "id": "b3d9e743-9753-42a5-ba80-9920cb3f106d",
   "metadata": {},
   "outputs": [
    {
     "data": {
      "text/plain": [
       "<function __main__.add(a, b)>"
      ]
     },
     "execution_count": 126,
     "metadata": {},
     "output_type": "execute_result"
    }
   ],
   "source": [
    "add.__wrapped__"
   ]
  },
  {
   "cell_type": "code",
   "execution_count": null,
   "id": "08fb4c63-fb3a-460b-8435-d7f996527e38",
   "metadata": {},
   "outputs": [],
   "source": []
  },
  {
   "cell_type": "code",
   "execution_count": 141,
   "id": "312926c9-0e25-4bec-b3f1-eca333d3910f",
   "metadata": {},
   "outputs": [
    {
     "data": {
      "text/plain": [
       "57"
      ]
     },
     "execution_count": 141,
     "metadata": {},
     "output_type": "execute_result"
    }
   ],
   "source": [
    "add.__closure__[1].cell_contents"
   ]
  },
  {
   "cell_type": "code",
   "execution_count": null,
   "id": "8ceab6be-33d0-4b1b-b387-7f539bbe4ce5",
   "metadata": {},
   "outputs": [],
   "source": []
  },
  {
   "cell_type": "code",
   "execution_count": null,
   "id": "3e886396-8cf6-4534-a360-bb8c0d85b7a7",
   "metadata": {},
   "outputs": [],
   "source": []
  }
 ],
 "metadata": {
  "kernelspec": {
   "display_name": "Python 3 (ipykernel)",
   "language": "python",
   "name": "python3"
  },
  "language_info": {
   "codemirror_mode": {
    "name": "ipython",
    "version": 3
   },
   "file_extension": ".py",
   "mimetype": "text/x-python",
   "name": "python",
   "nbconvert_exporter": "python",
   "pygments_lexer": "ipython3",
   "version": "3.13.2"
  }
 },
 "nbformat": 4,
 "nbformat_minor": 5
}
