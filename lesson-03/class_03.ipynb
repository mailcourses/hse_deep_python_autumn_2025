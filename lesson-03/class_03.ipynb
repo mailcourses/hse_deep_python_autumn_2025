{
 "cells": [
  {
   "cell_type": "code",
   "execution_count": 1,
   "id": "b13a94ae-30bc-466e-bb55-f0dddea3cc3c",
   "metadata": {},
   "outputs": [
    {
     "data": {
      "text/plain": [
       "{'__name__': '__main__',\n",
       " '__doc__': 'Automatically created module for IPython interactive environment',\n",
       " '__package__': None,\n",
       " '__loader__': None,\n",
       " '__spec__': None,\n",
       " '__builtin__': <module 'builtins' (built-in)>,\n",
       " '__builtins__': <module 'builtins' (built-in)>,\n",
       " '_ih': ['', 'globals()'],\n",
       " '_oh': {},\n",
       " '_dh': [PosixPath('/Users/g.kandaurov/projects/hse_deep_python_autumn_2025/lesson-03')],\n",
       " 'In': ['', 'globals()'],\n",
       " 'Out': {},\n",
       " 'get_ipython': <bound method InteractiveShell.get_ipython of <ipykernel.zmqshell.ZMQInteractiveShell object at 0x10b4d8050>>,\n",
       " 'exit': <IPython.core.autocall.ZMQExitAutocall at 0x10b61d2b0>,\n",
       " 'quit': <IPython.core.autocall.ZMQExitAutocall at 0x10b61d2b0>,\n",
       " 'open': <function _io.open(file, mode='r', buffering=-1, encoding=None, errors=None, newline=None, closefd=True, opener=None)>,\n",
       " '_': '',\n",
       " '__': '',\n",
       " '___': '',\n",
       " '__session__': '/Users/g.kandaurov/projects/hse_deep_python_autumn_2025/lesson-03/Untitled.ipynb',\n",
       " '_i': '',\n",
       " '_ii': '',\n",
       " '_iii': '',\n",
       " '_i1': 'globals()'}"
      ]
     },
     "execution_count": 1,
     "metadata": {},
     "output_type": "execute_result"
    }
   ],
   "source": [
    "globals()"
   ]
  },
  {
   "cell_type": "code",
   "execution_count": 2,
   "id": "62b42460-7b7e-424f-9a32-229dc9748064",
   "metadata": {},
   "outputs": [
    {
     "data": {
      "text/plain": [
       "{'__name__': '__main__',\n",
       " '__doc__': 'Automatically created module for IPython interactive environment',\n",
       " '__package__': None,\n",
       " '__loader__': None,\n",
       " '__spec__': None,\n",
       " '__builtin__': <module 'builtins' (built-in)>,\n",
       " '__builtins__': <module 'builtins' (built-in)>,\n",
       " '_ih': ['', 'globals()', 'locals()'],\n",
       " '_oh': {1: {...}},\n",
       " '_dh': [PosixPath('/Users/g.kandaurov/projects/hse_deep_python_autumn_2025/lesson-03')],\n",
       " 'In': ['', 'globals()', 'locals()'],\n",
       " 'Out': {1: {...}},\n",
       " 'get_ipython': <bound method InteractiveShell.get_ipython of <ipykernel.zmqshell.ZMQInteractiveShell object at 0x10b4d8050>>,\n",
       " 'exit': <IPython.core.autocall.ZMQExitAutocall at 0x10b61d2b0>,\n",
       " 'quit': <IPython.core.autocall.ZMQExitAutocall at 0x10b61d2b0>,\n",
       " 'open': <function _io.open(file, mode='r', buffering=-1, encoding=None, errors=None, newline=None, closefd=True, opener=None)>,\n",
       " '_': {...},\n",
       " '__': '',\n",
       " '___': '',\n",
       " '__session__': '/Users/g.kandaurov/projects/hse_deep_python_autumn_2025/lesson-03/Untitled.ipynb',\n",
       " '_i': 'globals()',\n",
       " '_ii': '',\n",
       " '_iii': '',\n",
       " '_i1': 'globals()',\n",
       " '_1': {...},\n",
       " '_i2': 'locals()'}"
      ]
     },
     "execution_count": 2,
     "metadata": {},
     "output_type": "execute_result"
    }
   ],
   "source": [
    "locals()"
   ]
  },
  {
   "cell_type": "code",
   "execution_count": 3,
   "id": "f9f21ae1-b0a6-4061-a322-93f7a650c5ae",
   "metadata": {},
   "outputs": [
    {
     "data": {
      "text/plain": [
       "True"
      ]
     },
     "execution_count": 3,
     "metadata": {},
     "output_type": "execute_result"
    }
   ],
   "source": [
    "globals() is locals()"
   ]
  },
  {
   "cell_type": "code",
   "execution_count": 5,
   "id": "50e99a4b-aff8-41a0-a5d4-aefe5ed76061",
   "metadata": {},
   "outputs": [],
   "source": [
    "def update_global(name, val):\n",
    "    print(f\"{locals()=}\")\n",
    "    locals()[\"loc_\" + name] = val\n",
    "    print(f\"{locals()=}\")\n",
    "\n",
    "    globals()[name] = val"
   ]
  },
  {
   "cell_type": "code",
   "execution_count": 6,
   "id": "51be1938-774f-4a2d-a93d-6a47c3ccf9ab",
   "metadata": {},
   "outputs": [
    {
     "ename": "NameError",
     "evalue": "name 'qwerty' is not defined",
     "output_type": "error",
     "traceback": [
      "\u001b[31m---------------------------------------------------------------------------\u001b[39m",
      "\u001b[31mNameError\u001b[39m                                 Traceback (most recent call last)",
      "\u001b[36mCell\u001b[39m\u001b[36m \u001b[39m\u001b[32mIn[6]\u001b[39m\u001b[32m, line 1\u001b[39m\n\u001b[32m----> \u001b[39m\u001b[32m1\u001b[39m \u001b[43mqwerty\u001b[49m\n",
      "\u001b[31mNameError\u001b[39m: name 'qwerty' is not defined"
     ]
    }
   ],
   "source": [
    "qwerty"
   ]
  },
  {
   "cell_type": "code",
   "execution_count": 7,
   "id": "3fe96c85-dc4b-4892-b97a-9f92cd9782e0",
   "metadata": {},
   "outputs": [
    {
     "name": "stdout",
     "output_type": "stream",
     "text": [
      "locals()={'name': 'qwerty', 'val': 123}\n",
      "locals()={'name': 'qwerty', 'val': 123}\n"
     ]
    }
   ],
   "source": [
    "update_global(\"qwerty\", 123)"
   ]
  },
  {
   "cell_type": "code",
   "execution_count": 8,
   "id": "e28db253-1b6d-4a2f-9e6c-3639c3cb001f",
   "metadata": {},
   "outputs": [
    {
     "data": {
      "text/plain": [
       "123"
      ]
     },
     "execution_count": 8,
     "metadata": {},
     "output_type": "execute_result"
    }
   ],
   "source": [
    "qwerty"
   ]
  },
  {
   "cell_type": "code",
   "execution_count": 10,
   "id": "a528f91c-53d1-47df-b1bc-cd93fb58bf41",
   "metadata": {},
   "outputs": [
    {
     "data": {
      "text/plain": [
       "123"
      ]
     },
     "execution_count": 10,
     "metadata": {},
     "output_type": "execute_result"
    }
   ],
   "source": [
    "globals()[\"qwerty\"]"
   ]
  },
  {
   "cell_type": "code",
   "execution_count": 12,
   "id": "fe9ef4eb-be36-46dc-9af8-58b815743df6",
   "metadata": {},
   "outputs": [],
   "source": [
    "globals()[\"@@asdf\"] = 3456"
   ]
  },
  {
   "cell_type": "code",
   "execution_count": 13,
   "id": "6201ef17-2844-430e-97b3-9d90f5898981",
   "metadata": {},
   "outputs": [
    {
     "ename": "SyntaxError",
     "evalue": "invalid syntax (2276178104.py, line 1)",
     "output_type": "error",
     "traceback": [
      "  \u001b[36mCell\u001b[39m\u001b[36m \u001b[39m\u001b[32mIn[13]\u001b[39m\u001b[32m, line 1\u001b[39m\n\u001b[31m    \u001b[39m\u001b[31m@@asdf\u001b[39m\n     ^\n\u001b[31mSyntaxError\u001b[39m\u001b[31m:\u001b[39m invalid syntax\n"
     ]
    }
   ],
   "source": [
    "@@asdf"
   ]
  },
  {
   "cell_type": "code",
   "execution_count": 14,
   "id": "c03ff2aa-af71-4f58-bf53-1161d466b3dd",
   "metadata": {},
   "outputs": [
    {
     "data": {
      "text/plain": [
       "3456"
      ]
     },
     "execution_count": 14,
     "metadata": {},
     "output_type": "execute_result"
    }
   ],
   "source": [
    "globals()[\"@@asdf\"]"
   ]
  },
  {
   "cell_type": "code",
   "execution_count": null,
   "id": "641ec5e0-042f-401f-8cac-3e2fdf63bab7",
   "metadata": {},
   "outputs": [],
   "source": []
  },
  {
   "cell_type": "code",
   "execution_count": null,
   "id": "beb89c80-74ee-45ba-9f0a-cd2865c41dab",
   "metadata": {},
   "outputs": [],
   "source": []
  },
  {
   "cell_type": "code",
   "execution_count": 15,
   "id": "da7034a4-24a4-416a-8df1-5061bb5992cb",
   "metadata": {},
   "outputs": [],
   "source": [
    "def update_default(a, x=[]):\n",
    "    x.append(a)\n",
    "    return x"
   ]
  },
  {
   "cell_type": "code",
   "execution_count": 16,
   "id": "9a8fe8fb-402b-4ae9-8148-d6f30bccc884",
   "metadata": {},
   "outputs": [
    {
     "data": {
      "text/plain": [
       "([10, 20], [10, 20])"
      ]
     },
     "execution_count": 16,
     "metadata": {},
     "output_type": "execute_result"
    }
   ],
   "source": [
    "update_default(10), update_default(20)"
   ]
  },
  {
   "cell_type": "code",
   "execution_count": 17,
   "id": "1550f5c6-8b1d-46a8-ae75-edb1feee3474",
   "metadata": {},
   "outputs": [
    {
     "data": {
      "text/plain": [
       "([10, 20],)"
      ]
     },
     "execution_count": 17,
     "metadata": {},
     "output_type": "execute_result"
    }
   ],
   "source": [
    "update_default.__defaults__"
   ]
  },
  {
   "cell_type": "code",
   "execution_count": 18,
   "id": "e0891b40-afa9-419b-9aa1-da7c5cf47941",
   "metadata": {},
   "outputs": [],
   "source": [
    "update_default.__defaults__[0].append(40)"
   ]
  },
  {
   "cell_type": "code",
   "execution_count": 19,
   "id": "4fdd7597-330e-48f6-865e-dbf9720b7ea5",
   "metadata": {},
   "outputs": [
    {
     "data": {
      "text/plain": [
       "[10, 20, 40, 50]"
      ]
     },
     "execution_count": 19,
     "metadata": {},
     "output_type": "execute_result"
    }
   ],
   "source": [
    "update_default(50)"
   ]
  },
  {
   "cell_type": "code",
   "execution_count": 20,
   "id": "24fe6fdc-a7a7-4ef5-9ea5-9503a106cb9e",
   "metadata": {},
   "outputs": [
    {
     "ename": "TypeError",
     "evalue": "'tuple' object does not support item assignment",
     "output_type": "error",
     "traceback": [
      "\u001b[31m---------------------------------------------------------------------------\u001b[39m",
      "\u001b[31mTypeError\u001b[39m                                 Traceback (most recent call last)",
      "\u001b[36mCell\u001b[39m\u001b[36m \u001b[39m\u001b[32mIn[20]\u001b[39m\u001b[32m, line 1\u001b[39m\n\u001b[32m----> \u001b[39m\u001b[32m1\u001b[39m \u001b[43mupdate_default\u001b[49m\u001b[43m.\u001b[49m\u001b[34;43m__defaults__\u001b[39;49m\u001b[43m[\u001b[49m\u001b[32;43m0\u001b[39;49m\u001b[43m]\u001b[49m = [\u001b[32m1\u001b[39m, \u001b[32m2\u001b[39m, \u001b[32m3\u001b[39m]\n",
      "\u001b[31mTypeError\u001b[39m: 'tuple' object does not support item assignment"
     ]
    }
   ],
   "source": [
    "update_default.__defaults__[0] = [1, 2, 3]"
   ]
  },
  {
   "cell_type": "code",
   "execution_count": 21,
   "id": "d2d95deb-1d6d-45a9-9de1-0b4f224b1961",
   "metadata": {},
   "outputs": [],
   "source": [
    "update_default.__defaults__ = ([1, 2, 3],)"
   ]
  },
  {
   "cell_type": "code",
   "execution_count": 22,
   "id": "f6f497eb-4f88-4726-a94b-534623470862",
   "metadata": {},
   "outputs": [
    {
     "data": {
      "text/plain": [
       "[1, 2, 3, 50]"
      ]
     },
     "execution_count": 22,
     "metadata": {},
     "output_type": "execute_result"
    }
   ],
   "source": [
    "update_default(50)"
   ]
  },
  {
   "cell_type": "code",
   "execution_count": 23,
   "id": "e2cd38e9-6175-44cc-8b46-b6aeace1522e",
   "metadata": {},
   "outputs": [
    {
     "data": {
      "text/plain": [
       "[1, 2, 3, 50, 30]"
      ]
     },
     "execution_count": 23,
     "metadata": {},
     "output_type": "execute_result"
    }
   ],
   "source": [
    "update_default(30)"
   ]
  },
  {
   "cell_type": "code",
   "execution_count": null,
   "id": "8224851b-ed06-4aa3-af93-7860cb1cc919",
   "metadata": {},
   "outputs": [],
   "source": []
  },
  {
   "cell_type": "code",
   "execution_count": null,
   "id": "1f164cd1-c3e1-4296-b9ac-a1134e712f03",
   "metadata": {},
   "outputs": [],
   "source": []
  },
  {
   "cell_type": "code",
   "execution_count": 24,
   "id": "e1b00925-4d69-40cf-b8c5-9c824001b027",
   "metadata": {},
   "outputs": [
    {
     "name": "stdout",
     "output_type": "stream",
     "text": [
      "before calc: counter=0\n"
     ]
    },
    {
     "ename": "UnboundLocalError",
     "evalue": "cannot access local variable 'counter' where it is not associated with a value",
     "output_type": "error",
     "traceback": [
      "\u001b[31m---------------------------------------------------------------------------\u001b[39m",
      "\u001b[31mUnboundLocalError\u001b[39m                         Traceback (most recent call last)",
      "\u001b[36mCell\u001b[39m\u001b[36m \u001b[39m\u001b[32mIn[24]\u001b[39m\u001b[32m, line 9\u001b[39m\n\u001b[32m      5\u001b[39m     \u001b[38;5;28mprint\u001b[39m(\u001b[33mf\u001b[39m\u001b[33m\"\u001b[39m\u001b[33mcalc: \u001b[39m\u001b[38;5;132;01m{\u001b[39;00mcounter\u001b[38;5;132;01m=}\u001b[39;00m\u001b[33m, \u001b[39m\u001b[38;5;132;01m{\u001b[39;00m\u001b[38;5;28mlocals\u001b[39m()\u001b[38;5;132;01m=}\u001b[39;00m\u001b[33m\"\u001b[39m)\n\u001b[32m      7\u001b[39m \u001b[38;5;28mprint\u001b[39m(\u001b[33mf\u001b[39m\u001b[33m\"\u001b[39m\u001b[33mbefore calc: \u001b[39m\u001b[38;5;132;01m{\u001b[39;00mcounter\u001b[38;5;132;01m=}\u001b[39;00m\u001b[33m\"\u001b[39m)\n\u001b[32m----> \u001b[39m\u001b[32m9\u001b[39m \u001b[43mcalc\u001b[49m\u001b[43m(\u001b[49m\u001b[43m)\u001b[49m\n\u001b[32m     11\u001b[39m \u001b[38;5;28mprint\u001b[39m(\u001b[33mf\u001b[39m\u001b[33m\"\u001b[39m\u001b[33mafter  calc: \u001b[39m\u001b[38;5;132;01m{\u001b[39;00mcounter\u001b[38;5;132;01m=}\u001b[39;00m\u001b[33m\"\u001b[39m)\n",
      "\u001b[36mCell\u001b[39m\u001b[36m \u001b[39m\u001b[32mIn[24]\u001b[39m\u001b[32m, line 4\u001b[39m, in \u001b[36mcalc\u001b[39m\u001b[34m()\u001b[39m\n\u001b[32m      3\u001b[39m \u001b[38;5;28;01mdef\u001b[39;00m\u001b[38;5;250m \u001b[39m\u001b[34mcalc\u001b[39m():\n\u001b[32m----> \u001b[39m\u001b[32m4\u001b[39m     \u001b[43mcounter\u001b[49m += \u001b[32m1\u001b[39m\n\u001b[32m      5\u001b[39m     \u001b[38;5;28mprint\u001b[39m(\u001b[33mf\u001b[39m\u001b[33m\"\u001b[39m\u001b[33mcalc: \u001b[39m\u001b[38;5;132;01m{\u001b[39;00mcounter\u001b[38;5;132;01m=}\u001b[39;00m\u001b[33m, \u001b[39m\u001b[38;5;132;01m{\u001b[39;00m\u001b[38;5;28mlocals\u001b[39m()\u001b[38;5;132;01m=}\u001b[39;00m\u001b[33m\"\u001b[39m)\n",
      "\u001b[31mUnboundLocalError\u001b[39m: cannot access local variable 'counter' where it is not associated with a value"
     ]
    }
   ],
   "source": [
    "counter = 0\n",
    "\n",
    "def calc():\n",
    "    counter += 1\n",
    "    print(f\"calc: {counter=}, {locals()=}\")\n",
    "\n",
    "print(f\"before calc: {counter=}\")\n",
    "\n",
    "calc()\n",
    "\n",
    "print(f\"after  calc: {counter=}\")"
   ]
  },
  {
   "cell_type": "code",
   "execution_count": null,
   "id": "60c2a691-1682-46b9-bec1-19dad34e56d1",
   "metadata": {},
   "outputs": [],
   "source": []
  },
  {
   "cell_type": "code",
   "execution_count": 25,
   "id": "7733bd76-2a26-455e-9fa0-0b07bed5bdae",
   "metadata": {},
   "outputs": [
    {
     "name": "stdout",
     "output_type": "stream",
     "text": [
      "before calc: counter=0\n",
      "calc: counter=0, locals()={}\n",
      "after  calc: counter=0\n"
     ]
    }
   ],
   "source": [
    "counter = 0\n",
    "\n",
    "def calc():\n",
    "    print(f\"calc: {counter=}, {locals()=}\")\n",
    "\n",
    "print(f\"before calc: {counter=}\")\n",
    "\n",
    "calc()\n",
    "\n",
    "print(f\"after  calc: {counter=}\")"
   ]
  },
  {
   "cell_type": "code",
   "execution_count": 26,
   "id": "6a2c8ac7-bff1-4688-be98-9458013eaedc",
   "metadata": {},
   "outputs": [
    {
     "name": "stdout",
     "output_type": "stream",
     "text": [
      "before calc: counter=[]\n",
      "calc: counter=[1], locals()={}\n",
      "after  calc: counter=[1]\n"
     ]
    }
   ],
   "source": [
    "counter = []\n",
    "\n",
    "def calc():\n",
    "    counter.append(1)\n",
    "    print(f\"calc: {counter=}, {locals()=}\")\n",
    "\n",
    "print(f\"before calc: {counter=}\")\n",
    "\n",
    "calc()\n",
    "\n",
    "print(f\"after  calc: {counter=}\")"
   ]
  },
  {
   "cell_type": "code",
   "execution_count": null,
   "id": "9f04c583-5e4f-4820-a951-c73d07b1f530",
   "metadata": {},
   "outputs": [],
   "source": []
  },
  {
   "cell_type": "code",
   "execution_count": 27,
   "id": "e09bb6d2-f030-4768-89c0-19bc7e91cab5",
   "metadata": {},
   "outputs": [
    {
     "name": "stdout",
     "output_type": "stream",
     "text": [
      "before calc: counter=[]\n"
     ]
    },
    {
     "ename": "UnboundLocalError",
     "evalue": "cannot access local variable 'counter' where it is not associated with a value",
     "output_type": "error",
     "traceback": [
      "\u001b[31m---------------------------------------------------------------------------\u001b[39m",
      "\u001b[31mUnboundLocalError\u001b[39m                         Traceback (most recent call last)",
      "\u001b[36mCell\u001b[39m\u001b[36m \u001b[39m\u001b[32mIn[27]\u001b[39m\u001b[32m, line 9\u001b[39m\n\u001b[32m      5\u001b[39m     \u001b[38;5;28mprint\u001b[39m(\u001b[33mf\u001b[39m\u001b[33m\"\u001b[39m\u001b[33mcalc: \u001b[39m\u001b[38;5;132;01m{\u001b[39;00mcounter\u001b[38;5;132;01m=}\u001b[39;00m\u001b[33m, \u001b[39m\u001b[38;5;132;01m{\u001b[39;00m\u001b[38;5;28mlocals\u001b[39m()\u001b[38;5;132;01m=}\u001b[39;00m\u001b[33m\"\u001b[39m)\n\u001b[32m      7\u001b[39m \u001b[38;5;28mprint\u001b[39m(\u001b[33mf\u001b[39m\u001b[33m\"\u001b[39m\u001b[33mbefore calc: \u001b[39m\u001b[38;5;132;01m{\u001b[39;00mcounter\u001b[38;5;132;01m=}\u001b[39;00m\u001b[33m\"\u001b[39m)\n\u001b[32m----> \u001b[39m\u001b[32m9\u001b[39m \u001b[43mcalc\u001b[49m\u001b[43m(\u001b[49m\u001b[43m)\u001b[49m\n\u001b[32m     11\u001b[39m \u001b[38;5;28mprint\u001b[39m(\u001b[33mf\u001b[39m\u001b[33m\"\u001b[39m\u001b[33mafter  calc: \u001b[39m\u001b[38;5;132;01m{\u001b[39;00mcounter\u001b[38;5;132;01m=}\u001b[39;00m\u001b[33m\"\u001b[39m)\n",
      "\u001b[36mCell\u001b[39m\u001b[36m \u001b[39m\u001b[32mIn[27]\u001b[39m\u001b[32m, line 4\u001b[39m, in \u001b[36mcalc\u001b[39m\u001b[34m()\u001b[39m\n\u001b[32m      3\u001b[39m \u001b[38;5;28;01mdef\u001b[39;00m\u001b[38;5;250m \u001b[39m\u001b[34mcalc\u001b[39m():\n\u001b[32m----> \u001b[39m\u001b[32m4\u001b[39m     counter = \u001b[43mcounter\u001b[49m + [\u001b[32m1\u001b[39m]\n\u001b[32m      5\u001b[39m     \u001b[38;5;28mprint\u001b[39m(\u001b[33mf\u001b[39m\u001b[33m\"\u001b[39m\u001b[33mcalc: \u001b[39m\u001b[38;5;132;01m{\u001b[39;00mcounter\u001b[38;5;132;01m=}\u001b[39;00m\u001b[33m, \u001b[39m\u001b[38;5;132;01m{\u001b[39;00m\u001b[38;5;28mlocals\u001b[39m()\u001b[38;5;132;01m=}\u001b[39;00m\u001b[33m\"\u001b[39m)\n",
      "\u001b[31mUnboundLocalError\u001b[39m: cannot access local variable 'counter' where it is not associated with a value"
     ]
    }
   ],
   "source": [
    "counter = []\n",
    "\n",
    "def calc():\n",
    "    counter = counter + [1]\n",
    "    print(f\"calc: {counter=}, {locals()=}\")\n",
    "\n",
    "print(f\"before calc: {counter=}\")\n",
    "\n",
    "calc()\n",
    "\n",
    "print(f\"after  calc: {counter=}\")"
   ]
  },
  {
   "cell_type": "code",
   "execution_count": null,
   "id": "66c22556-649e-4cf7-94d3-723d53184aec",
   "metadata": {},
   "outputs": [],
   "source": []
  },
  {
   "cell_type": "code",
   "execution_count": null,
   "id": "d19ed055-430e-41a4-a864-fe9f1a37c22c",
   "metadata": {},
   "outputs": [],
   "source": []
  },
  {
   "cell_type": "code",
   "execution_count": 28,
   "id": "fb3a6ada-525c-49e0-bba7-8c23c0a1c98c",
   "metadata": {},
   "outputs": [
    {
     "name": "stdout",
     "output_type": "stream",
     "text": [
      "before calc: counter=[]\n",
      "calc: counter=[1], locals()={'counter': [1]}\n",
      "after  calc: counter=[]\n"
     ]
    }
   ],
   "source": [
    "counter = []\n",
    "\n",
    "def calc():\n",
    "    counter = [1]\n",
    "    print(f\"calc: {counter=}, {locals()=}\")\n",
    "\n",
    "print(f\"before calc: {counter=}\")\n",
    "\n",
    "calc()\n",
    "\n",
    "print(f\"after  calc: {counter=}\")"
   ]
  },
  {
   "cell_type": "code",
   "execution_count": 29,
   "id": "3f1877ce-22b5-4699-b429-7aadf06c756d",
   "metadata": {},
   "outputs": [
    {
     "name": "stdout",
     "output_type": "stream",
     "text": [
      "before calc: counter=0\n",
      "calc: counter=1, locals()={}\n",
      "after  calc: counter=1\n"
     ]
    }
   ],
   "source": [
    "counter = 0\n",
    "#counter += 1\n",
    "\n",
    "def calc():\n",
    "    global counter\n",
    "    counter += 1\n",
    "    print(f\"calc: {counter=}, {locals()=}\")\n",
    "\n",
    "print(f\"before calc: {counter=}\")\n",
    "\n",
    "calc()\n",
    "\n",
    "print(f\"after  calc: {counter=}\")"
   ]
  },
  {
   "cell_type": "code",
   "execution_count": null,
   "id": "8c57398d-fd6d-467e-807d-dfb8f8d57a8e",
   "metadata": {},
   "outputs": [],
   "source": []
  },
  {
   "cell_type": "code",
   "execution_count": null,
   "id": "8d54e57d-b5c1-44bf-913f-be94b2ae75da",
   "metadata": {},
   "outputs": [],
   "source": []
  },
  {
   "cell_type": "code",
   "execution_count": null,
   "id": "4589ca23-15c9-4a43-b042-576dc2607867",
   "metadata": {},
   "outputs": [],
   "source": []
  },
  {
   "cell_type": "code",
   "execution_count": 31,
   "id": "95d88b27-e886-482b-ac52-5a2ae8a997e3",
   "metadata": {},
   "outputs": [
    {
     "name": "stdout",
     "output_type": "stream",
     "text": [
      "before calc: counter=99\n",
      "before inner: counter=1, locals()={'inner': <function calc.<locals>.inner at 0x10c3107c0>, 'counter': 1}\n",
      "inner: counter=1, locals()={'counter': 1}\n",
      "after  inner: counter=1, locals()={'inner': <function calc.<locals>.inner at 0x10c3107c0>, 'counter': 1}\n",
      "after  calc: counter=99\n"
     ]
    }
   ],
   "source": [
    "counter = 99\n",
    "\n",
    "def calc():\n",
    "    counter = 1\n",
    "\n",
    "    def inner():\n",
    "        print(f\"inner: {counter=}, {locals()=}\")\n",
    "\n",
    "    print(f\"before inner: {counter=}, {locals()=}\")\n",
    "    inner()\n",
    "    print(f\"after  inner: {counter=}, {locals()=}\")\n",
    "\n",
    "\n",
    "print(f\"before calc: {counter=}\")\n",
    "\n",
    "calc()\n",
    "\n",
    "print(f\"after  calc: {counter=}\")"
   ]
  },
  {
   "cell_type": "code",
   "execution_count": null,
   "id": "e423e06e-6edd-4cdf-9f4c-b4c62ca08f87",
   "metadata": {},
   "outputs": [],
   "source": []
  },
  {
   "cell_type": "code",
   "execution_count": 32,
   "id": "e0ddba89-8526-4baf-ad08-892a53c21011",
   "metadata": {},
   "outputs": [
    {
     "name": "stdout",
     "output_type": "stream",
     "text": [
      "before calc: counter=99\n",
      "before inner: counter=1, locals()={'counter': 1, 'inner': <function calc.<locals>.inner at 0x10c311760>}\n"
     ]
    },
    {
     "ename": "UnboundLocalError",
     "evalue": "cannot access local variable 'counter' where it is not associated with a value",
     "output_type": "error",
     "traceback": [
      "\u001b[31m---------------------------------------------------------------------------\u001b[39m",
      "\u001b[31mUnboundLocalError\u001b[39m                         Traceback (most recent call last)",
      "\u001b[36mCell\u001b[39m\u001b[36m \u001b[39m\u001b[32mIn[32]\u001b[39m\u001b[32m, line 17\u001b[39m\n\u001b[32m     12\u001b[39m     \u001b[38;5;28mprint\u001b[39m(\u001b[33mf\u001b[39m\u001b[33m\"\u001b[39m\u001b[33mafter  inner: \u001b[39m\u001b[38;5;132;01m{\u001b[39;00mcounter\u001b[38;5;132;01m=}\u001b[39;00m\u001b[33m, \u001b[39m\u001b[38;5;132;01m{\u001b[39;00m\u001b[38;5;28mlocals\u001b[39m()\u001b[38;5;132;01m=}\u001b[39;00m\u001b[33m\"\u001b[39m)\n\u001b[32m     15\u001b[39m \u001b[38;5;28mprint\u001b[39m(\u001b[33mf\u001b[39m\u001b[33m\"\u001b[39m\u001b[33mbefore calc: \u001b[39m\u001b[38;5;132;01m{\u001b[39;00mcounter\u001b[38;5;132;01m=}\u001b[39;00m\u001b[33m\"\u001b[39m)\n\u001b[32m---> \u001b[39m\u001b[32m17\u001b[39m \u001b[43mcalc\u001b[49m\u001b[43m(\u001b[49m\u001b[43m)\u001b[49m\n\u001b[32m     19\u001b[39m \u001b[38;5;28mprint\u001b[39m(\u001b[33mf\u001b[39m\u001b[33m\"\u001b[39m\u001b[33mafter  calc: \u001b[39m\u001b[38;5;132;01m{\u001b[39;00mcounter\u001b[38;5;132;01m=}\u001b[39;00m\u001b[33m\"\u001b[39m)\n",
      "\u001b[36mCell\u001b[39m\u001b[36m \u001b[39m\u001b[32mIn[32]\u001b[39m\u001b[32m, line 11\u001b[39m, in \u001b[36mcalc\u001b[39m\u001b[34m()\u001b[39m\n\u001b[32m      8\u001b[39m     \u001b[38;5;28mprint\u001b[39m(\u001b[33mf\u001b[39m\u001b[33m\"\u001b[39m\u001b[33minner: \u001b[39m\u001b[38;5;132;01m{\u001b[39;00mcounter\u001b[38;5;132;01m=}\u001b[39;00m\u001b[33m, \u001b[39m\u001b[38;5;132;01m{\u001b[39;00m\u001b[38;5;28mlocals\u001b[39m()\u001b[38;5;132;01m=}\u001b[39;00m\u001b[33m\"\u001b[39m)\n\u001b[32m     10\u001b[39m \u001b[38;5;28mprint\u001b[39m(\u001b[33mf\u001b[39m\u001b[33m\"\u001b[39m\u001b[33mbefore inner: \u001b[39m\u001b[38;5;132;01m{\u001b[39;00mcounter\u001b[38;5;132;01m=}\u001b[39;00m\u001b[33m, \u001b[39m\u001b[38;5;132;01m{\u001b[39;00m\u001b[38;5;28mlocals\u001b[39m()\u001b[38;5;132;01m=}\u001b[39;00m\u001b[33m\"\u001b[39m)\n\u001b[32m---> \u001b[39m\u001b[32m11\u001b[39m \u001b[43minner\u001b[49m\u001b[43m(\u001b[49m\u001b[43m)\u001b[49m\n\u001b[32m     12\u001b[39m \u001b[38;5;28mprint\u001b[39m(\u001b[33mf\u001b[39m\u001b[33m\"\u001b[39m\u001b[33mafter  inner: \u001b[39m\u001b[38;5;132;01m{\u001b[39;00mcounter\u001b[38;5;132;01m=}\u001b[39;00m\u001b[33m, \u001b[39m\u001b[38;5;132;01m{\u001b[39;00m\u001b[38;5;28mlocals\u001b[39m()\u001b[38;5;132;01m=}\u001b[39;00m\u001b[33m\"\u001b[39m)\n",
      "\u001b[36mCell\u001b[39m\u001b[36m \u001b[39m\u001b[32mIn[32]\u001b[39m\u001b[32m, line 7\u001b[39m, in \u001b[36mcalc.<locals>.inner\u001b[39m\u001b[34m()\u001b[39m\n\u001b[32m      6\u001b[39m \u001b[38;5;28;01mdef\u001b[39;00m\u001b[38;5;250m \u001b[39m\u001b[34minner\u001b[39m():\n\u001b[32m----> \u001b[39m\u001b[32m7\u001b[39m     \u001b[43mcounter\u001b[49m += \u001b[32m1\u001b[39m\n\u001b[32m      8\u001b[39m     \u001b[38;5;28mprint\u001b[39m(\u001b[33mf\u001b[39m\u001b[33m\"\u001b[39m\u001b[33minner: \u001b[39m\u001b[38;5;132;01m{\u001b[39;00mcounter\u001b[38;5;132;01m=}\u001b[39;00m\u001b[33m, \u001b[39m\u001b[38;5;132;01m{\u001b[39;00m\u001b[38;5;28mlocals\u001b[39m()\u001b[38;5;132;01m=}\u001b[39;00m\u001b[33m\"\u001b[39m)\n",
      "\u001b[31mUnboundLocalError\u001b[39m: cannot access local variable 'counter' where it is not associated with a value"
     ]
    }
   ],
   "source": [
    "counter = 99\n",
    "\n",
    "def calc():\n",
    "    counter = 1\n",
    "\n",
    "    def inner():\n",
    "        counter += 1\n",
    "        print(f\"inner: {counter=}, {locals()=}\")\n",
    "\n",
    "    print(f\"before inner: {counter=}, {locals()=}\")\n",
    "    inner()\n",
    "    print(f\"after  inner: {counter=}, {locals()=}\")\n",
    "\n",
    "\n",
    "print(f\"before calc: {counter=}\")\n",
    "\n",
    "calc()\n",
    "\n",
    "print(f\"after  calc: {counter=}\")"
   ]
  },
  {
   "cell_type": "code",
   "execution_count": 33,
   "id": "3b4edf25-2c80-40ed-a4c0-aaea7b1e263a",
   "metadata": {},
   "outputs": [
    {
     "name": "stdout",
     "output_type": "stream",
     "text": [
      "before calc: counter=99\n",
      "before inner: counter=1, locals()={'counter': 1, 'inner': <function calc.<locals>.inner at 0x10c35e0c0>}\n",
      "inner: counter=42, locals()={'counter': 42}\n",
      "after  inner: counter=1, locals()={'counter': 1, 'inner': <function calc.<locals>.inner at 0x10c35e0c0>}\n",
      "after  calc: counter=99\n"
     ]
    }
   ],
   "source": [
    "counter = 99\n",
    "\n",
    "def calc():\n",
    "    counter = 1\n",
    "\n",
    "    def inner():\n",
    "        counter = 42\n",
    "        print(f\"inner: {counter=}, {locals()=}\")\n",
    "\n",
    "    print(f\"before inner: {counter=}, {locals()=}\")\n",
    "    inner()\n",
    "    print(f\"after  inner: {counter=}, {locals()=}\")\n",
    "\n",
    "\n",
    "print(f\"before calc: {counter=}\")\n",
    "\n",
    "calc()\n",
    "\n",
    "print(f\"after  calc: {counter=}\")"
   ]
  },
  {
   "cell_type": "code",
   "execution_count": 34,
   "id": "947dc83f-da66-44a2-9e13-b0b2dff258dc",
   "metadata": {},
   "outputs": [
    {
     "name": "stdout",
     "output_type": "stream",
     "text": [
      "before calc: counter=99\n",
      "before inner: counter=1, locals()={'inner': <function calc.<locals>.inner at 0x10c35dda0>, 'counter': 1}\n",
      "inner: counter=42, locals()={'counter': 42}\n",
      "after  inner: counter=42, locals()={'inner': <function calc.<locals>.inner at 0x10c35dda0>, 'counter': 42}\n",
      "after  calc: counter=99\n"
     ]
    }
   ],
   "source": [
    "counter = 99\n",
    "\n",
    "def calc():\n",
    "    counter = 1\n",
    "\n",
    "    def inner():\n",
    "        nonlocal counter\n",
    "        counter = 42\n",
    "        print(f\"inner: {counter=}, {locals()=}\")\n",
    "\n",
    "    print(f\"before inner: {counter=}, {locals()=}\")\n",
    "    inner()\n",
    "    print(f\"after  inner: {counter=}, {locals()=}\")\n",
    "\n",
    "\n",
    "print(f\"before calc: {counter=}\")\n",
    "\n",
    "calc()\n",
    "\n",
    "print(f\"after  calc: {counter=}\")"
   ]
  },
  {
   "cell_type": "code",
   "execution_count": 36,
   "id": "6409e07f-5fd1-4bfb-ac9b-817e930b1276",
   "metadata": {},
   "outputs": [
    {
     "name": "stdout",
     "output_type": "stream",
     "text": [
      "before calc: counter=99\n",
      "before inner: counter=1, locals()={'inner': <function calc.<locals>.inner at 0x10c35dd00>, 'counter': 1}\n",
      "inner: counter=1, locals()={'counter': 1}\n",
      "after  inner: counter=1, locals()={'inner': <function calc.<locals>.inner at 0x10c35dd00>, 'counter': 1}\n",
      "after  calc: counter=99\n"
     ]
    }
   ],
   "source": [
    "counter = 99\n",
    "\n",
    "def calc():\n",
    "    counter = 1\n",
    "\n",
    "    def inner():\n",
    "        global not_exist\n",
    "        not_exist = 42\n",
    "        print(f\"inner: {counter=}, {locals()=}\")\n",
    "\n",
    "    print(f\"before inner: {counter=}, {locals()=}\")\n",
    "    inner()\n",
    "    print(f\"after  inner: {counter=}, {locals()=}\")\n",
    "\n",
    "\n",
    "print(f\"before calc: {counter=}\")\n",
    "\n",
    "calc()\n",
    "\n",
    "print(f\"after  calc: {counter=}\")"
   ]
  },
  {
   "cell_type": "code",
   "execution_count": 37,
   "id": "0a909fc5-78e7-46a0-9f24-3c97456b006a",
   "metadata": {},
   "outputs": [
    {
     "data": {
      "text/plain": [
       "42"
      ]
     },
     "execution_count": 37,
     "metadata": {},
     "output_type": "execute_result"
    }
   ],
   "source": [
    "not_exist"
   ]
  },
  {
   "cell_type": "code",
   "execution_count": null,
   "id": "78ff9d18-aa9d-44d8-b4a4-2658162a1147",
   "metadata": {},
   "outputs": [],
   "source": []
  },
  {
   "cell_type": "code",
   "execution_count": 39,
   "id": "a62d767e-38e5-4a37-83b2-c380d890c1d0",
   "metadata": {},
   "outputs": [],
   "source": [
    "import time\n",
    "from functools import wraps"
   ]
  },
  {
   "cell_type": "code",
   "execution_count": 55,
   "id": "016953e6-c544-4a02-9709-3595365035c6",
   "metadata": {},
   "outputs": [],
   "source": [
    "def measure_time(fn):\n",
    "    total_sum = 0\n",
    "    total_count = 0\n",
    "\n",
    "    @wraps(fn)\n",
    "    def inner(*args, **kwargs):\n",
    "        nonlocal total_sum\n",
    "        nonlocal total_count\n",
    "            \n",
    "        t1 = time.time()\n",
    "        try:\n",
    "            return fn(*args, **kwargs)\n",
    "        finally:\n",
    "            t2 = time.time()\n",
    "\n",
    "            total_sum += t2 - t1  # total_sum = total_sum + t2 - t1\n",
    "            total_count += 1\n",
    "            \n",
    "            mean = total_sum / total_count\n",
    "            print(f\"{fn.__name__} time={t2 - t1}, {mean=}\")\n",
    "\n",
    "    return inner\n",
    "\n",
    "\n",
    "@measure_time\n",
    "def fn_sleep(n):\n",
    "    time.sleep(n)\n"
   ]
  },
  {
   "cell_type": "code",
   "execution_count": 56,
   "id": "c6ac45e9-0f24-4631-83c0-be7847e33864",
   "metadata": {},
   "outputs": [
    {
     "name": "stdout",
     "output_type": "stream",
     "text": [
      "fn_sleep time=1.0047900676727295, mean=1.0047900676727295\n"
     ]
    }
   ],
   "source": [
    "fn_sleep(1)"
   ]
  },
  {
   "cell_type": "code",
   "execution_count": 57,
   "id": "81c481bf-0a6f-4b33-978e-9555aa88a7cd",
   "metadata": {},
   "outputs": [
    {
     "name": "stdout",
     "output_type": "stream",
     "text": [
      "fn_sleep time=0.1044168472290039, mean=0.5546034574508667\n"
     ]
    }
   ],
   "source": [
    "fn_sleep(0.1)"
   ]
  },
  {
   "cell_type": "code",
   "execution_count": null,
   "id": "8ccc8692-31eb-4101-9772-c155e8b743d8",
   "metadata": {},
   "outputs": [],
   "source": []
  },
  {
   "cell_type": "code",
   "execution_count": null,
   "id": "dcd1d41b-ceb0-4642-a971-2d7ea553e288",
   "metadata": {},
   "outputs": [],
   "source": []
  },
  {
   "cell_type": "code",
   "execution_count": null,
   "id": "3f78edd1-8836-47b3-807f-5f269fe9ff2a",
   "metadata": {},
   "outputs": [],
   "source": []
  },
  {
   "cell_type": "code",
   "execution_count": null,
   "id": "9f1dc6b3-8e1a-458d-bf52-6f5a6a19d376",
   "metadata": {},
   "outputs": [],
   "source": []
  },
  {
   "cell_type": "code",
   "execution_count": null,
   "id": "1658787f-592f-48d4-8107-0a95c72a9c15",
   "metadata": {},
   "outputs": [],
   "source": []
  },
  {
   "cell_type": "code",
   "execution_count": null,
   "id": "a044d684-25b5-4533-a5bf-e989ae53d854",
   "metadata": {},
   "outputs": [],
   "source": []
  },
  {
   "cell_type": "markdown",
   "id": "400aa611-4707-4aca-aa70-1d05bef58a6a",
   "metadata": {},
   "source": [
    "# Class"
   ]
  },
  {
   "cell_type": "code",
   "execution_count": 60,
   "id": "17ecb5c9-fe00-4703-89f1-71fef08fde2c",
   "metadata": {},
   "outputs": [],
   "source": [
    "class ClassAttr:\n",
    "    name = \"cls_name\"\n",
    "    __cls_private = \"cls_private\"\n",
    "\n",
    "    __custom_name__ = \"custom_name\"  # not recommend (!)\n",
    "\n",
    "    def __custom_init__(self, val):  # not recommend (!)\n",
    "        pass\n",
    "\n",
    "    def __init__(self, val):\n",
    "        self.val = val\n",
    "        self._protected = \"protected\"\n",
    "        self.__private = \"private\"\n",
    "\n",
    "    def print(self):\n",
    "        print(\n",
    "            f\"{self.val=}, {self._protected=}, {self.__private=}, \"\n",
    "            f\"{self.name=}, {self.__cls_private=}\"\n",
    "        )\n",
    "\n",
    "    def print_new(self):\n",
    "        print(f\"{self.__private_3=}\")"
   ]
  },
  {
   "cell_type": "code",
   "execution_count": 58,
   "id": "813bc0fb-ef3c-431a-a6df-8232ae22d22b",
   "metadata": {},
   "outputs": [],
   "source": [
    "def calc():\n",
    "    map = 42\n",
    "    print(map)"
   ]
  },
  {
   "cell_type": "code",
   "execution_count": 61,
   "id": "98b43286-29fe-410b-87c8-da40f552a1fc",
   "metadata": {},
   "outputs": [],
   "source": [
    "obj = ClassAttr(10)"
   ]
  },
  {
   "cell_type": "code",
   "execution_count": 62,
   "id": "4a7519b9-127e-4c01-965f-d068fb84f440",
   "metadata": {},
   "outputs": [
    {
     "data": {
      "text/plain": [
       "'custom_name'"
      ]
     },
     "execution_count": 62,
     "metadata": {},
     "output_type": "execute_result"
    }
   ],
   "source": [
    "obj.__custom_name__"
   ]
  },
  {
   "cell_type": "code",
   "execution_count": 63,
   "id": "8999e759-5ba2-4e5d-bac5-55df3dcf2012",
   "metadata": {},
   "outputs": [
    {
     "data": {
      "text/plain": [
       "'custom_name'"
      ]
     },
     "execution_count": 63,
     "metadata": {},
     "output_type": "execute_result"
    }
   ],
   "source": [
    "ClassAttr.__custom_name__"
   ]
  },
  {
   "cell_type": "code",
   "execution_count": 64,
   "id": "8a1da092-75b2-4511-9d7d-e78ae82c3fb5",
   "metadata": {},
   "outputs": [
    {
     "data": {
      "text/plain": [
       "{'val': 10, '_protected': 'protected', '_ClassAttr__private': 'private'}"
      ]
     },
     "execution_count": 64,
     "metadata": {},
     "output_type": "execute_result"
    }
   ],
   "source": [
    "obj.__dict__"
   ]
  },
  {
   "cell_type": "code",
   "execution_count": 65,
   "id": "ce0bce85-3bd6-42ca-a14d-83c1e0034a4b",
   "metadata": {},
   "outputs": [
    {
     "data": {
      "text/plain": [
       "(10, 'protected')"
      ]
     },
     "execution_count": 65,
     "metadata": {},
     "output_type": "execute_result"
    }
   ],
   "source": [
    "obj.val, obj._protected"
   ]
  },
  {
   "cell_type": "code",
   "execution_count": 66,
   "id": "1c254919-612e-4375-b626-8cf1407febad",
   "metadata": {},
   "outputs": [
    {
     "ename": "AttributeError",
     "evalue": "'ClassAttr' object has no attribute '__private'",
     "output_type": "error",
     "traceback": [
      "\u001b[31m---------------------------------------------------------------------------\u001b[39m",
      "\u001b[31mAttributeError\u001b[39m                            Traceback (most recent call last)",
      "\u001b[36mCell\u001b[39m\u001b[36m \u001b[39m\u001b[32mIn[66]\u001b[39m\u001b[32m, line 1\u001b[39m\n\u001b[32m----> \u001b[39m\u001b[32m1\u001b[39m \u001b[43mobj\u001b[49m\u001b[43m.\u001b[49m\u001b[43m__private\u001b[49m\n",
      "\u001b[31mAttributeError\u001b[39m: 'ClassAttr' object has no attribute '__private'"
     ]
    }
   ],
   "source": [
    "obj.__private"
   ]
  },
  {
   "cell_type": "code",
   "execution_count": 67,
   "id": "554deab0-f545-4a30-a882-3d6360ae4596",
   "metadata": {},
   "outputs": [
    {
     "data": {
      "text/plain": [
       "'private'"
      ]
     },
     "execution_count": 67,
     "metadata": {},
     "output_type": "execute_result"
    }
   ],
   "source": [
    "obj._ClassAttr__private"
   ]
  },
  {
   "cell_type": "code",
   "execution_count": 77,
   "id": "f4e6a02b-419c-40e2-8830-de6dc007c6f8",
   "metadata": {},
   "outputs": [],
   "source": [
    "obj._ClassAttr__private = \"updated priv\""
   ]
  },
  {
   "cell_type": "code",
   "execution_count": 78,
   "id": "95539454-b3f2-4136-8831-611761028325",
   "metadata": {},
   "outputs": [
    {
     "name": "stdout",
     "output_type": "stream",
     "text": [
      "self.val=10, self._protected='protected', self.__private='updated priv', self.name='cls_name', self.__cls_private='cls_private'\n"
     ]
    }
   ],
   "source": [
    "obj.print()"
   ]
  },
  {
   "cell_type": "code",
   "execution_count": 79,
   "id": "47a97a23-c823-4410-8227-6e4218e293ea",
   "metadata": {},
   "outputs": [
    {
     "ename": "AttributeError",
     "evalue": "'ClassAttr' object has no attribute '_ClassAttr__private_3'",
     "output_type": "error",
     "traceback": [
      "\u001b[31m---------------------------------------------------------------------------\u001b[39m",
      "\u001b[31mAttributeError\u001b[39m                            Traceback (most recent call last)",
      "\u001b[36mCell\u001b[39m\u001b[36m \u001b[39m\u001b[32mIn[79]\u001b[39m\u001b[32m, line 1\u001b[39m\n\u001b[32m----> \u001b[39m\u001b[32m1\u001b[39m \u001b[43mobj\u001b[49m\u001b[43m.\u001b[49m\u001b[43mprint_new\u001b[49m\u001b[43m(\u001b[49m\u001b[43m)\u001b[49m\n",
      "\u001b[36mCell\u001b[39m\u001b[36m \u001b[39m\u001b[32mIn[60]\u001b[39m\u001b[32m, line 22\u001b[39m, in \u001b[36mClassAttr.print_new\u001b[39m\u001b[34m(self)\u001b[39m\n\u001b[32m     21\u001b[39m \u001b[38;5;28;01mdef\u001b[39;00m\u001b[38;5;250m \u001b[39m\u001b[34mprint_new\u001b[39m(\u001b[38;5;28mself\u001b[39m):\n\u001b[32m---> \u001b[39m\u001b[32m22\u001b[39m     \u001b[38;5;28mprint\u001b[39m(\u001b[33mf\u001b[39m\u001b[33m\"\u001b[39m\u001b[38;5;132;01m{\u001b[39;00m\u001b[38;5;28;43mself\u001b[39;49m\u001b[43m.\u001b[49m\u001b[43m__private_3\u001b[49m\u001b[38;5;132;01m=}\u001b[39;00m\u001b[33m\"\u001b[39m)\n",
      "\u001b[31mAttributeError\u001b[39m: 'ClassAttr' object has no attribute '_ClassAttr__private_3'"
     ]
    }
   ],
   "source": [
    "obj.print_new()"
   ]
  },
  {
   "cell_type": "code",
   "execution_count": 80,
   "id": "6a734317-9364-4905-8874-aafc0b00f570",
   "metadata": {},
   "outputs": [],
   "source": [
    "obj._ClassAttr__private_3 = \"priv3\""
   ]
  },
  {
   "cell_type": "code",
   "execution_count": 81,
   "id": "14dc0111-8f28-480d-acf2-8da4075225a8",
   "metadata": {},
   "outputs": [
    {
     "name": "stdout",
     "output_type": "stream",
     "text": [
      "self.__private_3='priv3'\n"
     ]
    }
   ],
   "source": [
    "obj.print_new()"
   ]
  },
  {
   "cell_type": "code",
   "execution_count": null,
   "id": "5c7fec8e-fc12-45e6-be1c-e11e8ec88540",
   "metadata": {},
   "outputs": [],
   "source": []
  },
  {
   "cell_type": "code",
   "execution_count": null,
   "id": "a6af5043-e8fd-474c-a9b8-1538c78a5fe4",
   "metadata": {},
   "outputs": [],
   "source": []
  },
  {
   "cell_type": "code",
   "execution_count": null,
   "id": "a614faad-f14e-4457-9787-ae9de7738173",
   "metadata": {},
   "outputs": [],
   "source": []
  },
  {
   "cell_type": "code",
   "execution_count": 69,
   "id": "a388ed26-ae9e-45db-8c84-6865b208441c",
   "metadata": {},
   "outputs": [],
   "source": [
    "obj.__new_private = \"qwerty\""
   ]
  },
  {
   "cell_type": "code",
   "execution_count": 70,
   "id": "1c2601fd-9082-4f0c-8463-cbd93c6fa9b4",
   "metadata": {},
   "outputs": [
    {
     "data": {
      "text/plain": [
       "'qwerty'"
      ]
     },
     "execution_count": 70,
     "metadata": {},
     "output_type": "execute_result"
    }
   ],
   "source": [
    "obj.__new_private"
   ]
  },
  {
   "cell_type": "code",
   "execution_count": 82,
   "id": "9c6b363e-e2fc-413f-bf22-8979ffc0d887",
   "metadata": {},
   "outputs": [],
   "source": [
    "obj._ClassAttr__book = \"literature\""
   ]
  },
  {
   "cell_type": "code",
   "execution_count": 84,
   "id": "3a3f70e5-484f-4864-8e62-9b09ae1bf22a",
   "metadata": {},
   "outputs": [
    {
     "data": {
      "text/plain": [
       "'literature'"
      ]
     },
     "execution_count": 84,
     "metadata": {},
     "output_type": "execute_result"
    }
   ],
   "source": [
    "obj._ClassAttr__book"
   ]
  },
  {
   "cell_type": "code",
   "execution_count": 85,
   "id": "e655f101-7daa-47fd-bb9b-f8699a8c7c78",
   "metadata": {},
   "outputs": [],
   "source": [
    "obj.print_book = lambda self: f\"{self.__book=}\""
   ]
  },
  {
   "cell_type": "code",
   "execution_count": 87,
   "id": "e066dba4-cf73-4008-92fe-aab3d96cdc23",
   "metadata": {},
   "outputs": [
    {
     "ename": "AttributeError",
     "evalue": "'ClassAttr' object has no attribute '__book'",
     "output_type": "error",
     "traceback": [
      "\u001b[31m---------------------------------------------------------------------------\u001b[39m",
      "\u001b[31mAttributeError\u001b[39m                            Traceback (most recent call last)",
      "\u001b[36mCell\u001b[39m\u001b[36m \u001b[39m\u001b[32mIn[87]\u001b[39m\u001b[32m, line 1\u001b[39m\n\u001b[32m----> \u001b[39m\u001b[32m1\u001b[39m \u001b[43mobj\u001b[49m\u001b[43m.\u001b[49m\u001b[43mprint_book\u001b[49m\u001b[43m(\u001b[49m\u001b[43mobj\u001b[49m\u001b[43m)\u001b[49m\n",
      "\u001b[36mCell\u001b[39m\u001b[36m \u001b[39m\u001b[32mIn[85]\u001b[39m\u001b[32m, line 1\u001b[39m, in \u001b[36m<lambda>\u001b[39m\u001b[34m(self)\u001b[39m\n\u001b[32m----> \u001b[39m\u001b[32m1\u001b[39m obj.print_book = \u001b[38;5;28;01mlambda\u001b[39;00m \u001b[38;5;28mself\u001b[39m: \u001b[33mf\u001b[39m\u001b[33m\"\u001b[39m\u001b[38;5;132;01m{\u001b[39;00m\u001b[38;5;28;43mself\u001b[39;49m\u001b[43m.\u001b[49m\u001b[43m__book\u001b[49m\u001b[38;5;132;01m=}\u001b[39;00m\u001b[33m\"\u001b[39m\n",
      "\u001b[31mAttributeError\u001b[39m: 'ClassAttr' object has no attribute '__book'"
     ]
    }
   ],
   "source": [
    "obj.print_book(obj)"
   ]
  },
  {
   "cell_type": "code",
   "execution_count": null,
   "id": "1b113f27-a2b3-4f1b-8f9c-caa776beebca",
   "metadata": {},
   "outputs": [],
   "source": []
  },
  {
   "cell_type": "code",
   "execution_count": 83,
   "id": "22481124-f655-416e-873c-41b22fa90c1f",
   "metadata": {},
   "outputs": [
    {
     "data": {
      "text/plain": [
       "{'val': 10,\n",
       " '_protected': 'protected',\n",
       " '_ClassAttr__private': 'updated priv',\n",
       " '__new_private': 'qwerty',\n",
       " 'color': 'green',\n",
       " '_ClassAttr__private_3': 'priv3',\n",
       " '_ClassAttr__book': 'literature'}"
      ]
     },
     "execution_count": 83,
     "metadata": {},
     "output_type": "execute_result"
    }
   ],
   "source": [
    "obj.__dict__"
   ]
  },
  {
   "cell_type": "code",
   "execution_count": 72,
   "id": "d9bf315a-a16b-4708-8781-358e5acaed42",
   "metadata": {},
   "outputs": [
    {
     "data": {
      "text/plain": [
       "__main__.ClassAttr"
      ]
     },
     "execution_count": 72,
     "metadata": {},
     "output_type": "execute_result"
    }
   ],
   "source": [
    "ClassAttr"
   ]
  },
  {
   "cell_type": "code",
   "execution_count": 73,
   "id": "8a74fb5e-914b-4472-83d0-144121596f55",
   "metadata": {},
   "outputs": [
    {
     "data": {
      "text/plain": [
       "mappingproxy({'__module__': '__main__',\n",
       "              '__firstlineno__': 1,\n",
       "              'name': 'cls_name',\n",
       "              '_ClassAttr__cls_private': 'cls_private',\n",
       "              '__custom_name__': 'custom_name',\n",
       "              '__custom_init__': <function __main__.ClassAttr.__custom_init__(self, val)>,\n",
       "              '__init__': <function __main__.ClassAttr.__init__(self, val)>,\n",
       "              'print': <function __main__.ClassAttr.print(self)>,\n",
       "              'print_new': <function __main__.ClassAttr.print_new(self)>,\n",
       "              '__static_attributes__': ('__private', '_protected', 'val'),\n",
       "              '__dict__': <attribute '__dict__' of 'ClassAttr' objects>,\n",
       "              '__weakref__': <attribute '__weakref__' of 'ClassAttr' objects>,\n",
       "              '__doc__': None})"
      ]
     },
     "execution_count": 73,
     "metadata": {},
     "output_type": "execute_result"
    }
   ],
   "source": [
    "ClassAttr.__dict__"
   ]
  },
  {
   "cell_type": "code",
   "execution_count": 74,
   "id": "cd35402d-9842-4b34-a113-5ab1fec6787a",
   "metadata": {},
   "outputs": [],
   "source": [
    "obj.__dict__[\"color\"] = \"green\""
   ]
  },
  {
   "cell_type": "code",
   "execution_count": 75,
   "id": "fa2fd3be-8d5c-4800-bd5d-ced5179e6de1",
   "metadata": {},
   "outputs": [
    {
     "data": {
      "text/plain": [
       "'green'"
      ]
     },
     "execution_count": 75,
     "metadata": {},
     "output_type": "execute_result"
    }
   ],
   "source": [
    "obj.color"
   ]
  },
  {
   "cell_type": "code",
   "execution_count": 76,
   "id": "44e04d3d-0d0c-462e-afc2-d73b822fc358",
   "metadata": {},
   "outputs": [
    {
     "ename": "TypeError",
     "evalue": "'mappingproxy' object does not support item assignment",
     "output_type": "error",
     "traceback": [
      "\u001b[31m---------------------------------------------------------------------------\u001b[39m",
      "\u001b[31mTypeError\u001b[39m                                 Traceback (most recent call last)",
      "\u001b[36mCell\u001b[39m\u001b[36m \u001b[39m\u001b[32mIn[76]\u001b[39m\u001b[32m, line 1\u001b[39m\n\u001b[32m----> \u001b[39m\u001b[32m1\u001b[39m \u001b[43mClassAttr\u001b[49m\u001b[43m.\u001b[49m\u001b[34;43m__dict__\u001b[39;49m\u001b[43m[\u001b[49m\u001b[33;43m\"\u001b[39;49m\u001b[33;43mweight\u001b[39;49m\u001b[33;43m\"\u001b[39;49m\u001b[43m]\u001b[49m = \u001b[32m99\u001b[39m\n",
      "\u001b[31mTypeError\u001b[39m: 'mappingproxy' object does not support item assignment"
     ]
    }
   ],
   "source": [
    "ClassAttr.__dict__[\"weight\"] = 99"
   ]
  },
  {
   "cell_type": "code",
   "execution_count": null,
   "id": "1071d8df-2782-4d29-8a38-fb44aee697a8",
   "metadata": {},
   "outputs": [],
   "source": []
  },
  {
   "cell_type": "code",
   "execution_count": null,
   "id": "a1bf9306-82b2-4894-ad86-7b1688ea47d2",
   "metadata": {},
   "outputs": [],
   "source": []
  },
  {
   "cell_type": "code",
   "execution_count": null,
   "id": "a2d4ff24-1b90-4a36-a66e-41d956921ccd",
   "metadata": {},
   "outputs": [],
   "source": []
  },
  {
   "cell_type": "code",
   "execution_count": 88,
   "id": "b837fcab-ee06-43d4-88e6-3d920474a9d3",
   "metadata": {},
   "outputs": [],
   "source": [
    "obj = ClassAttr(10)"
   ]
  },
  {
   "cell_type": "code",
   "execution_count": 89,
   "id": "b2ef022f-6de9-4395-b213-f81f1a57530c",
   "metadata": {},
   "outputs": [
    {
     "data": {
      "text/plain": [
       "{'val': 10, '_protected': 'protected', '_ClassAttr__private': 'private'}"
      ]
     },
     "execution_count": 89,
     "metadata": {},
     "output_type": "execute_result"
    }
   ],
   "source": [
    "obj.__dict__"
   ]
  },
  {
   "cell_type": "code",
   "execution_count": 90,
   "id": "5146b8b7-7e7f-41a4-a316-1151cd55e3ca",
   "metadata": {},
   "outputs": [
    {
     "data": {
      "text/plain": [
       "'cls_name'"
      ]
     },
     "execution_count": 90,
     "metadata": {},
     "output_type": "execute_result"
    }
   ],
   "source": [
    "ClassAttr.name"
   ]
  },
  {
   "cell_type": "code",
   "execution_count": 92,
   "id": "afbb28cf-5e00-4fd5-936f-35c2c8051e08",
   "metadata": {},
   "outputs": [
    {
     "data": {
      "text/plain": [
       "'cls_name'"
      ]
     },
     "execution_count": 92,
     "metadata": {},
     "output_type": "execute_result"
    }
   ],
   "source": [
    "obj.name"
   ]
  },
  {
   "cell_type": "code",
   "execution_count": 93,
   "id": "f66c62c3-4bd8-4c44-91d4-064b19ac1b65",
   "metadata": {},
   "outputs": [],
   "source": [
    "obj.name = \"obj_name\""
   ]
  },
  {
   "cell_type": "code",
   "execution_count": 94,
   "id": "f09bb3d1-022f-4c27-92ce-5e8abdf2964b",
   "metadata": {},
   "outputs": [
    {
     "data": {
      "text/plain": [
       "('obj_name', 'cls_name')"
      ]
     },
     "execution_count": 94,
     "metadata": {},
     "output_type": "execute_result"
    }
   ],
   "source": [
    "obj.name, ClassAttr.name"
   ]
  },
  {
   "cell_type": "code",
   "execution_count": 95,
   "id": "64181baa-87d1-4a05-809f-a8ab05d6910e",
   "metadata": {},
   "outputs": [
    {
     "data": {
      "text/plain": [
       "{'val': 10,\n",
       " '_protected': 'protected',\n",
       " '_ClassAttr__private': 'private',\n",
       " 'name': 'obj_name'}"
      ]
     },
     "execution_count": 95,
     "metadata": {},
     "output_type": "execute_result"
    }
   ],
   "source": [
    "obj.__dict__"
   ]
  },
  {
   "cell_type": "code",
   "execution_count": 96,
   "id": "8ce8f074-9a76-41b4-9b30-5255187a32fd",
   "metadata": {},
   "outputs": [],
   "source": [
    "del obj.name"
   ]
  },
  {
   "cell_type": "code",
   "execution_count": 97,
   "id": "2d0ec983-fee0-4009-aa0e-9f6962d4996c",
   "metadata": {},
   "outputs": [
    {
     "data": {
      "text/plain": [
       "('cls_name', 'cls_name')"
      ]
     },
     "execution_count": 97,
     "metadata": {},
     "output_type": "execute_result"
    }
   ],
   "source": [
    "obj.name, ClassAttr.name"
   ]
  },
  {
   "cell_type": "code",
   "execution_count": 98,
   "id": "d3c94340-19ee-4ef0-ac55-a195023b619e",
   "metadata": {},
   "outputs": [
    {
     "data": {
      "text/plain": [
       "{'val': 10, '_protected': 'protected', '_ClassAttr__private': 'private'}"
      ]
     },
     "execution_count": 98,
     "metadata": {},
     "output_type": "execute_result"
    }
   ],
   "source": [
    "obj.__dict__"
   ]
  },
  {
   "cell_type": "code",
   "execution_count": 99,
   "id": "157979dd-26df-4e4b-b954-3e7c2426dc35",
   "metadata": {},
   "outputs": [
    {
     "data": {
      "text/plain": [
       "__main__.ClassAttr"
      ]
     },
     "execution_count": 99,
     "metadata": {},
     "output_type": "execute_result"
    }
   ],
   "source": [
    "obj.__class__"
   ]
  },
  {
   "cell_type": "code",
   "execution_count": null,
   "id": "8df2fc58-10df-407c-947d-11e4e5d30d2b",
   "metadata": {},
   "outputs": [],
   "source": []
  },
  {
   "cell_type": "code",
   "execution_count": null,
   "id": "a9770f16-fa9f-424a-8fe0-6a6fc1ad8b09",
   "metadata": {},
   "outputs": [],
   "source": []
  },
  {
   "cell_type": "code",
   "execution_count": 113,
   "id": "78e61da0-dc4e-42a5-bbc7-24d3992ddfd2",
   "metadata": {},
   "outputs": [],
   "source": [
    "class ClassAttr:\n",
    "    name = \"cls_name\"\n",
    "    __cls_private = \"cls_private\"\n",
    "\n",
    "    @staticmethod\n",
    "    def stats():\n",
    "        return \"stats\"\n",
    "\n",
    "    @classmethod\n",
    "    def update_name(cls, name):\n",
    "        print(f\"{cls=}\")\n",
    "        cls.name = name\n",
    "    \n",
    "    def __init__(self, val):\n",
    "        self.val = val\n",
    "        self._protected = \"protected\"\n",
    "        self.__private = \"private\"\n",
    "\n",
    "    def print(self):\n",
    "        print(f\"print data: {self.val=}\")"
   ]
  },
  {
   "cell_type": "code",
   "execution_count": 114,
   "id": "5c248230-7433-44e5-a8a0-dc4095eb4d0e",
   "metadata": {},
   "outputs": [],
   "source": [
    "obj = ClassAttr(10)"
   ]
  },
  {
   "cell_type": "code",
   "execution_count": 105,
   "id": "89ddcbbc-eb30-448a-b51d-6be6ca13f4ba",
   "metadata": {},
   "outputs": [
    {
     "data": {
      "text/plain": [
       "('stats', 'stats')"
      ]
     },
     "execution_count": 105,
     "metadata": {},
     "output_type": "execute_result"
    }
   ],
   "source": [
    "obj.stats(), ClassAttr.stats()"
   ]
  },
  {
   "cell_type": "code",
   "execution_count": 106,
   "id": "b3afbb63-ad54-4dc3-b921-1d396d1be311",
   "metadata": {},
   "outputs": [
    {
     "name": "stdout",
     "output_type": "stream",
     "text": [
      "cls=<class '__main__.ClassAttr'>\n"
     ]
    }
   ],
   "source": [
    "obj.update_name(\"obj_name\")"
   ]
  },
  {
   "cell_type": "code",
   "execution_count": 107,
   "id": "b3028307-a07a-45b8-b48c-db635632f181",
   "metadata": {},
   "outputs": [
    {
     "data": {
      "text/plain": [
       "<__main__.ClassAttr at 0x10b7cf0e0>"
      ]
     },
     "execution_count": 107,
     "metadata": {},
     "output_type": "execute_result"
    }
   ],
   "source": [
    "obj"
   ]
  },
  {
   "cell_type": "code",
   "execution_count": 109,
   "id": "0cbbc7f1-348c-42be-b671-b69bd54ac57d",
   "metadata": {},
   "outputs": [
    {
     "data": {
      "text/plain": [
       "'obj_name'"
      ]
     },
     "execution_count": 109,
     "metadata": {},
     "output_type": "execute_result"
    }
   ],
   "source": [
    "ClassAttr.name"
   ]
  },
  {
   "cell_type": "code",
   "execution_count": 110,
   "id": "9d58dc6a-94ef-4ba7-9df9-7d670fc27f11",
   "metadata": {},
   "outputs": [
    {
     "data": {
      "text/plain": [
       "{'val': 10, '_protected': 'protected', '_ClassAttr__private': 'private'}"
      ]
     },
     "execution_count": 110,
     "metadata": {},
     "output_type": "execute_result"
    }
   ],
   "source": [
    "obj.__dict__"
   ]
  },
  {
   "cell_type": "code",
   "execution_count": 111,
   "id": "f5e8db57-7a6e-4035-8972-4a26ce2af739",
   "metadata": {},
   "outputs": [
    {
     "name": "stdout",
     "output_type": "stream",
     "text": [
      "cls=<class '__main__.ClassAttr'>\n"
     ]
    }
   ],
   "source": [
    "ClassAttr.update_name(\"v2_name\")"
   ]
  },
  {
   "cell_type": "code",
   "execution_count": 112,
   "id": "a4e4d3c6-d1ed-41ca-b49b-070a8077f371",
   "metadata": {},
   "outputs": [
    {
     "data": {
      "text/plain": [
       "('v2_name', 'v2_name')"
      ]
     },
     "execution_count": 112,
     "metadata": {},
     "output_type": "execute_result"
    }
   ],
   "source": [
    "ClassAttr.name, obj.name"
   ]
  },
  {
   "cell_type": "code",
   "execution_count": 115,
   "id": "9decef45-3e4e-452b-8ea7-bc65d77d85fe",
   "metadata": {},
   "outputs": [],
   "source": [
    "obj = ClassAttr(10)"
   ]
  },
  {
   "cell_type": "code",
   "execution_count": 116,
   "id": "510f2066-657e-4c54-8029-eece06b63fbe",
   "metadata": {},
   "outputs": [
    {
     "name": "stdout",
     "output_type": "stream",
     "text": [
      "print data: self.val=10\n"
     ]
    }
   ],
   "source": [
    "obj.print()"
   ]
  },
  {
   "cell_type": "code",
   "execution_count": 117,
   "id": "80ce083c-86b7-4e35-9ef1-9e57b61eabbd",
   "metadata": {},
   "outputs": [
    {
     "data": {
      "text/plain": [
       "<function __main__.ClassAttr.print(self)>"
      ]
     },
     "execution_count": 117,
     "metadata": {},
     "output_type": "execute_result"
    }
   ],
   "source": [
    "ClassAttr.print"
   ]
  },
  {
   "cell_type": "code",
   "execution_count": 120,
   "id": "a9f78f84-2bca-44a1-a537-49f23e51ce32",
   "metadata": {},
   "outputs": [
    {
     "data": {
      "text/plain": [
       "<bound method ClassAttr.print of <__main__.ClassAttr object at 0x10b961090>>"
      ]
     },
     "execution_count": 120,
     "metadata": {},
     "output_type": "execute_result"
    }
   ],
   "source": [
    "obj.print"
   ]
  },
  {
   "cell_type": "code",
   "execution_count": 121,
   "id": "5688b342-1d9e-49af-8b15-4a092191ac46",
   "metadata": {},
   "outputs": [
    {
     "name": "stdout",
     "output_type": "stream",
     "text": [
      "print data: self.val=10\n"
     ]
    }
   ],
   "source": [
    "ClassAttr.print(obj)"
   ]
  },
  {
   "cell_type": "code",
   "execution_count": 122,
   "id": "8e9cfe3f-c292-4888-bb59-2d37363b9770",
   "metadata": {},
   "outputs": [
    {
     "name": "stdout",
     "output_type": "stream",
     "text": [
      "print data: self.val=99\n"
     ]
    }
   ],
   "source": [
    "class Data:\n",
    "    val = 99\n",
    "\n",
    "ClassAttr.print(Data)"
   ]
  },
  {
   "cell_type": "code",
   "execution_count": null,
   "id": "99ec91c1-b320-41dc-b70e-afb919d5a8d6",
   "metadata": {},
   "outputs": [],
   "source": []
  },
  {
   "cell_type": "code",
   "execution_count": null,
   "id": "f69d32ba-68a8-4284-9eaa-5fa327f7e198",
   "metadata": {},
   "outputs": [],
   "source": []
  },
  {
   "cell_type": "code",
   "execution_count": null,
   "id": "54435209-a449-47cf-aad9-e9a5c17ad28d",
   "metadata": {},
   "outputs": [],
   "source": []
  },
  {
   "cell_type": "code",
   "execution_count": 118,
   "id": "09da45a0-26f9-457c-9c99-085103cf251c",
   "metadata": {},
   "outputs": [
    {
     "data": {
      "text/plain": [
       "<bound method ClassAttr.update_name of <class '__main__.ClassAttr'>>"
      ]
     },
     "execution_count": 118,
     "metadata": {},
     "output_type": "execute_result"
    }
   ],
   "source": [
    "ClassAttr.update_name"
   ]
  },
  {
   "cell_type": "code",
   "execution_count": 119,
   "id": "efd7b300-9cca-435b-9fe0-f3eef4a06aef",
   "metadata": {},
   "outputs": [
    {
     "data": {
      "text/plain": [
       "<function __main__.ClassAttr.stats()>"
      ]
     },
     "execution_count": 119,
     "metadata": {},
     "output_type": "execute_result"
    }
   ],
   "source": [
    "ClassAttr.stats"
   ]
  },
  {
   "cell_type": "code",
   "execution_count": null,
   "id": "a3902a33-9cab-4f0f-8593-f523e2efc38e",
   "metadata": {},
   "outputs": [],
   "source": []
  },
  {
   "cell_type": "code",
   "execution_count": null,
   "id": "7859b2e8-22e4-4420-8170-d87ffb341ef6",
   "metadata": {},
   "outputs": [],
   "source": []
  },
  {
   "cell_type": "code",
   "execution_count": 127,
   "id": "71558a57-2b0d-4971-b2a2-40e9e0f3a842",
   "metadata": {},
   "outputs": [],
   "source": [
    "class Num:\n",
    "    def __init__(self, n):\n",
    "        self.n = n\n",
    "\n",
    "    def __add__(self, other):\n",
    "        print(f\"add num {self.n=}, {other=}\")\n",
    "        return self.n + other"
   ]
  },
  {
   "cell_type": "code",
   "execution_count": 128,
   "id": "9972e4f7-aff8-4478-957e-5a62841a8e45",
   "metadata": {},
   "outputs": [],
   "source": [
    "n = Num(10)"
   ]
  },
  {
   "cell_type": "code",
   "execution_count": 129,
   "id": "afdcf0cf-3538-4756-8c76-d4b8f1194795",
   "metadata": {},
   "outputs": [
    {
     "name": "stdout",
     "output_type": "stream",
     "text": [
      "add num self.n=10, other=20\n"
     ]
    },
    {
     "data": {
      "text/plain": [
       "30"
      ]
     },
     "execution_count": 129,
     "metadata": {},
     "output_type": "execute_result"
    }
   ],
   "source": [
    "n + 20"
   ]
  },
  {
   "cell_type": "code",
   "execution_count": 130,
   "id": "e0de206b-ecab-41a6-8857-0ac24b41f8e2",
   "metadata": {},
   "outputs": [
    {
     "ename": "TypeError",
     "evalue": "unsupported operand type(s) for +: 'int' and 'Num'",
     "output_type": "error",
     "traceback": [
      "\u001b[31m---------------------------------------------------------------------------\u001b[39m",
      "\u001b[31mTypeError\u001b[39m                                 Traceback (most recent call last)",
      "\u001b[36mCell\u001b[39m\u001b[36m \u001b[39m\u001b[32mIn[130]\u001b[39m\u001b[32m, line 1\u001b[39m\n\u001b[32m----> \u001b[39m\u001b[32m1\u001b[39m \u001b[32;43m20\u001b[39;49m\u001b[43m \u001b[49m\u001b[43m+\u001b[49m\u001b[43m \u001b[49m\u001b[43mn\u001b[49m\n",
      "\u001b[31mTypeError\u001b[39m: unsupported operand type(s) for +: 'int' and 'Num'"
     ]
    }
   ],
   "source": [
    "20 + n"
   ]
  },
  {
   "cell_type": "code",
   "execution_count": 131,
   "id": "a1a147ec-a49c-4041-87bd-8819a94eea46",
   "metadata": {},
   "outputs": [],
   "source": [
    "class Num:\n",
    "    def __init__(self, n):\n",
    "        self.n = n\n",
    "\n",
    "    def __add__(self, other):\n",
    "        print(f\"add num {self.n=}, {other=}\")\n",
    "        return self.n + other\n",
    "\n",
    "    def __radd__(self, other):\n",
    "        print(f\"radd num {self.n=}, {other=}\")\n",
    "        return self.n + other"
   ]
  },
  {
   "cell_type": "code",
   "execution_count": 132,
   "id": "a1495a4c-ebbc-4c4a-97d9-a2503e2a3f46",
   "metadata": {},
   "outputs": [],
   "source": [
    "n = Num(10)"
   ]
  },
  {
   "cell_type": "code",
   "execution_count": 136,
   "id": "2c03cdd8-7086-4a35-99e7-8181b1b2fa3e",
   "metadata": {},
   "outputs": [
    {
     "name": "stdout",
     "output_type": "stream",
     "text": [
      "radd num self.n=10, other=20\n"
     ]
    },
    {
     "data": {
      "text/plain": [
       "30"
      ]
     },
     "execution_count": 136,
     "metadata": {},
     "output_type": "execute_result"
    }
   ],
   "source": [
    "20 + n  # 20.__add__(n) -> failed, n.__radd__(20)"
   ]
  },
  {
   "cell_type": "code",
   "execution_count": 135,
   "id": "86235a69-cbde-41a0-a4fe-4f44143b0e7a",
   "metadata": {},
   "outputs": [
    {
     "name": "stdout",
     "output_type": "stream",
     "text": [
      "add num self.n=10, other=20\n"
     ]
    },
    {
     "data": {
      "text/plain": [
       "30"
      ]
     },
     "execution_count": 135,
     "metadata": {},
     "output_type": "execute_result"
    }
   ],
   "source": [
    "n + 20  # n.__add__(20)"
   ]
  },
  {
   "cell_type": "code",
   "execution_count": null,
   "id": "c62b5b98-6b18-49eb-815a-e5429867aff6",
   "metadata": {},
   "outputs": [],
   "source": []
  },
  {
   "cell_type": "code",
   "execution_count": null,
   "id": "b3fef265-eac1-4d5a-a4c3-4b4c6cf0a333",
   "metadata": {},
   "outputs": [],
   "source": []
  },
  {
   "cell_type": "code",
   "execution_count": 137,
   "id": "7053c4f9-8cba-4833-b445-d1f855ab5e25",
   "metadata": {},
   "outputs": [],
   "source": [
    "class A:\n",
    "    pass\n",
    "\n",
    "\n",
    "class B(A):\n",
    "    pass\n",
    "\n",
    "\n",
    "class C(A):\n",
    "    pass\n",
    "\n",
    "\n",
    "class D(B, C):\n",
    "    pass"
   ]
  },
  {
   "cell_type": "code",
   "execution_count": 138,
   "id": "a84f8484-0f34-4e0b-b4eb-069b50fc8d3d",
   "metadata": {},
   "outputs": [
    {
     "data": {
      "text/plain": [
       "(__main__.D, __main__.B, __main__.C, __main__.A, object)"
      ]
     },
     "execution_count": 138,
     "metadata": {},
     "output_type": "execute_result"
    }
   ],
   "source": [
    "D.__mro__"
   ]
  },
  {
   "cell_type": "code",
   "execution_count": 139,
   "id": "678ba437-98a3-41da-a205-7671abf8490b",
   "metadata": {},
   "outputs": [
    {
     "ename": "TypeError",
     "evalue": "Cannot create a consistent method resolution order (MRO) for bases A, B",
     "output_type": "error",
     "traceback": [
      "\u001b[31m---------------------------------------------------------------------------\u001b[39m",
      "\u001b[31mTypeError\u001b[39m                                 Traceback (most recent call last)",
      "\u001b[36mCell\u001b[39m\u001b[36m \u001b[39m\u001b[32mIn[139]\u001b[39m\u001b[32m, line 1\u001b[39m\n\u001b[32m----> \u001b[39m\u001b[32m1\u001b[39m \u001b[38;5;28;43;01mclass\u001b[39;49;00m\u001b[38;5;250;43m \u001b[39;49m\u001b[34;43;01mE\u001b[39;49;00m\u001b[43m(\u001b[49m\u001b[43mA\u001b[49m\u001b[43m,\u001b[49m\u001b[43m \u001b[49m\u001b[43mB\u001b[49m\u001b[43m)\u001b[49m\u001b[43m:\u001b[49m\n\u001b[32m      2\u001b[39m \u001b[43m    \u001b[49m\u001b[38;5;28;43;01mpass\u001b[39;49;00m\n",
      "\u001b[31mTypeError\u001b[39m: Cannot create a consistent method resolution order (MRO) for bases A, B"
     ]
    }
   ],
   "source": [
    "class E(A, B):\n",
    "    pass"
   ]
  },
  {
   "cell_type": "code",
   "execution_count": null,
   "id": "21ebdd6d-1b95-46ea-b381-3e372394d703",
   "metadata": {},
   "outputs": [],
   "source": []
  }
 ],
 "metadata": {
  "kernelspec": {
   "display_name": "Python 3 (ipykernel)",
   "language": "python",
   "name": "python3"
  },
  "language_info": {
   "codemirror_mode": {
    "name": "ipython",
    "version": 3
   },
   "file_extension": ".py",
   "mimetype": "text/x-python",
   "name": "python",
   "nbconvert_exporter": "python",
   "pygments_lexer": "ipython3",
   "version": "3.13.2"
  }
 },
 "nbformat": 4,
 "nbformat_minor": 5
}
