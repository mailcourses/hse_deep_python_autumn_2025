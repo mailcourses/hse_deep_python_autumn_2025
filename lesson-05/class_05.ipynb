{
 "cells": [
  {
   "cell_type": "code",
   "execution_count": 1,
   "id": "36130ed6-9784-470d-aa6e-6cfaa67f21e9",
   "metadata": {},
   "outputs": [],
   "source": [
    "class Person:\n",
    "    def eat(self):\n",
    "        return 42\n",
    "\n",
    "\n",
    "def fn():\n",
    "    return 42"
   ]
  },
  {
   "cell_type": "code",
   "execution_count": 15,
   "id": "2b831569-2938-486c-adc6-b91f83c24a24",
   "metadata": {},
   "outputs": [],
   "source": [
    "steve = Person()  # Person = type(...)\n",
    "\n"
   ]
  },
  {
   "cell_type": "code",
   "execution_count": null,
   "id": "7cc01811-b383-4fb3-a873-0823fade7c53",
   "metadata": {},
   "outputs": [],
   "source": []
  },
  {
   "cell_type": "code",
   "execution_count": 2,
   "id": "635956d1-7cd1-431f-9fc2-c0a54a3ecba9",
   "metadata": {},
   "outputs": [
    {
     "data": {
      "text/plain": [
       "\u001b[31mInit signature:\u001b[39m type(self, /, *args, **kwargs)\n",
       "\u001b[31mDocstring:\u001b[39m     \n",
       "type(object) -> the object's type\n",
       "type(name, bases, dict, **kwds) -> a new type\n",
       "\u001b[31mType:\u001b[39m           type\n",
       "\u001b[31mSubclasses:\u001b[39m     ABCMeta, EnumType, _AnyMeta, NamedTupleMeta, _TypedDictMeta, _ABC, MetaHasDescriptors, _TzSingleton, _TzFactory, StyleMeta, ..."
      ]
     },
     "metadata": {},
     "output_type": "display_data"
    }
   ],
   "source": [
    "type?"
   ]
  },
  {
   "cell_type": "code",
   "execution_count": 4,
   "id": "75292028-04f7-48da-9662-2665b27f03bc",
   "metadata": {},
   "outputs": [
    {
     "data": {
      "text/plain": [
       "(str, list, NoneType)"
      ]
     },
     "execution_count": 4,
     "metadata": {},
     "output_type": "execute_result"
    }
   ],
   "source": [
    "type(\"kwjdkj\"), type([1, 3]), type(None)"
   ]
  },
  {
   "cell_type": "code",
   "execution_count": 5,
   "id": "a591547e-5c24-4947-937c-0401e4be9dc7",
   "metadata": {},
   "outputs": [
    {
     "data": {
      "text/plain": [
       "function"
      ]
     },
     "execution_count": 5,
     "metadata": {},
     "output_type": "execute_result"
    }
   ],
   "source": [
    "type(fn)"
   ]
  },
  {
   "cell_type": "code",
   "execution_count": 7,
   "id": "95f42170-f3c6-4da8-8352-4c99e6dc04ea",
   "metadata": {},
   "outputs": [
    {
     "data": {
      "text/plain": [
       "(__main__.Person, method)"
      ]
     },
     "execution_count": 7,
     "metadata": {},
     "output_type": "execute_result"
    }
   ],
   "source": [
    "type(Person()), type(Person().eat)"
   ]
  },
  {
   "cell_type": "code",
   "execution_count": 9,
   "id": "1e8af196-8078-469d-b440-3bf1339a2f91",
   "metadata": {},
   "outputs": [
    {
     "data": {
      "text/plain": [
       "(type, type, type)"
      ]
     },
     "execution_count": 9,
     "metadata": {},
     "output_type": "execute_result"
    }
   ],
   "source": [
    "type(Person), type(object), type(str)"
   ]
  },
  {
   "cell_type": "code",
   "execution_count": 10,
   "id": "f4fc7174-877c-4a77-9828-5d28b3b9fb67",
   "metadata": {},
   "outputs": [
    {
     "data": {
      "text/plain": [
       "True"
      ]
     },
     "execution_count": 10,
     "metadata": {},
     "output_type": "execute_result"
    }
   ],
   "source": [
    "issubclass(type, object)"
   ]
  },
  {
   "cell_type": "code",
   "execution_count": 11,
   "id": "1fa3fbf5-7944-4c7e-8760-8905fe0faa17",
   "metadata": {},
   "outputs": [
    {
     "data": {
      "text/plain": [
       "True"
      ]
     },
     "execution_count": 11,
     "metadata": {},
     "output_type": "execute_result"
    }
   ],
   "source": [
    "isinstance(object, type)"
   ]
  },
  {
   "cell_type": "code",
   "execution_count": 12,
   "id": "ad3e913d-2a5d-4a7d-bd34-12bbfca87035",
   "metadata": {},
   "outputs": [
    {
     "data": {
      "text/plain": [
       "(True, True, True)"
      ]
     },
     "execution_count": 12,
     "metadata": {},
     "output_type": "execute_result"
    }
   ],
   "source": [
    "issubclass(object, object), issubclass(type, type), issubclass(Person, Person)"
   ]
  },
  {
   "cell_type": "code",
   "execution_count": 13,
   "id": "7717946c-1c91-4aa6-a7c9-ac964a17b5a8",
   "metadata": {},
   "outputs": [
    {
     "data": {
      "text/plain": [
       "(False, True, True, False)"
      ]
     },
     "execution_count": 13,
     "metadata": {},
     "output_type": "execute_result"
    }
   ],
   "source": [
    "issubclass(object, type), issubclass(type, object), issubclass(Person, object), issubclass(Person, type)"
   ]
  },
  {
   "cell_type": "code",
   "execution_count": 14,
   "id": "bf183314-2451-42fb-af74-c8b9b33251b4",
   "metadata": {},
   "outputs": [
    {
     "data": {
      "text/plain": [
       "(True, True, True)"
      ]
     },
     "execution_count": 14,
     "metadata": {},
     "output_type": "execute_result"
    }
   ],
   "source": [
    "isinstance(object, type), isinstance(Person, type), isinstance(str, type)"
   ]
  },
  {
   "cell_type": "code",
   "execution_count": 16,
   "id": "4d12e947-8e96-474a-a422-c2cfa33228ad",
   "metadata": {},
   "outputs": [],
   "source": [
    "steve = Person()  # Person = type(...)"
   ]
  },
  {
   "cell_type": "code",
   "execution_count": 18,
   "id": "8c665a04-05a3-4f7c-aac0-b1a684e32ece",
   "metadata": {},
   "outputs": [
    {
     "data": {
      "text/plain": [
       "True"
      ]
     },
     "execution_count": 18,
     "metadata": {},
     "output_type": "execute_result"
    }
   ],
   "source": [
    "isinstance(steve, Person)"
   ]
  },
  {
   "cell_type": "code",
   "execution_count": 19,
   "id": "72566487-a627-4a65-b0cc-fc918e548ce6",
   "metadata": {},
   "outputs": [
    {
     "data": {
      "text/plain": [
       "False"
      ]
     },
     "execution_count": 19,
     "metadata": {},
     "output_type": "execute_result"
    }
   ],
   "source": [
    "isinstance(Person, Person)"
   ]
  },
  {
   "cell_type": "code",
   "execution_count": 20,
   "id": "e14bdd07-7eca-4424-b541-952f116e29db",
   "metadata": {},
   "outputs": [
    {
     "data": {
      "text/plain": [
       "(True, True, True)"
      ]
     },
     "execution_count": 20,
     "metadata": {},
     "output_type": "execute_result"
    }
   ],
   "source": [
    "isinstance(object, type), isinstance(Person, type), isinstance(str, type)"
   ]
  },
  {
   "cell_type": "code",
   "execution_count": 21,
   "id": "2c9af56e-1404-4772-a553-9dd049cde640",
   "metadata": {},
   "outputs": [
    {
     "data": {
      "text/plain": [
       "(True, True, True)"
      ]
     },
     "execution_count": 21,
     "metadata": {},
     "output_type": "execute_result"
    }
   ],
   "source": [
    "isinstance(type, object), isinstance(str, object), isinstance(Person, object)"
   ]
  },
  {
   "cell_type": "code",
   "execution_count": 24,
   "id": "a48134f8-f64b-4976-b4b0-0b5ae8ea2581",
   "metadata": {},
   "outputs": [
    {
     "data": {
      "text/plain": [
       "(type, object)"
      ]
     },
     "execution_count": 24,
     "metadata": {},
     "output_type": "execute_result"
    }
   ],
   "source": [
    "type.__class__.__mro__"
   ]
  },
  {
   "cell_type": "code",
   "execution_count": 28,
   "id": "367cb059-23b5-4eac-bf90-0188c4bd7e16",
   "metadata": {},
   "outputs": [
    {
     "data": {
      "text/plain": [
       "(False, False, True, True)"
      ]
     },
     "execution_count": 28,
     "metadata": {},
     "output_type": "execute_result"
    }
   ],
   "source": [
    "isinstance(Person, Person), isinstance(str, str), isinstance(type, type), isinstance(object, object)"
   ]
  },
  {
   "cell_type": "code",
   "execution_count": null,
   "id": "b29e71cd-0faf-44f6-b20f-e7098fdf4f70",
   "metadata": {},
   "outputs": [],
   "source": []
  },
  {
   "cell_type": "code",
   "execution_count": null,
   "id": "d2a841da-ed04-48be-9ca0-56aa4c095b5a",
   "metadata": {},
   "outputs": [],
   "source": []
  },
  {
   "cell_type": "code",
   "execution_count": null,
   "id": "abe8fe05-30ce-41ee-b3f2-b9101529a8b8",
   "metadata": {},
   "outputs": [],
   "source": []
  },
  {
   "cell_type": "code",
   "execution_count": null,
   "id": "705726d0-ab65-4a31-9ea1-2b6cbeeae132",
   "metadata": {},
   "outputs": [],
   "source": []
  },
  {
   "cell_type": "code",
   "execution_count": null,
   "id": "4b98a102-8777-4a17-8f87-90c394c89e1c",
   "metadata": {},
   "outputs": [],
   "source": []
  },
  {
   "cell_type": "code",
   "execution_count": 29,
   "id": "b004596c-e434-422c-9726-81f28feb4783",
   "metadata": {},
   "outputs": [],
   "source": [
    "class Foo:\n",
    "    name = \"foo_name\"\n",
    "\n",
    "    def __init__(self, val):\n",
    "        self.val = val\n",
    "\n",
    "Boo = type(\"Boo\", (Foo,), {\"age\": 99})"
   ]
  },
  {
   "cell_type": "code",
   "execution_count": 30,
   "id": "b6a03193-0ba5-45dd-880a-540f93507009",
   "metadata": {},
   "outputs": [
    {
     "data": {
      "text/plain": [
       "(__main__.Foo, __main__.Boo)"
      ]
     },
     "execution_count": 30,
     "metadata": {},
     "output_type": "execute_result"
    }
   ],
   "source": [
    "Foo, Boo"
   ]
  },
  {
   "cell_type": "code",
   "execution_count": 31,
   "id": "1596a4c3-c0dd-4754-a6fa-4239f6830177",
   "metadata": {},
   "outputs": [
    {
     "data": {
      "text/plain": [
       "mappingproxy({'__module__': '__main__',\n",
       "              '__firstlineno__': 1,\n",
       "              'name': 'foo_name',\n",
       "              '__init__': <function __main__.Foo.__init__(self, val)>,\n",
       "              '__static_attributes__': ('val',),\n",
       "              '__dict__': <attribute '__dict__' of 'Foo' objects>,\n",
       "              '__weakref__': <attribute '__weakref__' of 'Foo' objects>,\n",
       "              '__doc__': None})"
      ]
     },
     "execution_count": 31,
     "metadata": {},
     "output_type": "execute_result"
    }
   ],
   "source": [
    "Foo.__dict__"
   ]
  },
  {
   "cell_type": "code",
   "execution_count": 32,
   "id": "e2f2232e-98e3-4a18-acf8-6fde8d92df53",
   "metadata": {},
   "outputs": [
    {
     "data": {
      "text/plain": [
       "mappingproxy({'age': 99, '__module__': '__main__', '__doc__': None})"
      ]
     },
     "execution_count": 32,
     "metadata": {},
     "output_type": "execute_result"
    }
   ],
   "source": [
    "Boo.__dict__"
   ]
  },
  {
   "cell_type": "code",
   "execution_count": 33,
   "id": "9eeb707d-ab84-4bca-a878-3f1c59a8f5a8",
   "metadata": {},
   "outputs": [
    {
     "data": {
      "text/plain": [
       "'foo_name'"
      ]
     },
     "execution_count": 33,
     "metadata": {},
     "output_type": "execute_result"
    }
   ],
   "source": [
    "Boo.name"
   ]
  },
  {
   "cell_type": "code",
   "execution_count": 34,
   "id": "f2db82e0-41a6-43fd-b017-3bbfb037ea92",
   "metadata": {},
   "outputs": [],
   "source": [
    "b = Boo(42)"
   ]
  },
  {
   "cell_type": "code",
   "execution_count": 35,
   "id": "6f589fe2-42b4-4ccd-b3e9-4415b8533913",
   "metadata": {},
   "outputs": [
    {
     "data": {
      "text/plain": [
       "42"
      ]
     },
     "execution_count": 35,
     "metadata": {},
     "output_type": "execute_result"
    }
   ],
   "source": [
    "b.val"
   ]
  },
  {
   "cell_type": "code",
   "execution_count": 36,
   "id": "d86a7c2b-b06b-4b16-9000-8c7224bc44bd",
   "metadata": {},
   "outputs": [
    {
     "data": {
      "text/plain": [
       "'Boo'"
      ]
     },
     "execution_count": 36,
     "metadata": {},
     "output_type": "execute_result"
    }
   ],
   "source": [
    "Boo.__name__"
   ]
  },
  {
   "cell_type": "code",
   "execution_count": 37,
   "id": "7c279954-289c-4e38-baa8-bab8d029af35",
   "metadata": {},
   "outputs": [],
   "source": [
    "Other = type(\"Zoo\", (Foo,), {\"age\": 99})"
   ]
  },
  {
   "cell_type": "code",
   "execution_count": 38,
   "id": "5c472b61-c7e2-4373-a89a-b72df959ecd3",
   "metadata": {},
   "outputs": [
    {
     "data": {
      "text/plain": [
       "'Zoo'"
      ]
     },
     "execution_count": 38,
     "metadata": {},
     "output_type": "execute_result"
    }
   ],
   "source": [
    "Other.__name__"
   ]
  },
  {
   "cell_type": "code",
   "execution_count": 39,
   "id": "bf930ed1-c580-4ffc-8e97-031c3b5b14f3",
   "metadata": {},
   "outputs": [
    {
     "data": {
      "text/plain": [
       "'Foo'"
      ]
     },
     "execution_count": 39,
     "metadata": {},
     "output_type": "execute_result"
    }
   ],
   "source": [
    "Foo.__name__"
   ]
  },
  {
   "cell_type": "code",
   "execution_count": 40,
   "id": "3c73cf5b-c012-4994-b99b-b424fdd3f179",
   "metadata": {},
   "outputs": [],
   "source": [
    "OtherFoo = Foo"
   ]
  },
  {
   "cell_type": "code",
   "execution_count": 41,
   "id": "2afbbd92-6a0a-4b20-bd24-6ab57398fd3a",
   "metadata": {},
   "outputs": [
    {
     "data": {
      "text/plain": [
       "'Foo'"
      ]
     },
     "execution_count": 41,
     "metadata": {},
     "output_type": "execute_result"
    }
   ],
   "source": [
    "OtherFoo.__name__"
   ]
  },
  {
   "cell_type": "code",
   "execution_count": null,
   "id": "81ffbf2b-67f7-436f-87de-3cb5ff2cd6f0",
   "metadata": {},
   "outputs": [],
   "source": []
  },
  {
   "cell_type": "code",
   "execution_count": null,
   "id": "ea11a038-86b8-49a1-b220-4ce5ae185a1f",
   "metadata": {},
   "outputs": [],
   "source": []
  },
  {
   "cell_type": "code",
   "execution_count": 42,
   "id": "4ad513e7-f37e-4c02-9c1f-053388336d68",
   "metadata": {},
   "outputs": [],
   "source": [
    "class Foo:\n",
    "    name = \"foo_name\"\n",
    "\n",
    "    def __init__(self, val):\n",
    "        self.val = val\n",
    "\n",
    "Boo = type(\n",
    "    \"Boo\",\n",
    "    (Foo,),\n",
    "    {\n",
    "        \"age\": 99,\n",
    "        \"print\": lambda self: f\"{self=}: {self.val=}\"\n",
    "    },\n",
    ")"
   ]
  },
  {
   "cell_type": "code",
   "execution_count": 43,
   "id": "8f23d7d3-fa62-4b4c-828e-8880ca641f3a",
   "metadata": {},
   "outputs": [],
   "source": [
    "b = Boo(99)"
   ]
  },
  {
   "cell_type": "code",
   "execution_count": 45,
   "id": "db2d5506-64e5-4cfe-be62-2ad4c68d4feb",
   "metadata": {},
   "outputs": [
    {
     "data": {
      "text/plain": [
       "(<bound method <lambda> of <__main__.Boo object at 0x110bd0440>>,\n",
       " <__main__.Boo at 0x110bd0440>)"
      ]
     },
     "execution_count": 45,
     "metadata": {},
     "output_type": "execute_result"
    }
   ],
   "source": [
    "b.print, b.print.__self__"
   ]
  },
  {
   "cell_type": "code",
   "execution_count": 46,
   "id": "45ea70cc-87ae-4d0f-a45f-6767996ecaa3",
   "metadata": {},
   "outputs": [
    {
     "data": {
      "text/plain": [
       "'self=<__main__.Boo object at 0x110bd0440>: self.val=99'"
      ]
     },
     "execution_count": 46,
     "metadata": {},
     "output_type": "execute_result"
    }
   ],
   "source": [
    "b.print()"
   ]
  },
  {
   "cell_type": "code",
   "execution_count": null,
   "id": "4495e90e-d921-4c09-85bc-4e84f9d3567d",
   "metadata": {},
   "outputs": [],
   "source": []
  },
  {
   "cell_type": "code",
   "execution_count": 55,
   "id": "d8230222-7aea-4689-a9e8-7d78ea0c5094",
   "metadata": {},
   "outputs": [],
   "source": [
    "class Foo:\n",
    "    __priv = \"private_attr\"\n",
    "    name = \"foo_name\"\n",
    "\n",
    "    def __init__(self, val):\n",
    "        self.val = val\n",
    "\n",
    "Boo = type(\n",
    "    \"Boo\",\n",
    "    (Foo,),\n",
    "    {\n",
    "        \"__age\": 99,\n",
    "        \"print\": lambda self: f\"{self=}: {self.__age=}\"\n",
    "    },\n",
    ")"
   ]
  },
  {
   "cell_type": "code",
   "execution_count": 56,
   "id": "2fe93284-fdd5-43ef-a55b-0930191ddd8d",
   "metadata": {},
   "outputs": [],
   "source": [
    "b = Boo(99)"
   ]
  },
  {
   "cell_type": "code",
   "execution_count": 57,
   "id": "a5686c85-fde4-4a42-b022-160c7a859591",
   "metadata": {},
   "outputs": [
    {
     "data": {
      "text/plain": [
       "'self=<__main__.Boo object at 0x110a25be0>: self.__age=99'"
      ]
     },
     "execution_count": 57,
     "metadata": {},
     "output_type": "execute_result"
    }
   ],
   "source": [
    "b.print()"
   ]
  },
  {
   "cell_type": "code",
   "execution_count": 58,
   "id": "f2178c5a-20a4-4225-a2f7-ca26bcf7ac1c",
   "metadata": {},
   "outputs": [
    {
     "data": {
      "text/plain": [
       "mappingproxy({'__age': 99,\n",
       "              'print': <function __main__.<lambda>(self)>,\n",
       "              '__module__': '__main__',\n",
       "              '__doc__': None})"
      ]
     },
     "execution_count": 58,
     "metadata": {},
     "output_type": "execute_result"
    }
   ],
   "source": [
    "Boo.__dict__"
   ]
  },
  {
   "cell_type": "code",
   "execution_count": 59,
   "id": "e8277782-bd5c-4b7a-8905-0b4629f60c12",
   "metadata": {},
   "outputs": [
    {
     "data": {
      "text/plain": [
       "mappingproxy({'__module__': '__main__',\n",
       "              '__firstlineno__': 1,\n",
       "              '_Foo__priv': 'private_attr',\n",
       "              'name': 'foo_name',\n",
       "              '__init__': <function __main__.Foo.__init__(self, val)>,\n",
       "              '__static_attributes__': ('val',),\n",
       "              '__dict__': <attribute '__dict__' of 'Foo' objects>,\n",
       "              '__weakref__': <attribute '__weakref__' of 'Foo' objects>,\n",
       "              '__doc__': None})"
      ]
     },
     "execution_count": 59,
     "metadata": {},
     "output_type": "execute_result"
    }
   ],
   "source": [
    "Foo.__dict__"
   ]
  },
  {
   "cell_type": "code",
   "execution_count": 60,
   "id": "9428fffe-e671-42be-96a8-fd81c67c1eea",
   "metadata": {},
   "outputs": [
    {
     "data": {
      "text/plain": [
       "99"
      ]
     },
     "execution_count": 60,
     "metadata": {},
     "output_type": "execute_result"
    }
   ],
   "source": [
    "b.__age"
   ]
  },
  {
   "cell_type": "code",
   "execution_count": null,
   "id": "b5134195-37dd-4f81-9131-1b6793e36c0d",
   "metadata": {},
   "outputs": [],
   "source": []
  },
  {
   "cell_type": "code",
   "execution_count": null,
   "id": "cca38c55-7444-4f9c-b54c-9319ccca7a77",
   "metadata": {},
   "outputs": [],
   "source": []
  },
  {
   "cell_type": "code",
   "execution_count": null,
   "id": "8094a852-a866-4df5-b6ca-094c4a9ab16b",
   "metadata": {},
   "outputs": [],
   "source": []
  },
  {
   "cell_type": "code",
   "execution_count": 61,
   "id": "75e2b21b-6ac1-4ace-8c4d-5d32035c2f1d",
   "metadata": {},
   "outputs": [],
   "source": [
    "class AMeta(type):\n",
    "    def __new__(mcs, name, bases, classdict, **kwargs):\n",
    "        print(f\"AMeta.__new__ {name=}, {bases=}, {classdict=}, {kwargs=}\")\n",
    "\n",
    "        cls = super().__new__(mcs, name, bases, classdict)\n",
    "        print(\"AMeta __new__\", cls)\n",
    "\n",
    "        return cls\n",
    "\n",
    "    def __init__(cls, name, bases, classdict, **kwargs):\n",
    "        print(\"AMeta __init__\", cls, name, bases, classdict)\n",
    "        super().__init__(name, bases, classdict, **kwargs)\n",
    "\n",
    "    def __call__(cls, *args, **kwargs):\n",
    "        print(\"AMeta __call__\", cls, args, kwargs)\n",
    "        return super().__call__(*args, **kwargs)\n",
    "\n",
    "    @classmethod\n",
    "    def __prepare__(mcs, name, bases, **kwargs):\n",
    "        print(\"AMeta __prepare__\", mcs, name, bases, kwargs)\n",
    "        \n",
    "        return {\"added_attr_a\": 2, \"added_attr_b\": 99}"
   ]
  },
  {
   "cell_type": "code",
   "execution_count": 62,
   "id": "8b2cc029-e5fa-4d5d-8471-81afbd128d31",
   "metadata": {},
   "outputs": [
    {
     "name": "stdout",
     "output_type": "stream",
     "text": [
      "AMeta __prepare__ <class '__main__.AMeta'> Person () {}\n",
      "AMeta.__new__ name='Person', bases=(), classdict={'added_attr_a': 2, 'added_attr_b': 99, '__module__': '__main__', '__qualname__': 'Person', '__firstlineno__': 1, 'age': 99, '__new__': <function Person.__new__ at 0x1114d8e00>, '__init__': <function Person.__init__ at 0x1114db740>, '__static_attributes__': ('name',), '__classcell__': <cell at 0x1111aca90: empty>}, kwargs={}\n",
      "AMeta __new__ <class '__main__.Person'>\n",
      "AMeta __init__ <class '__main__.Person'> Person () {'added_attr_a': 2, 'added_attr_b': 99, '__module__': '__main__', '__qualname__': 'Person', '__firstlineno__': 1, 'age': 99, '__new__': <function Person.__new__ at 0x1114d8e00>, '__init__': <function Person.__init__ at 0x1114db740>, '__static_attributes__': ('name',), '__classcell__': <cell at 0x1111aca90: AMeta object at 0x7fec28cb81f0>}\n"
     ]
    }
   ],
   "source": [
    "class Person(metaclass=AMeta):\n",
    "    age = 99\n",
    "\n",
    "    def __new__(cls, *args, **kwargs):\n",
    "        print(f\"Person.__new__ {cls=}, {args=}, {kwargs=}\")\n",
    "        return super().__new__(cls)\n",
    "\n",
    "    def __init__(self, name):\n",
    "        print(f\"Person.__init__ {name=}\")\n",
    "        self.name = name"
   ]
  },
  {
   "cell_type": "code",
   "execution_count": 64,
   "id": "cbfa6c36-6c00-4c64-9e59-caa4c24f91dd",
   "metadata": {},
   "outputs": [
    {
     "data": {
      "text/plain": [
       "mappingproxy({'added_attr_a': 2,\n",
       "              'added_attr_b': 99,\n",
       "              '__module__': '__main__',\n",
       "              '__firstlineno__': 1,\n",
       "              'age': 99,\n",
       "              '__new__': <staticmethod(<function Person.__new__ at 0x1114d8e00>)>,\n",
       "              '__init__': <function __main__.Person.__init__(self, name)>,\n",
       "              '__static_attributes__': ('name',),\n",
       "              '__dict__': <attribute '__dict__' of 'Person' objects>,\n",
       "              '__weakref__': <attribute '__weakref__' of 'Person' objects>,\n",
       "              '__doc__': None})"
      ]
     },
     "execution_count": 64,
     "metadata": {},
     "output_type": "execute_result"
    }
   ],
   "source": [
    "Person.__dict__"
   ]
  },
  {
   "cell_type": "code",
   "execution_count": 65,
   "id": "6d596593-7f02-482f-a784-975d586f84bb",
   "metadata": {},
   "outputs": [
    {
     "name": "stdout",
     "output_type": "stream",
     "text": [
      "AMeta __call__ <class '__main__.Person'> ('Steve',) {}\n",
      "Person.__new__ cls=<class '__main__.Person'>, args=('Steve',), kwargs={}\n",
      "Person.__init__ name='Steve'\n"
     ]
    }
   ],
   "source": [
    "steve = Person(\"Steve\")"
   ]
  },
  {
   "cell_type": "code",
   "execution_count": 67,
   "id": "4ce5ac22-0d1e-4db0-85f9-454f6519e80e",
   "metadata": {},
   "outputs": [
    {
     "data": {
      "text/plain": [
       "{'name': 'Steve'}"
      ]
     },
     "execution_count": 67,
     "metadata": {},
     "output_type": "execute_result"
    }
   ],
   "source": [
    "steve.__dict__"
   ]
  },
  {
   "cell_type": "code",
   "execution_count": 68,
   "id": "f503a867-cf75-4676-9c9d-f4768db221d8",
   "metadata": {},
   "outputs": [
    {
     "data": {
      "text/plain": [
       "<__main__.Person at 0x110bd0590>"
      ]
     },
     "execution_count": 68,
     "metadata": {},
     "output_type": "execute_result"
    }
   ],
   "source": [
    "steve"
   ]
  },
  {
   "cell_type": "code",
   "execution_count": 69,
   "id": "d90ba9fd-290a-4346-8067-ca65f47876b6",
   "metadata": {},
   "outputs": [
    {
     "ename": "TypeError",
     "evalue": "'Person' object is not callable",
     "output_type": "error",
     "traceback": [
      "\u001b[31m---------------------------------------------------------------------------\u001b[39m",
      "\u001b[31mTypeError\u001b[39m                                 Traceback (most recent call last)",
      "\u001b[36mCell\u001b[39m\u001b[36m \u001b[39m\u001b[32mIn[69]\u001b[39m\u001b[32m, line 1\u001b[39m\n\u001b[32m----> \u001b[39m\u001b[32m1\u001b[39m \u001b[43msteve\u001b[49m\u001b[43m(\u001b[49m\u001b[43m)\u001b[49m\n",
      "\u001b[31mTypeError\u001b[39m: 'Person' object is not callable"
     ]
    }
   ],
   "source": [
    "steve()"
   ]
  },
  {
   "cell_type": "code",
   "execution_count": 70,
   "id": "24615807-9e94-412c-a571-96a6f0efb037",
   "metadata": {},
   "outputs": [
    {
     "name": "stdout",
     "output_type": "stream",
     "text": [
      "AMeta __prepare__ <class '__main__.AMeta'> Person () {}\n",
      "AMeta.__new__ name='Person', bases=(), classdict={'added_attr_a': 2, 'added_attr_b': 99, '__module__': '__main__', '__qualname__': 'Person', '__firstlineno__': 1, 'age': 99, '__new__': <function Person.__new__ at 0x1112e9a80>, '__init__': <function Person.__init__ at 0x1112eae80>, '__call__': <function Person.__call__ at 0x1112e9940>, '__static_attributes__': ('name',), '__classcell__': <cell at 0x110ebe9b0: empty>}, kwargs={}\n",
      "AMeta __new__ <class '__main__.Person'>\n",
      "AMeta __init__ <class '__main__.Person'> Person () {'added_attr_a': 2, 'added_attr_b': 99, '__module__': '__main__', '__qualname__': 'Person', '__firstlineno__': 1, 'age': 99, '__new__': <function Person.__new__ at 0x1112e9a80>, '__init__': <function Person.__init__ at 0x1112eae80>, '__call__': <function Person.__call__ at 0x1112e9940>, '__static_attributes__': ('name',), '__classcell__': <cell at 0x110ebe9b0: AMeta object at 0x7fec28bf6820>}\n"
     ]
    }
   ],
   "source": [
    "class Person(metaclass=AMeta):\n",
    "    age = 99\n",
    "\n",
    "    def __new__(cls, *args, **kwargs):\n",
    "        print(f\"Person.__new__ {cls=}, {args=}, {kwargs=}\")\n",
    "        return super().__new__(cls)\n",
    "\n",
    "    def __init__(self, name):\n",
    "        print(f\"Person.__init__ {name=}\")\n",
    "        self.name = name\n",
    "\n",
    "    def __call__(self):\n",
    "        print(f\"Person.__call__\")"
   ]
  },
  {
   "cell_type": "code",
   "execution_count": 71,
   "id": "3a4b947c-ade1-46e2-a0fc-4e07b00f52c4",
   "metadata": {},
   "outputs": [
    {
     "name": "stdout",
     "output_type": "stream",
     "text": [
      "AMeta __call__ <class '__main__.Person'> ('Steve',) {}\n",
      "Person.__new__ cls=<class '__main__.Person'>, args=('Steve',), kwargs={}\n",
      "Person.__init__ name='Steve'\n"
     ]
    }
   ],
   "source": [
    "steve = Person(\"Steve\")"
   ]
  },
  {
   "cell_type": "code",
   "execution_count": 72,
   "id": "68efd54c-b610-43cd-8542-416c3bd2ddcd",
   "metadata": {},
   "outputs": [
    {
     "name": "stdout",
     "output_type": "stream",
     "text": [
      "Person.__call__\n"
     ]
    }
   ],
   "source": [
    "steve()"
   ]
  },
  {
   "cell_type": "code",
   "execution_count": null,
   "id": "4e07640f-74b5-47d5-b098-6d82d13f6c4b",
   "metadata": {},
   "outputs": [],
   "source": []
  },
  {
   "cell_type": "code",
   "execution_count": null,
   "id": "46c8afa5-84ed-43bc-a3ef-995e52d3498e",
   "metadata": {},
   "outputs": [],
   "source": []
  },
  {
   "cell_type": "code",
   "execution_count": 73,
   "id": "d3b471e4-15a8-4943-a00e-4127e2b9e77e",
   "metadata": {},
   "outputs": [
    {
     "name": "stdout",
     "output_type": "stream",
     "text": [
      "AMeta.__new__ name='Student', bases=(<class '__main__.Person'>,), classdict={'school': 'HSE'}, kwargs={}\n",
      "AMeta __new__ <class '__main__.Student'>\n",
      "AMeta __init__ <class '__main__.Student'> Student (<class '__main__.Person'>,) {'school': 'HSE'}\n"
     ]
    }
   ],
   "source": [
    "Student = AMeta(\"Student\", (Person,), {\"school\": \"HSE\"})"
   ]
  },
  {
   "cell_type": "code",
   "execution_count": 74,
   "id": "fe4c9fff-a7d1-440c-8c88-291f55cd16ce",
   "metadata": {},
   "outputs": [
    {
     "name": "stdout",
     "output_type": "stream",
     "text": [
      "AMeta __call__ <class '__main__.Student'> ('Woz',) {}\n",
      "Person.__new__ cls=<class '__main__.Student'>, args=('Woz',), kwargs={}\n",
      "Person.__init__ name='Woz'\n"
     ]
    }
   ],
   "source": [
    "woz = Student(\"Woz\")"
   ]
  },
  {
   "cell_type": "code",
   "execution_count": 75,
   "id": "0ab1ca8d-da66-4338-b8dc-7bf1884d192b",
   "metadata": {},
   "outputs": [
    {
     "name": "stdout",
     "output_type": "stream",
     "text": [
      "Person.__call__\n"
     ]
    }
   ],
   "source": [
    "woz()"
   ]
  },
  {
   "cell_type": "code",
   "execution_count": null,
   "id": "302ce088-ce51-4ed1-9680-38f40e4c3c13",
   "metadata": {},
   "outputs": [],
   "source": []
  },
  {
   "cell_type": "code",
   "execution_count": 83,
   "id": "4b9811a1-ebad-49d6-9b7c-16f4dbf4e41e",
   "metadata": {},
   "outputs": [],
   "source": [
    "class Singleton:\n",
    "    _instance = None\n",
    "    \n",
    "    def __new__(cls, *args, **kwargs):\n",
    "        print(\"Singleton.__new__\", cls)\n",
    "        if cls._instance is None:\n",
    "            cls._instance = super().__new__(cls)\n",
    "        return cls._instance\n",
    "\n",
    "\n",
    "class Animal(Singleton):\n",
    "    def __init__(self, name):\n",
    "        print(f\"Animal.__init__, {name=}\")\n",
    "        self.name = name"
   ]
  },
  {
   "cell_type": "code",
   "execution_count": 84,
   "id": "6cd39129-8f87-4a43-9b77-a84a33ebd6ad",
   "metadata": {},
   "outputs": [
    {
     "data": {
      "text/plain": [
       "mappingproxy({'__module__': '__main__',\n",
       "              '__firstlineno__': 11,\n",
       "              '__init__': <function __main__.Animal.__init__(self, name)>,\n",
       "              '__static_attributes__': ('name',),\n",
       "              '__doc__': None})"
      ]
     },
     "execution_count": 84,
     "metadata": {},
     "output_type": "execute_result"
    }
   ],
   "source": [
    "Animal.__dict__"
   ]
  },
  {
   "cell_type": "code",
   "execution_count": 85,
   "id": "c5850a60-3370-49ea-976b-6e0c9b48298e",
   "metadata": {},
   "outputs": [
    {
     "name": "stdout",
     "output_type": "stream",
     "text": [
      "Singleton.__new__ <class '__main__.Animal'>\n",
      "Animal.__init__, name='tiger'\n"
     ]
    }
   ],
   "source": [
    "tiger = Animal(\"tiger\")"
   ]
  },
  {
   "cell_type": "code",
   "execution_count": 87,
   "id": "be9ba441-d429-4588-bb18-33e95e6c2a49",
   "metadata": {},
   "outputs": [
    {
     "data": {
      "text/plain": [
       "{'name': 'tiger'}"
      ]
     },
     "execution_count": 87,
     "metadata": {},
     "output_type": "execute_result"
    }
   ],
   "source": [
    "tiger.__dict__"
   ]
  },
  {
   "cell_type": "code",
   "execution_count": 88,
   "id": "85181d6e-26ad-4fdd-bda8-cca66d0f4490",
   "metadata": {},
   "outputs": [
    {
     "data": {
      "text/plain": [
       "mappingproxy({'__module__': '__main__',\n",
       "              '__firstlineno__': 11,\n",
       "              '__init__': <function __main__.Animal.__init__(self, name)>,\n",
       "              '__static_attributes__': ('name',),\n",
       "              '__doc__': None,\n",
       "              '_instance': <__main__.Animal at 0x110bd17f0>})"
      ]
     },
     "execution_count": 88,
     "metadata": {},
     "output_type": "execute_result"
    }
   ],
   "source": [
    "Animal.__dict__"
   ]
  },
  {
   "cell_type": "code",
   "execution_count": 89,
   "id": "269b3a32-4a3a-4e88-adc4-3a46c8179324",
   "metadata": {},
   "outputs": [
    {
     "name": "stdout",
     "output_type": "stream",
     "text": [
      "Singleton.__new__ <class '__main__.Animal'>\n",
      "Animal.__init__, name='zebra'\n"
     ]
    }
   ],
   "source": [
    "zebra = Animal(\"zebra\")"
   ]
  },
  {
   "cell_type": "code",
   "execution_count": 90,
   "id": "afb5225e-de3d-4723-b332-3c52fc249c19",
   "metadata": {},
   "outputs": [
    {
     "data": {
      "text/plain": [
       "True"
      ]
     },
     "execution_count": 90,
     "metadata": {},
     "output_type": "execute_result"
    }
   ],
   "source": [
    "tiger is zebra"
   ]
  },
  {
   "cell_type": "code",
   "execution_count": 91,
   "id": "91875158-23d4-44b4-80e5-c11cca730f03",
   "metadata": {},
   "outputs": [
    {
     "data": {
      "text/plain": [
       "('zebra', 'zebra')"
      ]
     },
     "execution_count": 91,
     "metadata": {},
     "output_type": "execute_result"
    }
   ],
   "source": [
    "zebra.name, tiger.name"
   ]
  },
  {
   "cell_type": "code",
   "execution_count": null,
   "id": "9041b8f6-a1bb-4f65-8ce1-63ab21c1fcf1",
   "metadata": {},
   "outputs": [],
   "source": []
  },
  {
   "cell_type": "code",
   "execution_count": null,
   "id": "8e4748e0-81c1-4123-bcb8-93aba7b2083f",
   "metadata": {},
   "outputs": [],
   "source": []
  },
  {
   "cell_type": "code",
   "execution_count": 92,
   "id": "efcf5c99-76f2-4f99-b4bb-a2949dc45112",
   "metadata": {},
   "outputs": [],
   "source": [
    "class SingletonMeta(type):\n",
    "    _instances = {}\n",
    "\n",
    "    def __call__(cls, *args, **kwargs):\n",
    "        print(\"SingletonMeta __call__\", cls, args, kwargs)\n",
    "\n",
    "        if cls not in cls._instances:\n",
    "            cls._instances[cls] = super().__call__(*args, **kwargs)\n",
    "\n",
    "        return cls._instances[cls]\n",
    "\n",
    "\n",
    "class DbConnector(metaclass=SingletonMeta):\n",
    "    def __init__(self, creds):\n",
    "        print(f\"DbConnector.__init__, {creds=}\")\n",
    "        self.creds = creds"
   ]
  },
  {
   "cell_type": "code",
   "execution_count": 93,
   "id": "a2a8b57e-1a87-4697-bfb2-16857ae0a930",
   "metadata": {},
   "outputs": [
    {
     "name": "stdout",
     "output_type": "stream",
     "text": [
      "SingletonMeta __call__ <class '__main__.DbConnector'> ('clients',) {}\n",
      "DbConnector.__init__, creds='clients'\n"
     ]
    }
   ],
   "source": [
    "sqlite = DbConnector(\"clients\")"
   ]
  },
  {
   "cell_type": "code",
   "execution_count": 95,
   "id": "cf8cd6a4-a2c1-4f4c-8796-49fbc1ec38ca",
   "metadata": {},
   "outputs": [
    {
     "data": {
      "text/plain": [
       "{'creds': 'clients'}"
      ]
     },
     "execution_count": 95,
     "metadata": {},
     "output_type": "execute_result"
    }
   ],
   "source": [
    "sqlite.__dict__"
   ]
  },
  {
   "cell_type": "code",
   "execution_count": 96,
   "id": "c591e0ea-0d83-40e0-9380-403a4397b8d7",
   "metadata": {},
   "outputs": [
    {
     "data": {
      "text/plain": [
       "mappingproxy({'__module__': '__main__',\n",
       "              '__firstlineno__': 13,\n",
       "              '__init__': <function __main__.DbConnector.__init__(self, creds)>,\n",
       "              '__static_attributes__': ('creds',),\n",
       "              '__dict__': <attribute '__dict__' of 'DbConnector' objects>,\n",
       "              '__weakref__': <attribute '__weakref__' of 'DbConnector' objects>,\n",
       "              '__doc__': None})"
      ]
     },
     "execution_count": 96,
     "metadata": {},
     "output_type": "execute_result"
    }
   ],
   "source": [
    "DbConnector.__dict__"
   ]
  },
  {
   "cell_type": "code",
   "execution_count": 97,
   "id": "6fedb53a-e337-4b6e-a51f-1df84f71a919",
   "metadata": {},
   "outputs": [
    {
     "data": {
      "text/plain": [
       "{__main__.DbConnector: <__main__.DbConnector at 0x110bd27b0>}"
      ]
     },
     "execution_count": 97,
     "metadata": {},
     "output_type": "execute_result"
    }
   ],
   "source": [
    "SingletonMeta._instances"
   ]
  },
  {
   "cell_type": "code",
   "execution_count": 98,
   "id": "5d37c7c9-9147-49ba-b6da-f6f6a74fa456",
   "metadata": {},
   "outputs": [
    {
     "name": "stdout",
     "output_type": "stream",
     "text": [
      "SingletonMeta __call__ <class '__main__.DbConnector'> ('persons',) {}\n"
     ]
    }
   ],
   "source": [
    "mysql = DbConnector(\"persons\")"
   ]
  },
  {
   "cell_type": "code",
   "execution_count": 99,
   "id": "9978e298-1402-4872-82a2-6d384b25a85a",
   "metadata": {},
   "outputs": [
    {
     "data": {
      "text/plain": [
       "True"
      ]
     },
     "execution_count": 99,
     "metadata": {},
     "output_type": "execute_result"
    }
   ],
   "source": [
    "mysql is sqlite"
   ]
  },
  {
   "cell_type": "code",
   "execution_count": 100,
   "id": "518840ba-4c02-4350-9a65-5330a676e26c",
   "metadata": {},
   "outputs": [
    {
     "data": {
      "text/plain": [
       "('clients', 'clients')"
      ]
     },
     "execution_count": 100,
     "metadata": {},
     "output_type": "execute_result"
    }
   ],
   "source": [
    "mysql.creds, sqlite.creds"
   ]
  },
  {
   "cell_type": "code",
   "execution_count": 101,
   "id": "dbc2996e-c95d-4761-9891-ec73ee917f67",
   "metadata": {},
   "outputs": [
    {
     "data": {
      "text/plain": [
       "{__main__.DbConnector: <__main__.DbConnector at 0x110bd27b0>}"
      ]
     },
     "execution_count": 101,
     "metadata": {},
     "output_type": "execute_result"
    }
   ],
   "source": [
    "SingletonMeta._instances"
   ]
  },
  {
   "cell_type": "code",
   "execution_count": 102,
   "id": "086d42ae-a309-4a6c-8790-e4d10e520a87",
   "metadata": {},
   "outputs": [],
   "source": [
    "class NetConnector(metaclass=SingletonMeta):\n",
    "    pass"
   ]
  },
  {
   "cell_type": "code",
   "execution_count": 103,
   "id": "890ac441-38ad-45d6-8709-1a11a1a1b3dd",
   "metadata": {},
   "outputs": [
    {
     "name": "stdout",
     "output_type": "stream",
     "text": [
      "SingletonMeta __call__ <class '__main__.NetConnector'> () {}\n"
     ]
    }
   ],
   "source": [
    "net = NetConnector()"
   ]
  },
  {
   "cell_type": "code",
   "execution_count": 104,
   "id": "fae85f67-42dc-4345-926d-da367f7eb043",
   "metadata": {},
   "outputs": [
    {
     "data": {
      "text/plain": [
       "{__main__.DbConnector: <__main__.DbConnector at 0x110bd27b0>,\n",
       " __main__.NetConnector: <__main__.NetConnector at 0x110bd23c0>}"
      ]
     },
     "execution_count": 104,
     "metadata": {},
     "output_type": "execute_result"
    }
   ],
   "source": [
    "SingletonMeta._instances"
   ]
  },
  {
   "cell_type": "code",
   "execution_count": 105,
   "id": "878279e0-5c9f-479d-a4f9-0be678e176e5",
   "metadata": {},
   "outputs": [
    {
     "name": "stdout",
     "output_type": "stream",
     "text": [
      "SingletonMeta __call__ <class '__main__.NetConnector'> () {}\n"
     ]
    }
   ],
   "source": [
    "net1 = NetConnector()"
   ]
  },
  {
   "cell_type": "code",
   "execution_count": 106,
   "id": "197625aa-4943-441e-8299-a5827b9e3e5f",
   "metadata": {},
   "outputs": [
    {
     "data": {
      "text/plain": [
       "True"
      ]
     },
     "execution_count": 106,
     "metadata": {},
     "output_type": "execute_result"
    }
   ],
   "source": [
    "net is net1"
   ]
  },
  {
   "cell_type": "code",
   "execution_count": null,
   "id": "1937e69e-3403-457f-93a9-40f0fbe304de",
   "metadata": {},
   "outputs": [],
   "source": []
  },
  {
   "cell_type": "code",
   "execution_count": null,
   "id": "49bb3998-472f-4cec-90b6-cd9ead0191f1",
   "metadata": {},
   "outputs": [],
   "source": []
  },
  {
   "cell_type": "code",
   "execution_count": null,
   "id": "e1962054-3676-4752-814e-978361b5f18c",
   "metadata": {},
   "outputs": [],
   "source": []
  },
  {
   "cell_type": "code",
   "execution_count": 107,
   "id": "be974d91-b353-4f77-bdbb-a155fa361fe8",
   "metadata": {},
   "outputs": [],
   "source": [
    "from abc import ABC, ABCMeta, abstractmethod"
   ]
  },
  {
   "cell_type": "code",
   "execution_count": 115,
   "id": "79348fe4-e156-44fb-a23f-6d2574b22450",
   "metadata": {},
   "outputs": [],
   "source": [
    "class Person(ABC):\n",
    "    @abstractmethod\n",
    "    def eat(self, food):\n",
    "        print(f\"Person.eat {food=}\")\n",
    "        return \"tasty\"\n",
    "\n",
    "    @abstractmethod\n",
    "    def sleep(self):\n",
    "        return NotImplemented\n",
    "\n",
    "    def study(self, food):\n",
    "        print(f\"Person.study {self=} {food=}\")\n",
    "        print(self.eat(food))\n",
    "        self.sleep()"
   ]
  },
  {
   "cell_type": "code",
   "execution_count": 116,
   "id": "97bf27cc-130f-4422-9d55-372fdaafaad4",
   "metadata": {},
   "outputs": [
    {
     "ename": "TypeError",
     "evalue": "Can't instantiate abstract class Person without an implementation for abstract methods 'eat', 'sleep'",
     "output_type": "error",
     "traceback": [
      "\u001b[31m---------------------------------------------------------------------------\u001b[39m",
      "\u001b[31mTypeError\u001b[39m                                 Traceback (most recent call last)",
      "\u001b[36mCell\u001b[39m\u001b[36m \u001b[39m\u001b[32mIn[116]\u001b[39m\u001b[32m, line 1\u001b[39m\n\u001b[32m----> \u001b[39m\u001b[32m1\u001b[39m pers = \u001b[43mPerson\u001b[49m\u001b[43m(\u001b[49m\u001b[43m)\u001b[49m\n",
      "\u001b[31mTypeError\u001b[39m: Can't instantiate abstract class Person without an implementation for abstract methods 'eat', 'sleep'"
     ]
    }
   ],
   "source": [
    "pers = Person()"
   ]
  },
  {
   "cell_type": "code",
   "execution_count": 117,
   "id": "d4f026b1-077b-4001-a87f-154d9a7737ab",
   "metadata": {},
   "outputs": [],
   "source": [
    "class Student(Person):\n",
    "    def sleep(self):\n",
    "        print(f\"Student.sleep\")\n",
    "\n",
    "\n",
    "class HungryStudent(Student):\n",
    "    def eat(self, food):\n",
    "        print(f\"HungryStudent.eat {food=}\")\n",
    "        return super().eat(food)"
   ]
  },
  {
   "cell_type": "code",
   "execution_count": 111,
   "id": "f1b03b82-aff4-44bb-8fa5-9b48e54b0b27",
   "metadata": {},
   "outputs": [
    {
     "ename": "TypeError",
     "evalue": "Can't instantiate abstract class Student without an implementation for abstract method 'eat'",
     "output_type": "error",
     "traceback": [
      "\u001b[31m---------------------------------------------------------------------------\u001b[39m",
      "\u001b[31mTypeError\u001b[39m                                 Traceback (most recent call last)",
      "\u001b[36mCell\u001b[39m\u001b[36m \u001b[39m\u001b[32mIn[111]\u001b[39m\u001b[32m, line 1\u001b[39m\n\u001b[32m----> \u001b[39m\u001b[32m1\u001b[39m stud = \u001b[43mStudent\u001b[49m\u001b[43m(\u001b[49m\u001b[43m)\u001b[49m\n",
      "\u001b[31mTypeError\u001b[39m: Can't instantiate abstract class Student without an implementation for abstract method 'eat'"
     ]
    }
   ],
   "source": [
    "stud = Student()"
   ]
  },
  {
   "cell_type": "code",
   "execution_count": 118,
   "id": "087ee0e1-2297-40ec-8183-de7b0412b1b7",
   "metadata": {},
   "outputs": [],
   "source": [
    "steve = HungryStudent()"
   ]
  },
  {
   "cell_type": "code",
   "execution_count": 119,
   "id": "1fcdb1e9-91a1-4a75-86c0-4237974a68fd",
   "metadata": {},
   "outputs": [
    {
     "name": "stdout",
     "output_type": "stream",
     "text": [
      "HungryStudent.eat food='apple'\n",
      "Person.eat food='apple'\n"
     ]
    },
    {
     "data": {
      "text/plain": [
       "'tasty'"
      ]
     },
     "execution_count": 119,
     "metadata": {},
     "output_type": "execute_result"
    }
   ],
   "source": [
    "steve.eat(\"apple\")"
   ]
  },
  {
   "cell_type": "code",
   "execution_count": 120,
   "id": "e7514dde-592e-4248-a031-56d582275fb3",
   "metadata": {},
   "outputs": [
    {
     "name": "stdout",
     "output_type": "stream",
     "text": [
      "Person.study self=<__main__.HungryStudent object at 0x110bd1be0> food='pear'\n",
      "HungryStudent.eat food='pear'\n",
      "Person.eat food='pear'\n",
      "tasty\n",
      "Student.sleep\n"
     ]
    }
   ],
   "source": [
    "steve.study(\"pear\")"
   ]
  },
  {
   "cell_type": "code",
   "execution_count": null,
   "id": "20576279-7a77-4d13-866b-a35c56e2249e",
   "metadata": {},
   "outputs": [],
   "source": []
  },
  {
   "cell_type": "code",
   "execution_count": 121,
   "id": "97e941fb-659f-439f-abe3-095c51933456",
   "metadata": {},
   "outputs": [
    {
     "data": {
      "text/plain": [
       "mappingproxy({'__module__': '__main__',\n",
       "              '__firstlineno__': 6,\n",
       "              'eat': <function __main__.HungryStudent.eat(self, food)>,\n",
       "              '__static_attributes__': (),\n",
       "              '__doc__': None,\n",
       "              '__abstractmethods__': frozenset(),\n",
       "              '_abc_impl': <_abc._abc_data at 0x111066980>})"
      ]
     },
     "execution_count": 121,
     "metadata": {},
     "output_type": "execute_result"
    }
   ],
   "source": [
    "HungryStudent.__dict__"
   ]
  },
  {
   "cell_type": "code",
   "execution_count": 122,
   "id": "f2b5f27f-cf8e-4ce6-900b-b0562b75ddbe",
   "metadata": {},
   "outputs": [
    {
     "data": {
      "text/plain": [
       "mappingproxy({'__module__': '__main__',\n",
       "              '__firstlineno__': 1,\n",
       "              'eat': <function __main__.Person.eat(self, food)>,\n",
       "              'sleep': <function __main__.Person.sleep(self)>,\n",
       "              'study': <function __main__.Person.study(self, food)>,\n",
       "              '__static_attributes__': (),\n",
       "              '__dict__': <attribute '__dict__' of 'Person' objects>,\n",
       "              '__weakref__': <attribute '__weakref__' of 'Person' objects>,\n",
       "              '__doc__': None,\n",
       "              '__abstractmethods__': frozenset({'eat', 'sleep'}),\n",
       "              '_abc_impl': <_abc._abc_data at 0x11163bf00>})"
      ]
     },
     "execution_count": 122,
     "metadata": {},
     "output_type": "execute_result"
    }
   ],
   "source": [
    "Person.__dict__"
   ]
  },
  {
   "cell_type": "code",
   "execution_count": 123,
   "id": "6c59db53-551a-4300-955c-da7cab441d77",
   "metadata": {},
   "outputs": [
    {
     "data": {
      "text/plain": [
       "(True, False)"
      ]
     },
     "execution_count": 123,
     "metadata": {},
     "output_type": "execute_result"
    }
   ],
   "source": [
    "isinstance(steve, Person), isinstance([1, 2, 3], Person)"
   ]
  },
  {
   "cell_type": "code",
   "execution_count": 124,
   "id": "96f9173d-f1dd-4823-bdb4-504710a1de47",
   "metadata": {},
   "outputs": [
    {
     "data": {
      "text/plain": [
       "list"
      ]
     },
     "execution_count": 124,
     "metadata": {},
     "output_type": "execute_result"
    }
   ],
   "source": [
    "Person.register(list)"
   ]
  },
  {
   "cell_type": "code",
   "execution_count": 125,
   "id": "a8ab8c5e-21c4-416a-8e45-5dc33f27abd9",
   "metadata": {},
   "outputs": [
    {
     "data": {
      "text/plain": [
       "(True, True)"
      ]
     },
     "execution_count": 125,
     "metadata": {},
     "output_type": "execute_result"
    }
   ],
   "source": [
    "isinstance(steve, Person), isinstance([1, 2, 3], Person)"
   ]
  },
  {
   "cell_type": "code",
   "execution_count": null,
   "id": "12b6b591-7a36-4557-a9a9-8647a4c92ec9",
   "metadata": {},
   "outputs": [],
   "source": []
  },
  {
   "cell_type": "code",
   "execution_count": null,
   "id": "86066b00-a113-4567-9baa-e867a85fbed9",
   "metadata": {},
   "outputs": [],
   "source": []
  },
  {
   "cell_type": "code",
   "execution_count": 129,
   "id": "6bc2a76b-60f0-4cb5-9c50-ac280d8346c3",
   "metadata": {},
   "outputs": [
    {
     "name": "stdout",
     "output_type": "stream",
     "text": [
      "Predictable.hook cls=<class '__main__.Predictable'>, C=<class '__main__.TreeModel'>\n",
      "Predictable.hook cls=<class '__main__.Predictable'>, C=<class '__main__.TrafficLight'>\n",
      "True False\n"
     ]
    }
   ],
   "source": [
    "class Predictable(metaclass=ABCMeta):\n",
    "    @abstractmethod\n",
    "    def predict(self):\n",
    "        pass\n",
    "\n",
    "    @classmethod\n",
    "    def __subclasshook__(cls, C):\n",
    "        print(f\"Predictable.hook {cls=}, {C=}\")\n",
    "\n",
    "        if cls is not Predictable:\n",
    "            return NotImplemented\n",
    "\n",
    "        name = \"predict\"\n",
    "        for class_ in C.__mro__:\n",
    "            if name in class_.__dict__ and callable(class_.__dict__[name]):\n",
    "                return True\n",
    "\n",
    "        return NotImplemented\n",
    "\n",
    "\n",
    "class TreeModel:\n",
    "    def predict(self):\n",
    "        pass\n",
    "\n",
    "\n",
    "class TrafficLight:\n",
    "    predict = \"green\"\n",
    "\n",
    "\n",
    "tree = TreeModel()\n",
    "traffic = TrafficLight()\n",
    "\n",
    "print(\n",
    "    isinstance(tree, (Predictable, int, str)),  # issubclass(tree.__class__, Predictable)\n",
    "    isinstance(traffic, (Predictable, int, str)),\n",
    ")"
   ]
  },
  {
   "cell_type": "code",
   "execution_count": 130,
   "id": "fc5ff98f-75ec-408c-99fc-a56c83430825",
   "metadata": {},
   "outputs": [
    {
     "name": "stdout",
     "output_type": "stream",
     "text": [
      "True False\n"
     ]
    }
   ],
   "source": [
    "print(\n",
    "    isinstance(tree, Predictable),\n",
    "    isinstance(traffic, Predictable),\n",
    ")"
   ]
  },
  {
   "cell_type": "code",
   "execution_count": null,
   "id": "e3bffae9-fc76-4c50-be39-f9b4a1b52e1f",
   "metadata": {},
   "outputs": [],
   "source": []
  },
  {
   "cell_type": "code",
   "execution_count": null,
   "id": "729b8183-17e8-415f-83f4-24154194d94a",
   "metadata": {},
   "outputs": [],
   "source": []
  },
  {
   "cell_type": "code",
   "execution_count": null,
   "id": "d606859f-623a-4e3a-b2ca-2bc4e9a9d45a",
   "metadata": {},
   "outputs": [],
   "source": []
  },
  {
   "cell_type": "code",
   "execution_count": 134,
   "id": "6393340b-609f-43b5-b154-65302910a254",
   "metadata": {},
   "outputs": [
    {
     "name": "stdout",
     "output_type": "stream",
     "text": [
      "Predictable.hook cls=<class '__main__.Predictable'>, C=<class '__main__.TreeModel'>\n",
      "Predictable.hook cls=<class '__main__.Predictable'>, C=<class '__main__.TrafficLight'>\n",
      "TrainPredictable.hook cls=<class '__main__.TrainPredictable'>, C=<class '__main__.TrafficLight'>\n",
      "Predictable.hook cls=<class '__main__.Predictable'>, C=<class '__main__.RandomForest'>\n",
      "TrainPredictable.hook cls=<class '__main__.TrainPredictable'>, C=<class '__main__.TreeModel'>\n",
      "TrainPredictable.hook cls=<class '__main__.TrainPredictable'>, C=<class '__main__.RandomForest'>\n",
      "True False True False False True\n"
     ]
    }
   ],
   "source": [
    "class Predictable(metaclass=ABCMeta):\n",
    "    @abstractmethod\n",
    "    def predict(self):\n",
    "        pass\n",
    "\n",
    "    @classmethod\n",
    "    def __subclasshook__(cls, C):\n",
    "        print(f\"Predictable.hook {cls=}, {C=}\")\n",
    "\n",
    "        if cls is not Predictable:\n",
    "            return NotImplemented\n",
    "\n",
    "        name = \"predict\"\n",
    "        for class_ in C.__mro__:\n",
    "            if name in class_.__dict__ and callable(class_.__dict__[name]):\n",
    "                return True\n",
    "\n",
    "        return NotImplemented\n",
    "\n",
    "\n",
    "class TrainPredictable(Predictable):\n",
    "    @abstractmethod\n",
    "    def train(self):\n",
    "        pass\n",
    "\n",
    "    @classmethod\n",
    "    def __subclasshook__(cls, C):\n",
    "        print(f\"TrainPredictable.hook {cls=}, {C=}\")\n",
    "\n",
    "        if cls is not TrainPredictable:\n",
    "            return NotImplemented\n",
    "\n",
    "        for name in (\"predict\", \"train\"):\n",
    "            for class_ in C.__mro__:\n",
    "                if name in class_.__dict__ and callable(class_.__dict__[name]):\n",
    "                    break\n",
    "            else:\n",
    "                return NotImplemented\n",
    "\n",
    "        return True\n",
    "\n",
    "\n",
    "class TreeModel:\n",
    "    def predict(self):\n",
    "        pass\n",
    "\n",
    "\n",
    "class RandomForest(TreeModel):\n",
    "    def train(self):\n",
    "        pass\n",
    "\n",
    "\n",
    "class TrafficLight:\n",
    "    predict = \"green\"\n",
    "\n",
    "\n",
    "tree = TreeModel()\n",
    "traffic = TrafficLight()\n",
    "forest = RandomForest()\n",
    "\n",
    "print(\n",
    "    isinstance(tree, Predictable),\n",
    "    isinstance(traffic, Predictable),\n",
    "    isinstance(forest, Predictable),\n",
    "    isinstance(tree, TrainPredictable),\n",
    "    isinstance(traffic, TrainPredictable),\n",
    "    isinstance(forest, TrainPredictable),\n",
    ")"
   ]
  },
  {
   "cell_type": "code",
   "execution_count": null,
   "id": "abb0760e-982f-4561-b397-5a9477f439f5",
   "metadata": {},
   "outputs": [],
   "source": []
  },
  {
   "cell_type": "code",
   "execution_count": 137,
   "id": "43d8b4bd-31b2-49be-a73a-0fa3c8434e27",
   "metadata": {},
   "outputs": [],
   "source": [
    "import collections.abc as abc"
   ]
  },
  {
   "cell_type": "code",
   "execution_count": 138,
   "id": "2045345d-002e-4fee-bead-d40375bb4dff",
   "metadata": {},
   "outputs": [
    {
     "data": {
      "text/plain": [
       "True"
      ]
     },
     "execution_count": 138,
     "metadata": {},
     "output_type": "execute_result"
    }
   ],
   "source": [
    "isinstance(\"123\", abc.Hashable)"
   ]
  },
  {
   "cell_type": "code",
   "execution_count": 139,
   "id": "1d01f1dc-b767-409d-a140-ec7eb4801d31",
   "metadata": {},
   "outputs": [
    {
     "data": {
      "text/plain": [
       "False"
      ]
     },
     "execution_count": 139,
     "metadata": {},
     "output_type": "execute_result"
    }
   ],
   "source": [
    "isinstance({}, abc.Hashable)"
   ]
  },
  {
   "cell_type": "code",
   "execution_count": 140,
   "id": "d8b6f800-fc2f-48b0-a337-c28a5258e96b",
   "metadata": {},
   "outputs": [
    {
     "data": {
      "text/plain": [
       "True"
      ]
     },
     "execution_count": 140,
     "metadata": {},
     "output_type": "execute_result"
    }
   ],
   "source": [
    "isinstance(Person, abc.Callable)"
   ]
  },
  {
   "cell_type": "code",
   "execution_count": 141,
   "id": "113f322d-6df4-4a2b-a20e-0e4350af8db8",
   "metadata": {},
   "outputs": [
    {
     "data": {
      "text/plain": [
       "True"
      ]
     },
     "execution_count": 141,
     "metadata": {},
     "output_type": "execute_result"
    }
   ],
   "source": [
    "callable(Person)"
   ]
  },
  {
   "cell_type": "code",
   "execution_count": 145,
   "id": "3ea90888-85f5-4a96-9b0b-a7615fceb6b3",
   "metadata": {},
   "outputs": [
    {
     "data": {
      "text/plain": [
       "(True, False)"
      ]
     },
     "execution_count": 145,
     "metadata": {},
     "output_type": "execute_result"
    }
   ],
   "source": [
    "isinstance([], abc.Iterable), isinstance(list, abc.Iterable)"
   ]
  },
  {
   "cell_type": "code",
   "execution_count": 144,
   "id": "27ac67ad-0521-4950-9559-8e432b2a2008",
   "metadata": {},
   "outputs": [
    {
     "data": {
      "text/plain": [
       "(False, False)"
      ]
     },
     "execution_count": 144,
     "metadata": {},
     "output_type": "execute_result"
    }
   ],
   "source": [
    "isinstance(Person, abc.Iterable), isinstance(HungryStudent(), abc.Iterable)"
   ]
  },
  {
   "cell_type": "code",
   "execution_count": null,
   "id": "842c801e-2688-471e-b125-2fcafdf1296d",
   "metadata": {},
   "outputs": [],
   "source": []
  }
 ],
 "metadata": {
  "kernelspec": {
   "display_name": "Python 3 (ipykernel)",
   "language": "python",
   "name": "python3"
  },
  "language_info": {
   "codemirror_mode": {
    "name": "ipython",
    "version": 3
   },
   "file_extension": ".py",
   "mimetype": "text/x-python",
   "name": "python",
   "nbconvert_exporter": "python",
   "pygments_lexer": "ipython3",
   "version": "3.13.2"
  }
 },
 "nbformat": 4,
 "nbformat_minor": 5
}
